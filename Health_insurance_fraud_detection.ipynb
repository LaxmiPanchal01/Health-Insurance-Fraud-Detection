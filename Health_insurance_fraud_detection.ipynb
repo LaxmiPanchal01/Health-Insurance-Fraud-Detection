{
 "cells": [
  {
   "cell_type": "markdown",
   "id": "92eb7c5c",
   "metadata": {},
   "source": [
    "#### IMPORTING REQUIRED LIBRARIES"
   ]
  },
  {
   "cell_type": "code",
   "execution_count": 1,
   "id": "32991fb0",
   "metadata": {},
   "outputs": [],
   "source": [
    "import numpy as np\n",
    "import pandas as pd\n",
    "\n",
    "import matplotlib.pyplot as plt\n",
    "import seaborn as sns\n",
    "\n",
    "import warnings\n",
    "warnings.filterwarnings(\"ignore\") \n",
    "\n",
    "import statsmodels.api as sm\n",
    "from scipy import stats\n",
    "from statsmodels.stats.outliers_influence import variance_inflation_factor\n",
    "\n",
    "#import LogisticRegression from Sklearn\n",
    "from sklearn.linear_model import LogisticRegression\n",
    "from sklearn.tree import DecisionTreeClassifier #import Decision tree\n",
    "import lightgbm as lgb\n",
    "from sklearn.ensemble import RandomForestClassifier #import randomforest Classifier\n",
    "from sklearn.ensemble import AdaBoostClassifier #import adaboostclassifer\n",
    "from sklearn.model_selection import GridSearchCV\n",
    "# for calculating F-1 score(import Scoring metric)\n",
    "from sklearn.metrics import f1_score,classification_report \n",
    "from sklearn.metrics import roc_auc_score\n",
    "from sklearn.metrics import accuracy_score,recall_score,f1_score,classification_report #import Scoring metric"
   ]
  },
  {
   "cell_type": "markdown",
   "id": "0590dc49",
   "metadata": {},
   "source": [
    "#### IMPORT A CSV FILE TO DATAFRAME FORMAT"
   ]
  },
  {
   "cell_type": "code",
   "execution_count": 2,
   "id": "d7becdf7",
   "metadata": {},
   "outputs": [
    {
     "name": "stdout",
     "output_type": "stream",
     "text": [
      "<class 'pandas.core.frame.DataFrame'>\n",
      "RangeIndex: 1048575 entries, 0 to 1048574\n",
      "Data columns (total 24 columns):\n",
      " #   Column                                 Non-Null Count    Dtype  \n",
      "---  ------                                 --------------    -----  \n",
      " 0   Area_Service                           1046119 non-null  object \n",
      " 1   Hospital County                        1046119 non-null  object \n",
      " 2   Hospital Id                            1046119 non-null  float64\n",
      " 3   Age                                    1048575 non-null  object \n",
      " 4   Gender                                 1048575 non-null  object \n",
      " 5   Cultural_group                         1048575 non-null  object \n",
      " 6   ethnicity                              1048575 non-null  object \n",
      " 7   Days_spend_hsptl                       1048575 non-null  object \n",
      " 8   Admission_type                         1048575 non-null  object \n",
      " 9   Home or self care,                     1048575 non-null  object \n",
      " 10  ccs_diagnosis_code                     1048575 non-null  int64  \n",
      " 11  ccs_procedure_code                     1048575 non-null  int64  \n",
      " 12  apr_drg_description                    1048575 non-null  object \n",
      " 13  Code_illness                           1048575 non-null  int64  \n",
      " 14  Mortality risk                         1048533 non-null  float64\n",
      " 15  Surg_Description                       1048575 non-null  object \n",
      " 16  Weight_baby                            1048575 non-null  int64  \n",
      " 17  Abortion                               1048575 non-null  object \n",
      " 18  Emergency dept_yes/No                  1048575 non-null  object \n",
      " 19  Tot_charg                              1048575 non-null  float64\n",
      " 20  Tot_cost                               1048575 non-null  float64\n",
      " 21  ratio_of_total_costs_to_total_charges  1048575 non-null  float64\n",
      " 22  Result                                 1048575 non-null  int64  \n",
      " 23  Payment_Typology                       1048575 non-null  int64  \n",
      "dtypes: float64(5), int64(6), object(13)\n",
      "memory usage: 192.0+ MB\n"
     ]
    }
   ],
   "source": [
    "data = pd.read_csv(r\"C:\\Users\\Hi\\Downloads\\Insurance Dataset.csv\")\n",
    "data.info()"
   ]
  },
  {
   "cell_type": "code",
   "execution_count": 3,
   "id": "677ddc08",
   "metadata": {},
   "outputs": [
    {
     "data": {
      "text/plain": [
       "Area_Service                             2456\n",
       "Hospital County                          2456\n",
       "Hospital Id                              2456\n",
       "Age                                         0\n",
       "Gender                                      0\n",
       "Cultural_group                              0\n",
       "ethnicity                                   0\n",
       "Days_spend_hsptl                            0\n",
       "Admission_type                              0\n",
       "Home or self care,                          0\n",
       "ccs_diagnosis_code                          0\n",
       "ccs_procedure_code                          0\n",
       "apr_drg_description                         0\n",
       "Code_illness                                0\n",
       "Mortality risk                             42\n",
       "Surg_Description                            0\n",
       "Weight_baby                                 0\n",
       "Abortion                                    0\n",
       "Emergency dept_yes/No                       0\n",
       "Tot_charg                                   0\n",
       "Tot_cost                                    0\n",
       "ratio_of_total_costs_to_total_charges       0\n",
       "Result                                      0\n",
       "Payment_Typology                            0\n",
       "dtype: int64"
      ]
     },
     "execution_count": 3,
     "metadata": {},
     "output_type": "execute_result"
    }
   ],
   "source": [
    "## Check for null values\n",
    "data.isnull().sum()"
   ]
  },
  {
   "cell_type": "code",
   "execution_count": 4,
   "id": "e721761e",
   "metadata": {},
   "outputs": [
    {
     "data": {
      "text/plain": [
       "(1048575, 24)"
      ]
     },
     "execution_count": 4,
     "metadata": {},
     "output_type": "execute_result"
    }
   ],
   "source": [
    "## show no. of rows and columns\n",
    "data.shape"
   ]
  },
  {
   "cell_type": "code",
   "execution_count": 5,
   "id": "46ee3720",
   "metadata": {},
   "outputs": [
    {
     "data": {
      "text/plain": [
       "Index(['Area_Service', 'Hospital County', 'Hospital Id', 'Age', 'Gender',\n",
       "       'Cultural_group', 'ethnicity', 'Days_spend_hsptl', 'Admission_type',\n",
       "       'Home or self care,', 'ccs_diagnosis_code', 'ccs_procedure_code',\n",
       "       'apr_drg_description', 'Code_illness', 'Mortality risk',\n",
       "       'Surg_Description', 'Weight_baby', 'Abortion', 'Emergency dept_yes/No',\n",
       "       'Tot_charg', 'Tot_cost', 'ratio_of_total_costs_to_total_charges',\n",
       "       'Result', 'Payment_Typology'],\n",
       "      dtype='object')"
      ]
     },
     "execution_count": 5,
     "metadata": {},
     "output_type": "execute_result"
    }
   ],
   "source": [
    "## show all columns in dataframe\n",
    "data.columns"
   ]
  },
  {
   "cell_type": "code",
   "execution_count": 6,
   "id": "45dba60b",
   "metadata": {},
   "outputs": [
    {
     "data": {
      "text/plain": [
       "Area_Service                              object\n",
       "Hospital County                           object\n",
       "Hospital Id                              float64\n",
       "Age                                       object\n",
       "Gender                                    object\n",
       "Cultural_group                            object\n",
       "ethnicity                                 object\n",
       "Days_spend_hsptl                          object\n",
       "Admission_type                            object\n",
       "Home or self care,                        object\n",
       "ccs_diagnosis_code                         int64\n",
       "ccs_procedure_code                         int64\n",
       "apr_drg_description                       object\n",
       "Code_illness                               int64\n",
       "Mortality risk                           float64\n",
       "Surg_Description                          object\n",
       "Weight_baby                                int64\n",
       "Abortion                                  object\n",
       "Emergency dept_yes/No                     object\n",
       "Tot_charg                                float64\n",
       "Tot_cost                                 float64\n",
       "ratio_of_total_costs_to_total_charges    float64\n",
       "Result                                     int64\n",
       "Payment_Typology                           int64\n",
       "dtype: object"
      ]
     },
     "execution_count": 6,
     "metadata": {},
     "output_type": "execute_result"
    }
   ],
   "source": [
    "## show data type of each variable\n",
    "data.dtypes"
   ]
  },
  {
   "cell_type": "code",
   "execution_count": 7,
   "id": "aabf2e45",
   "metadata": {},
   "outputs": [
    {
     "data": {
      "text/html": [
       "<div>\n",
       "<style scoped>\n",
       "    .dataframe tbody tr th:only-of-type {\n",
       "        vertical-align: middle;\n",
       "    }\n",
       "\n",
       "    .dataframe tbody tr th {\n",
       "        vertical-align: top;\n",
       "    }\n",
       "\n",
       "    .dataframe thead th {\n",
       "        text-align: right;\n",
       "    }\n",
       "</style>\n",
       "<table border=\"1\" class=\"dataframe\">\n",
       "  <thead>\n",
       "    <tr style=\"text-align: right;\">\n",
       "      <th></th>\n",
       "      <th>Hospital Id</th>\n",
       "      <th>ccs_diagnosis_code</th>\n",
       "      <th>ccs_procedure_code</th>\n",
       "      <th>Code_illness</th>\n",
       "      <th>Mortality risk</th>\n",
       "      <th>Weight_baby</th>\n",
       "      <th>Tot_charg</th>\n",
       "      <th>Tot_cost</th>\n",
       "      <th>ratio_of_total_costs_to_total_charges</th>\n",
       "      <th>Result</th>\n",
       "      <th>Payment_Typology</th>\n",
       "    </tr>\n",
       "  </thead>\n",
       "  <tbody>\n",
       "    <tr>\n",
       "      <th>count</th>\n",
       "      <td>1.046119e+06</td>\n",
       "      <td>1.048575e+06</td>\n",
       "      <td>1.048575e+06</td>\n",
       "      <td>1.048575e+06</td>\n",
       "      <td>1.048533e+06</td>\n",
       "      <td>1.048575e+06</td>\n",
       "      <td>1.048575e+06</td>\n",
       "      <td>1.048575e+06</td>\n",
       "      <td>1.048575e+06</td>\n",
       "      <td>1.048575e+06</td>\n",
       "      <td>1.048575e+06</td>\n",
       "    </tr>\n",
       "    <tr>\n",
       "      <th>mean</th>\n",
       "      <td>6.529400e+02</td>\n",
       "      <td>1.987936e+02</td>\n",
       "      <td>9.723249e+01</td>\n",
       "      <td>2.051806e+00</td>\n",
       "      <td>1.748955e+00</td>\n",
       "      <td>2.935512e+02</td>\n",
       "      <td>2.708697e+04</td>\n",
       "      <td>1.046399e+04</td>\n",
       "      <td>4.565822e-01</td>\n",
       "      <td>7.499769e-01</td>\n",
       "      <td>1.935755e+00</td>\n",
       "    </tr>\n",
       "    <tr>\n",
       "      <th>std</th>\n",
       "      <td>6.711577e+02</td>\n",
       "      <td>1.652839e+02</td>\n",
       "      <td>8.732697e+01</td>\n",
       "      <td>9.145785e-01</td>\n",
       "      <td>9.864236e-01</td>\n",
       "      <td>9.494631e+02</td>\n",
       "      <td>5.487428e+04</td>\n",
       "      <td>2.230366e+04</td>\n",
       "      <td>8.029246e-01</td>\n",
       "      <td>4.330263e-01</td>\n",
       "      <td>7.717916e-01</td>\n",
       "    </tr>\n",
       "    <tr>\n",
       "      <th>min</th>\n",
       "      <td>1.000000e+00</td>\n",
       "      <td>1.000000e+00</td>\n",
       "      <td>0.000000e+00</td>\n",
       "      <td>0.000000e+00</td>\n",
       "      <td>1.000000e+00</td>\n",
       "      <td>0.000000e+00</td>\n",
       "      <td>3.100000e-01</td>\n",
       "      <td>1.000000e-01</td>\n",
       "      <td>3.312909e-02</td>\n",
       "      <td>0.000000e+00</td>\n",
       "      <td>1.000000e+00</td>\n",
       "    </tr>\n",
       "    <tr>\n",
       "      <th>25%</th>\n",
       "      <td>2.130000e+02</td>\n",
       "      <td>1.080000e+02</td>\n",
       "      <td>0.000000e+00</td>\n",
       "      <td>1.000000e+00</td>\n",
       "      <td>1.000000e+00</td>\n",
       "      <td>0.000000e+00</td>\n",
       "      <td>7.402500e+03</td>\n",
       "      <td>3.234570e+03</td>\n",
       "      <td>3.135802e-01</td>\n",
       "      <td>0.000000e+00</td>\n",
       "      <td>1.000000e+00</td>\n",
       "    </tr>\n",
       "    <tr>\n",
       "      <th>50%</th>\n",
       "      <td>6.300000e+02</td>\n",
       "      <td>1.590000e+02</td>\n",
       "      <td>9.000000e+01</td>\n",
       "      <td>2.000000e+00</td>\n",
       "      <td>1.000000e+00</td>\n",
       "      <td>0.000000e+00</td>\n",
       "      <td>1.458988e+04</td>\n",
       "      <td>5.928480e+03</td>\n",
       "      <td>4.091384e-01</td>\n",
       "      <td>1.000000e+00</td>\n",
       "      <td>2.000000e+00</td>\n",
       "    </tr>\n",
       "    <tr>\n",
       "      <th>75%</th>\n",
       "      <td>9.770000e+02</td>\n",
       "      <td>2.180000e+02</td>\n",
       "      <td>1.740000e+02</td>\n",
       "      <td>3.000000e+00</td>\n",
       "      <td>3.000000e+00</td>\n",
       "      <td>0.000000e+00</td>\n",
       "      <td>2.914547e+04</td>\n",
       "      <td>1.134317e+04</td>\n",
       "      <td>5.192548e-01</td>\n",
       "      <td>1.000000e+00</td>\n",
       "      <td>3.000000e+00</td>\n",
       "    </tr>\n",
       "    <tr>\n",
       "      <th>max</th>\n",
       "      <td>9.250000e+03</td>\n",
       "      <td>6.700000e+02</td>\n",
       "      <td>2.310000e+02</td>\n",
       "      <td>4.000000e+00</td>\n",
       "      <td>4.000000e+00</td>\n",
       "      <td>9.000000e+03</td>\n",
       "      <td>6.196974e+06</td>\n",
       "      <td>2.562478e+06</td>\n",
       "      <td>1.575596e+02</td>\n",
       "      <td>1.000000e+00</td>\n",
       "      <td>5.000000e+00</td>\n",
       "    </tr>\n",
       "  </tbody>\n",
       "</table>\n",
       "</div>"
      ],
      "text/plain": [
       "        Hospital Id  ccs_diagnosis_code  ccs_procedure_code  Code_illness  \\\n",
       "count  1.046119e+06        1.048575e+06        1.048575e+06  1.048575e+06   \n",
       "mean   6.529400e+02        1.987936e+02        9.723249e+01  2.051806e+00   \n",
       "std    6.711577e+02        1.652839e+02        8.732697e+01  9.145785e-01   \n",
       "min    1.000000e+00        1.000000e+00        0.000000e+00  0.000000e+00   \n",
       "25%    2.130000e+02        1.080000e+02        0.000000e+00  1.000000e+00   \n",
       "50%    6.300000e+02        1.590000e+02        9.000000e+01  2.000000e+00   \n",
       "75%    9.770000e+02        2.180000e+02        1.740000e+02  3.000000e+00   \n",
       "max    9.250000e+03        6.700000e+02        2.310000e+02  4.000000e+00   \n",
       "\n",
       "       Mortality risk   Weight_baby     Tot_charg      Tot_cost  \\\n",
       "count    1.048533e+06  1.048575e+06  1.048575e+06  1.048575e+06   \n",
       "mean     1.748955e+00  2.935512e+02  2.708697e+04  1.046399e+04   \n",
       "std      9.864236e-01  9.494631e+02  5.487428e+04  2.230366e+04   \n",
       "min      1.000000e+00  0.000000e+00  3.100000e-01  1.000000e-01   \n",
       "25%      1.000000e+00  0.000000e+00  7.402500e+03  3.234570e+03   \n",
       "50%      1.000000e+00  0.000000e+00  1.458988e+04  5.928480e+03   \n",
       "75%      3.000000e+00  0.000000e+00  2.914547e+04  1.134317e+04   \n",
       "max      4.000000e+00  9.000000e+03  6.196974e+06  2.562478e+06   \n",
       "\n",
       "       ratio_of_total_costs_to_total_charges        Result  Payment_Typology  \n",
       "count                           1.048575e+06  1.048575e+06      1.048575e+06  \n",
       "mean                            4.565822e-01  7.499769e-01      1.935755e+00  \n",
       "std                             8.029246e-01  4.330263e-01      7.717916e-01  \n",
       "min                             3.312909e-02  0.000000e+00      1.000000e+00  \n",
       "25%                             3.135802e-01  0.000000e+00      1.000000e+00  \n",
       "50%                             4.091384e-01  1.000000e+00      2.000000e+00  \n",
       "75%                             5.192548e-01  1.000000e+00      3.000000e+00  \n",
       "max                             1.575596e+02  1.000000e+00      5.000000e+00  "
      ]
     },
     "execution_count": 7,
     "metadata": {},
     "output_type": "execute_result"
    }
   ],
   "source": [
    "## show description of the data in the DataFrame\n",
    "data.describe()"
   ]
  },
  {
   "cell_type": "code",
   "execution_count": 8,
   "id": "7e553d14",
   "metadata": {},
   "outputs": [],
   "source": [
    "data['Result']=data['Result'].replace({0:1,1:0})\n"
   ]
  },
  {
   "cell_type": "markdown",
   "id": "6660298c",
   "metadata": {},
   "source": [
    "### Assigning X as predictors and y as target"
   ]
  },
  {
   "cell_type": "code",
   "execution_count": 9,
   "id": "74f2eb1e",
   "metadata": {},
   "outputs": [],
   "source": [
    "X = data.drop([\"Result\"],axis=1)  #predictors\n",
    "y = data[\"Result\"] #target"
   ]
  },
  {
   "cell_type": "markdown",
   "id": "f6ec20af",
   "metadata": {},
   "source": [
    "### Train-Test Split"
   ]
  },
  {
   "cell_type": "code",
   "execution_count": 13,
   "id": "5d04133b",
   "metadata": {},
   "outputs": [],
   "source": [
    "from sklearn.model_selection import train_test_split\n",
    "\n",
    "# Split dataset into train and test sets (80/20 split)\n",
    "X_train, X_test, y_train, y_test = train_test_split(X, y, test_size=0.2, random_state=42, stratify=y)\n",
    "\n",
    "# Split train set into train and validation sets (75/25 split)\n",
    "# X_train, X_valid, y_train, y_valid = train_test_split(X_train_test, y_train_test, test_size=0.25, random_state=42, stratify=y_train_test)\n"
   ]
  },
  {
   "cell_type": "code",
   "execution_count": 14,
   "id": "e984d398",
   "metadata": {},
   "outputs": [],
   "source": [
    "# Define column names for X_test based on the original dataset X\n",
    "columns = list(X.columns)\n",
    "\n",
    "# Convert test data to pandas dataframe\n",
    "test_df = pd.DataFrame(X_test, columns=columns)\n",
    "\n",
    "# Add target variable to test dataframe\n",
    "test_df['Result'] = y_test\n",
    "\n",
    "# Save test dataframe to CSV file\n",
    "test_df.to_csv('TestData.csv', index=False)\n"
   ]
  },
  {
   "cell_type": "code",
   "execution_count": 15,
   "id": "01c7deeb",
   "metadata": {},
   "outputs": [],
   "source": [
    "# Define column names for X_test based on the original dataset X\n",
    "columns = list(X.columns)\n",
    "\n",
    "# Convert test data to pandas dataframe\n",
    "train_df = pd.DataFrame(X_train, columns=columns)\n",
    "\n",
    "# Add target variable to test dataframe\n",
    "train_df['Result'] = y_train\n",
    "\n",
    "# Save test dataframe to CSV file\n",
    "train_df.to_csv('TrainData.csv', index=False)\n"
   ]
  },
  {
   "cell_type": "code",
   "execution_count": 16,
   "id": "c80326ef",
   "metadata": {
    "scrolled": true
   },
   "outputs": [
    {
     "data": {
      "text/html": [
       "<div>\n",
       "<style scoped>\n",
       "    .dataframe tbody tr th:only-of-type {\n",
       "        vertical-align: middle;\n",
       "    }\n",
       "\n",
       "    .dataframe tbody tr th {\n",
       "        vertical-align: top;\n",
       "    }\n",
       "\n",
       "    .dataframe thead th {\n",
       "        text-align: right;\n",
       "    }\n",
       "</style>\n",
       "<table border=\"1\" class=\"dataframe\">\n",
       "  <thead>\n",
       "    <tr style=\"text-align: right;\">\n",
       "      <th></th>\n",
       "      <th>Area_Service</th>\n",
       "      <th>Hospital County</th>\n",
       "      <th>Hospital Id</th>\n",
       "      <th>Age</th>\n",
       "      <th>Gender</th>\n",
       "      <th>Cultural_group</th>\n",
       "      <th>ethnicity</th>\n",
       "      <th>Days_spend_hsptl</th>\n",
       "      <th>Admission_type</th>\n",
       "      <th>Home or self care,</th>\n",
       "      <th>...</th>\n",
       "      <th>Mortality risk</th>\n",
       "      <th>Surg_Description</th>\n",
       "      <th>Weight_baby</th>\n",
       "      <th>Abortion</th>\n",
       "      <th>Emergency dept_yes/No</th>\n",
       "      <th>Tot_charg</th>\n",
       "      <th>Tot_cost</th>\n",
       "      <th>ratio_of_total_costs_to_total_charges</th>\n",
       "      <th>Payment_Typology</th>\n",
       "      <th>Result</th>\n",
       "    </tr>\n",
       "  </thead>\n",
       "  <tbody>\n",
       "    <tr>\n",
       "      <th>0</th>\n",
       "      <td>Central NY</td>\n",
       "      <td>Onondaga</td>\n",
       "      <td>636.0</td>\n",
       "      <td>50 to 69</td>\n",
       "      <td>M</td>\n",
       "      <td>White</td>\n",
       "      <td>Not Span/Hispanic</td>\n",
       "      <td>5</td>\n",
       "      <td>Elective</td>\n",
       "      <td>Home or Self Care</td>\n",
       "      <td>...</td>\n",
       "      <td>1.0</td>\n",
       "      <td>Medical</td>\n",
       "      <td>0</td>\n",
       "      <td>N</td>\n",
       "      <td>N</td>\n",
       "      <td>8990.22</td>\n",
       "      <td>4801.74</td>\n",
       "      <td>0.534107</td>\n",
       "      <td>1</td>\n",
       "      <td>1</td>\n",
       "    </tr>\n",
       "    <tr>\n",
       "      <th>1</th>\n",
       "      <td>Western NY</td>\n",
       "      <td>Erie</td>\n",
       "      <td>210.0</td>\n",
       "      <td>50 to 69</td>\n",
       "      <td>M</td>\n",
       "      <td>White</td>\n",
       "      <td>Not Span/Hispanic</td>\n",
       "      <td>6</td>\n",
       "      <td>Emergency</td>\n",
       "      <td>Another Type Not Listed</td>\n",
       "      <td>...</td>\n",
       "      <td>2.0</td>\n",
       "      <td>Medical</td>\n",
       "      <td>0</td>\n",
       "      <td>N</td>\n",
       "      <td>Y</td>\n",
       "      <td>11604.62</td>\n",
       "      <td>7420.40</td>\n",
       "      <td>0.639435</td>\n",
       "      <td>2</td>\n",
       "      <td>0</td>\n",
       "    </tr>\n",
       "    <tr>\n",
       "      <th>2</th>\n",
       "      <td>Hudson Valley</td>\n",
       "      <td>Westchester</td>\n",
       "      <td>1122.0</td>\n",
       "      <td>0 to 17</td>\n",
       "      <td>F</td>\n",
       "      <td>Other Race</td>\n",
       "      <td>Unknown</td>\n",
       "      <td>2</td>\n",
       "      <td>Newborn</td>\n",
       "      <td>Home or Self Care</td>\n",
       "      <td>...</td>\n",
       "      <td>1.0</td>\n",
       "      <td>Medical</td>\n",
       "      <td>3400</td>\n",
       "      <td>N</td>\n",
       "      <td>N</td>\n",
       "      <td>3072.25</td>\n",
       "      <td>947.56</td>\n",
       "      <td>0.308424</td>\n",
       "      <td>3</td>\n",
       "      <td>0</td>\n",
       "    </tr>\n",
       "    <tr>\n",
       "      <th>3</th>\n",
       "      <td>Western NY</td>\n",
       "      <td>Erie</td>\n",
       "      <td>3067.0</td>\n",
       "      <td>0 to 17</td>\n",
       "      <td>F</td>\n",
       "      <td>White</td>\n",
       "      <td>Not Span/Hispanic</td>\n",
       "      <td>3</td>\n",
       "      <td>Newborn</td>\n",
       "      <td>Home or Self Care</td>\n",
       "      <td>...</td>\n",
       "      <td>1.0</td>\n",
       "      <td>Medical</td>\n",
       "      <td>4000</td>\n",
       "      <td>N</td>\n",
       "      <td>N</td>\n",
       "      <td>3906.92</td>\n",
       "      <td>2048.56</td>\n",
       "      <td>0.524342</td>\n",
       "      <td>2</td>\n",
       "      <td>0</td>\n",
       "    </tr>\n",
       "    <tr>\n",
       "      <th>4</th>\n",
       "      <td>New York City</td>\n",
       "      <td>Bronx</td>\n",
       "      <td>1168.0</td>\n",
       "      <td>50 to 69</td>\n",
       "      <td>M</td>\n",
       "      <td>Black/African American</td>\n",
       "      <td>Not Span/Hispanic</td>\n",
       "      <td>5</td>\n",
       "      <td>Emergency</td>\n",
       "      <td>Home w/ Home Health Services</td>\n",
       "      <td>...</td>\n",
       "      <td>3.0</td>\n",
       "      <td>Medical</td>\n",
       "      <td>0</td>\n",
       "      <td>N</td>\n",
       "      <td>Y</td>\n",
       "      <td>44588.10</td>\n",
       "      <td>9461.28</td>\n",
       "      <td>0.212193</td>\n",
       "      <td>2</td>\n",
       "      <td>1</td>\n",
       "    </tr>\n",
       "    <tr>\n",
       "      <th>...</th>\n",
       "      <td>...</td>\n",
       "      <td>...</td>\n",
       "      <td>...</td>\n",
       "      <td>...</td>\n",
       "      <td>...</td>\n",
       "      <td>...</td>\n",
       "      <td>...</td>\n",
       "      <td>...</td>\n",
       "      <td>...</td>\n",
       "      <td>...</td>\n",
       "      <td>...</td>\n",
       "      <td>...</td>\n",
       "      <td>...</td>\n",
       "      <td>...</td>\n",
       "      <td>...</td>\n",
       "      <td>...</td>\n",
       "      <td>...</td>\n",
       "      <td>...</td>\n",
       "      <td>...</td>\n",
       "      <td>...</td>\n",
       "      <td>...</td>\n",
       "    </tr>\n",
       "    <tr>\n",
       "      <th>838855</th>\n",
       "      <td>Hudson Valley</td>\n",
       "      <td>Rockland</td>\n",
       "      <td>776.0</td>\n",
       "      <td>70 or Older</td>\n",
       "      <td>F</td>\n",
       "      <td>Black/African American</td>\n",
       "      <td>Not Span/Hispanic</td>\n",
       "      <td>3</td>\n",
       "      <td>Emergency</td>\n",
       "      <td>Home or Self Care</td>\n",
       "      <td>...</td>\n",
       "      <td>3.0</td>\n",
       "      <td>Medical</td>\n",
       "      <td>0</td>\n",
       "      <td>N</td>\n",
       "      <td>Y</td>\n",
       "      <td>19334.31</td>\n",
       "      <td>4052.27</td>\n",
       "      <td>0.209590</td>\n",
       "      <td>2</td>\n",
       "      <td>0</td>\n",
       "    </tr>\n",
       "    <tr>\n",
       "      <th>838856</th>\n",
       "      <td>Finger Lakes</td>\n",
       "      <td>Monroe</td>\n",
       "      <td>409.0</td>\n",
       "      <td>50 to 69</td>\n",
       "      <td>M</td>\n",
       "      <td>White</td>\n",
       "      <td>Not Span/Hispanic</td>\n",
       "      <td>8</td>\n",
       "      <td>Emergency</td>\n",
       "      <td>Home w/ Home Health Services</td>\n",
       "      <td>...</td>\n",
       "      <td>2.0</td>\n",
       "      <td>Medical</td>\n",
       "      <td>0</td>\n",
       "      <td>N</td>\n",
       "      <td>Y</td>\n",
       "      <td>18326.20</td>\n",
       "      <td>8070.47</td>\n",
       "      <td>0.440379</td>\n",
       "      <td>3</td>\n",
       "      <td>0</td>\n",
       "    </tr>\n",
       "    <tr>\n",
       "      <th>838857</th>\n",
       "      <td>Hudson Valley</td>\n",
       "      <td>Westchester</td>\n",
       "      <td>1129.0</td>\n",
       "      <td>70 or Older</td>\n",
       "      <td>F</td>\n",
       "      <td>White</td>\n",
       "      <td>Not Span/Hispanic</td>\n",
       "      <td>3</td>\n",
       "      <td>Emergency</td>\n",
       "      <td>Skilled Nursing Home</td>\n",
       "      <td>...</td>\n",
       "      <td>2.0</td>\n",
       "      <td>Medical</td>\n",
       "      <td>0</td>\n",
       "      <td>N</td>\n",
       "      <td>Y</td>\n",
       "      <td>12807.98</td>\n",
       "      <td>6835.37</td>\n",
       "      <td>0.533681</td>\n",
       "      <td>2</td>\n",
       "      <td>1</td>\n",
       "    </tr>\n",
       "    <tr>\n",
       "      <th>838858</th>\n",
       "      <td>Capital/Adirond</td>\n",
       "      <td>Warren</td>\n",
       "      <td>1005.0</td>\n",
       "      <td>30 to 49</td>\n",
       "      <td>M</td>\n",
       "      <td>White</td>\n",
       "      <td>Not Span/Hispanic</td>\n",
       "      <td>8</td>\n",
       "      <td>Urgent</td>\n",
       "      <td>Home or Self Care</td>\n",
       "      <td>...</td>\n",
       "      <td>2.0</td>\n",
       "      <td>Medical</td>\n",
       "      <td>0</td>\n",
       "      <td>N</td>\n",
       "      <td>N</td>\n",
       "      <td>20933.82</td>\n",
       "      <td>8294.48</td>\n",
       "      <td>0.396224</td>\n",
       "      <td>2</td>\n",
       "      <td>0</td>\n",
       "    </tr>\n",
       "    <tr>\n",
       "      <th>838859</th>\n",
       "      <td>Central NY</td>\n",
       "      <td>Onondaga</td>\n",
       "      <td>630.0</td>\n",
       "      <td>70 or Older</td>\n",
       "      <td>F</td>\n",
       "      <td>White</td>\n",
       "      <td>Not Span/Hispanic</td>\n",
       "      <td>11</td>\n",
       "      <td>Elective</td>\n",
       "      <td>Skilled Nursing Home</td>\n",
       "      <td>...</td>\n",
       "      <td>3.0</td>\n",
       "      <td>Surgical</td>\n",
       "      <td>0</td>\n",
       "      <td>N</td>\n",
       "      <td>N</td>\n",
       "      <td>96676.23</td>\n",
       "      <td>36101.17</td>\n",
       "      <td>0.373423</td>\n",
       "      <td>3</td>\n",
       "      <td>0</td>\n",
       "    </tr>\n",
       "  </tbody>\n",
       "</table>\n",
       "<p>838860 rows × 24 columns</p>\n",
       "</div>"
      ],
      "text/plain": [
       "           Area_Service Hospital County  Hospital Id          Age Gender  \\\n",
       "0            Central NY        Onondaga        636.0     50 to 69      M   \n",
       "1            Western NY            Erie        210.0     50 to 69      M   \n",
       "2         Hudson Valley     Westchester       1122.0      0 to 17      F   \n",
       "3            Western NY            Erie       3067.0      0 to 17      F   \n",
       "4         New York City           Bronx       1168.0     50 to 69      M   \n",
       "...                 ...             ...          ...          ...    ...   \n",
       "838855    Hudson Valley        Rockland        776.0  70 or Older      F   \n",
       "838856     Finger Lakes          Monroe        409.0     50 to 69      M   \n",
       "838857    Hudson Valley     Westchester       1129.0  70 or Older      F   \n",
       "838858  Capital/Adirond          Warren       1005.0     30 to 49      M   \n",
       "838859       Central NY        Onondaga        630.0  70 or Older      F   \n",
       "\n",
       "                Cultural_group          ethnicity Days_spend_hsptl  \\\n",
       "0                        White  Not Span/Hispanic                5   \n",
       "1                        White  Not Span/Hispanic                6   \n",
       "2                   Other Race            Unknown                2   \n",
       "3                        White  Not Span/Hispanic                3   \n",
       "4       Black/African American  Not Span/Hispanic                5   \n",
       "...                        ...                ...              ...   \n",
       "838855  Black/African American  Not Span/Hispanic                3   \n",
       "838856                   White  Not Span/Hispanic                8   \n",
       "838857                   White  Not Span/Hispanic                3   \n",
       "838858                   White  Not Span/Hispanic                8   \n",
       "838859                   White  Not Span/Hispanic               11   \n",
       "\n",
       "       Admission_type            Home or self care,  ...  Mortality risk  \\\n",
       "0            Elective             Home or Self Care  ...             1.0   \n",
       "1           Emergency       Another Type Not Listed  ...             2.0   \n",
       "2             Newborn             Home or Self Care  ...             1.0   \n",
       "3             Newborn             Home or Self Care  ...             1.0   \n",
       "4           Emergency  Home w/ Home Health Services  ...             3.0   \n",
       "...               ...                           ...  ...             ...   \n",
       "838855      Emergency             Home or Self Care  ...             3.0   \n",
       "838856      Emergency  Home w/ Home Health Services  ...             2.0   \n",
       "838857      Emergency          Skilled Nursing Home  ...             2.0   \n",
       "838858         Urgent             Home or Self Care  ...             2.0   \n",
       "838859       Elective          Skilled Nursing Home  ...             3.0   \n",
       "\n",
       "        Surg_Description Weight_baby  Abortion  Emergency dept_yes/No  \\\n",
       "0                Medical           0         N                      N   \n",
       "1                Medical           0         N                      Y   \n",
       "2                Medical        3400         N                      N   \n",
       "3                Medical        4000         N                      N   \n",
       "4                Medical           0         N                      Y   \n",
       "...                  ...         ...       ...                    ...   \n",
       "838855           Medical           0         N                      Y   \n",
       "838856           Medical           0         N                      Y   \n",
       "838857           Medical           0         N                      Y   \n",
       "838858           Medical           0         N                      N   \n",
       "838859          Surgical           0         N                      N   \n",
       "\n",
       "       Tot_charg  Tot_cost ratio_of_total_costs_to_total_charges  \\\n",
       "0        8990.22   4801.74                              0.534107   \n",
       "1       11604.62   7420.40                              0.639435   \n",
       "2        3072.25    947.56                              0.308424   \n",
       "3        3906.92   2048.56                              0.524342   \n",
       "4       44588.10   9461.28                              0.212193   \n",
       "...          ...       ...                                   ...   \n",
       "838855  19334.31   4052.27                              0.209590   \n",
       "838856  18326.20   8070.47                              0.440379   \n",
       "838857  12807.98   6835.37                              0.533681   \n",
       "838858  20933.82   8294.48                              0.396224   \n",
       "838859  96676.23  36101.17                              0.373423   \n",
       "\n",
       "       Payment_Typology  Result  \n",
       "0                     1       1  \n",
       "1                     2       0  \n",
       "2                     3       0  \n",
       "3                     2       0  \n",
       "4                     2       1  \n",
       "...                 ...     ...  \n",
       "838855                2       0  \n",
       "838856                3       0  \n",
       "838857                2       1  \n",
       "838858                2       0  \n",
       "838859                3       0  \n",
       "\n",
       "[838860 rows x 24 columns]"
      ]
     },
     "execution_count": 16,
     "metadata": {},
     "output_type": "execute_result"
    }
   ],
   "source": [
    "data1=pd.read_csv('TrainData.csv')\n",
    "data1"
   ]
  },
  {
   "cell_type": "markdown",
   "id": "eb1befa0",
   "metadata": {},
   "source": [
    "### EXPLORATORY DATA ANALYSIS "
   ]
  },
  {
   "cell_type": "markdown",
   "id": "3a2ad512",
   "metadata": {},
   "source": [
    "#### Uni-variate Analysis of Numerical Variable"
   ]
  },
  {
   "cell_type": "code",
   "execution_count": 17,
   "id": "a26cc66d",
   "metadata": {
    "scrolled": false
   },
   "outputs": [
    {
     "data": {
      "image/png": "[encoded data removed]",
      "text/plain": [
       "<Figure size 720x360 with 1 Axes>"
      ]
     },
     "metadata": {
      "needs_background": "light"
     },
     "output_type": "display_data"
    },
    {
     "data": {
      "image/png": "[encoded data removed]",
      "text/plain": [
       "<Figure size 360x288 with 1 Axes>"
      ]
     },
     "metadata": {
      "needs_background": "light"
     },
     "output_type": "display_data"
    },
    {
     "data": {
      "image/png": "[encoded data removed]",
      "text/plain": [
       "<Figure size 720x360 with 1 Axes>"
      ]
     },
     "metadata": {
      "needs_background": "light"
     },
     "output_type": "display_data"
    },
    {
     "data": {
      "image/png": "[encoded data removed]",
      "text/plain": [
       "<Figure size 360x288 with 1 Axes>"
      ]
     },
     "metadata": {
      "needs_background": "light"
     },
     "output_type": "display_data"
    },
    {
     "data": {
      "image/png": "[encoded data removed]",
      "text/plain": [
       "<Figure size 720x360 with 1 Axes>"
      ]
     },
     "metadata": {
      "needs_background": "light"
     },
     "output_type": "display_data"
    },
    {
     "data": {
      "image/png": "[encoded data removed]",
      "text/plain": [
       "<Figure size 360x288 with 1 Axes>"
      ]
     },
     "metadata": {
      "needs_background": "light"
     },
     "output_type": "display_data"
    },
    {
     "data": {
      "image/png": "[encoded data removed]",
      "text/plain": [
       "<Figure size 720x360 with 1 Axes>"
      ]
     },
     "metadata": {
      "needs_background": "light"
     },
     "output_type": "display_data"
    },
    {
     "data": {
      "image/png": "[encoded data removed]",
      "text/plain": [
       "<Figure size 360x288 with 1 Axes>"
      ]
     },
     "metadata": {
      "needs_background": "light"
     },
     "output_type": "display_data"
    },
    {
     "data": {
      "image/png": "[encoded data removed]",
      "text/plain": [
       "<Figure size 720x360 with 1 Axes>"
      ]
     },
     "metadata": {
      "needs_background": "light"
     },
     "output_type": "display_data"
    },
    {
     "data": {
      "image/png": "[encoded data removed]",
      "text/plain": [
       "<Figure size 360x288 with 1 Axes>"
      ]
     },
     "metadata": {
      "needs_background": "light"
     },
     "output_type": "display_data"
    },
    {
     "data": {
      "image/png": "[encoded data removed]",
      "text/plain": [
       "<Figure size 720x360 with 1 Axes>"
      ]
     },
     "metadata": {
      "needs_background": "light"
     },
     "output_type": "display_data"
    },
    {
     "data": {
      "image/png": "[encoded data removed]",
      "text/plain": [
       "<Figure size 360x288 with 1 Axes>"
      ]
     },
     "metadata": {
      "needs_background": "light"
     },
     "output_type": "display_data"
    },
    {
     "data": {
      "image/png": "[encoded data removed]",
      "text/plain": [
       "<Figure size 720x360 with 1 Axes>"
      ]
     },
     "metadata": {
      "needs_background": "light"
     },
     "output_type": "display_data"
    },
    {
     "data": {
      "image/png": "[encoded data removed]",
      "text/plain": [
       "<Figure size 360x288 with 1 Axes>"
      ]
     },
     "metadata": {
      "needs_background": "light"
     },
     "output_type": "display_data"
    },
    {
     "data": {
      "image/png": "[encoded data removed]",
      "text/plain": [
       "<Figure size 720x360 with 1 Axes>"
      ]
     },
     "metadata": {
      "needs_background": "light"
     },
     "output_type": "display_data"
    },
    {
     "data": {
      "image/png": "[encoded data removed]",
      "text/plain": [
       "<Figure size 360x288 with 1 Axes>"
      ]
     },
     "metadata": {
      "needs_background": "light"
     },
     "output_type": "display_data"
    },
    {
     "data": {
      "image/png": "[encoded data removed]",
      "text/plain": [
       "<Figure size 720x360 with 1 Axes>"
      ]
     },
     "metadata": {
      "needs_background": "light"
     },
     "output_type": "display_data"
    },
    {
     "data": {
      "image/png": "[encoded data removed]",
      "text/plain": [
       "<Figure size 360x288 with 1 Axes>"
      ]
     },
     "metadata": {
      "needs_background": "light"
     },
     "output_type": "display_data"
    },
    {
     "data": {
      "image/png": "[encoded data removed]",
      "text/plain": [
       "<Figure size 720x360 with 1 Axes>"
      ]
     },
     "metadata": {
      "needs_background": "light"
     },
     "output_type": "display_data"
    },
    {
     "data": {
      "image/png": "[encoded data removed]",
      "text/plain": [
       "<Figure size 360x288 with 1 Axes>"
      ]
     },
     "metadata": {
      "needs_background": "light"
     },
     "output_type": "display_data"
    },
    {
     "data": {
      "image/png": "[encoded data removed]",
      "text/plain": [
       "<Figure size 720x360 with 1 Axes>"
      ]
     },
     "metadata": {
      "needs_background": "light"
     },
     "output_type": "display_data"
    },
    {
     "data": {
      "image/png": "[encoded data removed]",
      "text/plain": [
       "<Figure size 360x288 with 1 Axes>"
      ]
     },
     "metadata": {
      "needs_background": "light"
     },
     "output_type": "display_data"
    }
   ],
   "source": [
    "numerical = data1.select_dtypes(exclude='object')\n",
    "for col in numerical.columns:\n",
    "    #histogram\n",
    "    numerical.hist(column = col,\n",
    "              grid=False,        #Do not include the grid\n",
    "              figsize=(10,5),\n",
    "             color=\"lightblue\",\n",
    "             edgecolor=\"black\",\n",
    "             bins=15)            #(Length,Height) of the plot in inches\n",
    "    plt.show()\n",
    "    #boxplot\n",
    "    numerical.boxplot(column= col,\n",
    "                grid= False,\n",
    "                figsize=(5,4),\n",
    "                notch=True)\n",
    "    plt.show()"
   ]
  },
  {
   "cell_type": "markdown",
   "id": "93d9ee38",
   "metadata": {},
   "source": [
    "#### Uni-variate Analysis of Categorical Variable"
   ]
  },
  {
   "cell_type": "code",
   "execution_count": 18,
   "id": "a08e8438",
   "metadata": {},
   "outputs": [
    {
     "data": {
      "image/png": "[encoded data removed]",
      "text/plain": [
       "<Figure size 432x288 with 1 Axes>"
      ]
     },
     "metadata": {
      "needs_background": "light"
     },
     "output_type": "display_data"
    },
    {
     "data": {
      "image/png": "[encoded data removed]",
      "text/plain": [
       "<Figure size 432x288 with 1 Axes>"
      ]
     },
     "metadata": {
      "needs_background": "light"
     },
     "output_type": "display_data"
    },
    {
     "data": {
      "image/png": "[encoded data removed]",
      "text/plain": [
       "<Figure size 432x288 with 1 Axes>"
      ]
     },
     "metadata": {
      "needs_background": "light"
     },
     "output_type": "display_data"
    },
    {
     "data": {
      "image/png": "[encoded data removed]",
      "text/plain": [
       "<Figure size 432x288 with 1 Axes>"
      ]
     },
     "metadata": {
      "needs_background": "light"
     },
     "output_type": "display_data"
    },
    {
     "data": {
      "image/png": "[encoded data removed]",
      "text/plain": [
       "<Figure size 432x288 with 1 Axes>"
      ]
     },
     "metadata": {
      "needs_background": "light"
     },
     "output_type": "display_data"
    },
    {
     "data": {
      "image/png": "[encoded data removed]",
      "text/plain": [
       "<Figure size 432x288 with 1 Axes>"
      ]
     },
     "metadata": {
      "needs_background": "light"
     },
     "output_type": "display_data"
    },
    {
     "data": {
      "image/png": "[encoded data removed]",
      "text/plain": [
       "<Figure size 432x288 with 1 Axes>"
      ]
     },
     "metadata": {
      "needs_background": "light"
     },
     "output_type": "display_data"
    },
    {
     "data": {
      "image/png": "[encoded data removed]",
      "text/plain": [
       "<Figure size 432x288 with 1 Axes>"
      ]
     },
     "metadata": {
      "needs_background": "light"
     },
     "output_type": "display_data"
    },
    {
     "data": {
      "image/png": "[encoded data removed]",
      "text/plain": [
       "<Figure size 432x288 with 1 Axes>"
      ]
     },
     "metadata": {
      "needs_background": "light"
     },
     "output_type": "display_data"
    },
    {
     "data": {
      "image/png": "[encoded data removed]",
      "text/plain": [
       "<Figure size 432x288 with 1 Axes>"
      ]
     },
     "metadata": {
      "needs_background": "light"
     },
     "output_type": "display_data"
    },
    {
     "data": {
      "image/png": "[encoded data removed]",
      "text/plain": [
       "<Figure size 432x288 with 1 Axes>"
      ]
     },
     "metadata": {
      "needs_background": "light"
     },
     "output_type": "display_data"
    },
    {
     "data": {
      "image/png": "[encoded data removed]",
      "text/plain": [
       "<Figure size 432x288 with 1 Axes>"
      ]
     },
     "metadata": {
      "needs_background": "light"
     },
     "output_type": "display_data"
    },
    {
     "data": {
      "image/png": "[encoded data removed]",
      "text/plain": [
       "<Figure size 432x288 with 1 Axes>"
      ]
     },
     "metadata": {
      "needs_background": "light"
     },
     "output_type": "display_data"
    }
   ],
   "source": [
    "categorical = data1.select_dtypes(include='object')\n",
    "for col in categorical.columns:\n",
    "    #bar_plot\n",
    "    data1[col].value_counts().plot( kind='bar', xlabel=col, ylabel='frequency', color=['lightGreen'],edgecolor=\"black\",)\n",
    "    plt.show()"
   ]
  },
  {
   "cell_type": "markdown",
   "id": "7b6402d4",
   "metadata": {},
   "source": [
    "#### Bi-variate Analysis of Numerical Variable"
   ]
  },
  {
   "cell_type": "code",
   "execution_count": 29,
   "id": "bcab6024",
   "metadata": {},
   "outputs": [],
   "source": [
    "# numerical = data.select_dtypes(include='number')\n",
    "# for col in numerical.columns:\n",
    "#     if col != 'Result': # exclude target variable\n",
    "#         # plot a histogram\n",
    "#         plt.hist(data.loc[data['y'] == 'no', col], alpha=0.5, label='no', color='yellow')\n",
    "#         plt.hist(data.loc[data['y'] == 'yes', col], alpha=0.5, label='yes', color='red')\n",
    "#         plt.xlabel(col)\n",
    "#         plt.ylabel('Frequency')\n",
    "#         plt.legend()\n",
    "#         plt.show()\n",
    "#         # plot a box plot\n",
    "#         sns.boxplot(x='y', y=col, data=data, color='lightblue')\n",
    "#         plt.show()\n",
    "\n"
   ]
  },
  {
   "cell_type": "markdown",
   "id": "f8c98d52",
   "metadata": {},
   "source": [
    "#### Bi-variate Analysis of categorical Variable with Target Variable"
   ]
  },
  {
   "cell_type": "code",
   "execution_count": 30,
   "id": "d9368d28",
   "metadata": {},
   "outputs": [],
   "source": [
    "# categorical = data.select_dtypes(include='object')\n",
    "# for col in categorical.columns:\n",
    "#     if col != 'Result': # exclude target variable\n",
    "        \n",
    "#         # create a crosstab\n",
    "#         cross_tab = pd.crosstab(data[col], data['Result'])\n",
    "#         # calculate proportion\n",
    "#         cross_tab_prop = cross_tab.div(cross_tab.sum(axis=1), axis=0)\n",
    "        \n",
    "#         # plot a stacked bar chart with percentage of proportion\n",
    "#         ax = cross_tab_prop.plot(kind='bar', stacked=True, xlabel=col, ylabel='Proportion', \n",
    "#                                  color=['pink', 'lightblue'], edgecolor=\"black\")\n",
    "#         ax.legend(['no', 'yes'])\n",
    "#         for p in ax.patches:\n",
    "#             width, height = p.get_width(), p.get_height()\n",
    "#             x, y = p.get_xy() \n",
    "#             ax.annotate(f'{height:.0%}', (x + width/2, y + height/2), ha='center', va='center', fontsize=10)\n",
    "#         plt.show()"
   ]
  },
  {
   "cell_type": "markdown",
   "id": "21cbb9d2",
   "metadata": {},
   "source": [
    "#### Correlation heatmap\n"
   ]
  },
  {
   "cell_type": "code",
   "execution_count": 19,
   "id": "3ae9ce90",
   "metadata": {},
   "outputs": [
    {
     "data": {
      "image/png": "[encoded data removed]",
      "text/plain": [
       "<Figure size 720x576 with 2 Axes>"
      ]
     },
     "metadata": {
      "needs_background": "light"
     },
     "output_type": "display_data"
    }
   ],
   "source": [
    "## CORRELATION HEATMAP TO FIND THE RELATION BETWEEN NUMERICAL VARIABLES\n",
    "# Create a heatmap of the correlations with annotations\n",
    "plt.subplots(figsize=(10, 8))\n",
    "sns.heatmap(data1.corr(), cmap=\"cool\", annot=True, fmt=\".2f\")\n",
    "\n",
    "# Set plot title\n",
    "plt.title(\"Correlation Heatmap\")\n",
    "\n",
    "# Show the plot\n",
    "plt.show()"
   ]
  },
  {
   "cell_type": "markdown",
   "id": "9c2506ac",
   "metadata": {},
   "source": [
    "### Data cleaning and preprocessing"
   ]
  },
  {
   "cell_type": "code",
   "execution_count": 20,
   "id": "08048299",
   "metadata": {},
   "outputs": [
    {
     "data": {
      "text/plain": [
       "629126"
      ]
     },
     "execution_count": 20,
     "metadata": {},
     "output_type": "execute_result"
    }
   ],
   "source": [
    "data1['Result']=data1['Result'].replace({0:1,1:0})\n",
    "data1[\"Result\"].sum()"
   ]
  },
  {
   "cell_type": "code",
   "execution_count": 21,
   "id": "3666acd5",
   "metadata": {
    "scrolled": true
   },
   "outputs": [
    {
     "name": "stdout",
     "output_type": "stream",
     "text": [
      "0    Hudson Valley\n",
      "Name: Area_Service, dtype: object\n",
      "0    Hudson Valley\n",
      "Name: Area_Service, dtype: object\n"
     ]
    }
   ],
   "source": [
    "print(data1[data1['Result']==0]['Area_Service'].mode())\n",
    "print(data1[data1['Result']==1]['Area_Service'].mode())"
   ]
  },
  {
   "cell_type": "code",
   "execution_count": 22,
   "id": "a0323e1b",
   "metadata": {},
   "outputs": [],
   "source": [
    "# Filling the missing values with the mode since it's a categorical column\n",
    "data1['Area_Service'].fillna(value=0.0,inplace=True)"
   ]
  },
  {
   "cell_type": "code",
   "execution_count": 23,
   "id": "044fe599",
   "metadata": {},
   "outputs": [
    {
     "data": {
      "text/plain": [
       "0"
      ]
     },
     "execution_count": 23,
     "metadata": {},
     "output_type": "execute_result"
    }
   ],
   "source": [
    "data1['Area_Service'].isnull().sum()"
   ]
  },
  {
   "cell_type": "code",
   "execution_count": 24,
   "id": "bc3157e1",
   "metadata": {
    "scrolled": true
   },
   "outputs": [
    {
     "name": "stdout",
     "output_type": "stream",
     "text": [
      "0    Erie\n",
      "Name: Hospital County, dtype: object\n",
      "0    Erie\n",
      "Name: Hospital County, dtype: object\n"
     ]
    }
   ],
   "source": [
    "print(data1[data1['Result']==0]['Hospital County'].mode())\n",
    "print(data1[data1['Result']==1]['Hospital County'].mode())"
   ]
  },
  {
   "cell_type": "code",
   "execution_count": 25,
   "id": "5c1b6420",
   "metadata": {},
   "outputs": [],
   "source": [
    "# Filling the missing values with the mode since it's a categorical column\n",
    "data1['Hospital County'].fillna(value=0.0,inplace=True)"
   ]
  },
  {
   "cell_type": "code",
   "execution_count": 26,
   "id": "cdd79548",
   "metadata": {},
   "outputs": [
    {
     "data": {
      "text/plain": [
       "0"
      ]
     },
     "execution_count": 26,
     "metadata": {},
     "output_type": "execute_result"
    }
   ],
   "source": [
    "data1['Hospital County'].isnull().sum()"
   ]
  },
  {
   "cell_type": "code",
   "execution_count": 27,
   "id": "ccf57ae3",
   "metadata": {},
   "outputs": [
    {
     "name": "stdout",
     "output_type": "stream",
     "text": [
      "0    1.0\n",
      "Name: Mortality risk, dtype: float64\n",
      "0    1.0\n",
      "Name: Mortality risk, dtype: float64\n"
     ]
    }
   ],
   "source": [
    "print(data1[data1['Result']==0]['Mortality risk'].mode())\n",
    "print(data1[data1['Result']==1]['Mortality risk'].mode())"
   ]
  },
  {
   "cell_type": "code",
   "execution_count": 28,
   "id": "904fd8cc",
   "metadata": {},
   "outputs": [],
   "source": [
    "# Filling the missing values with the mode since it's a categorical column\n",
    "data1['Mortality risk'].fillna(value=0.0,inplace=True)"
   ]
  },
  {
   "cell_type": "code",
   "execution_count": 29,
   "id": "db4548f0",
   "metadata": {},
   "outputs": [
    {
     "data": {
      "text/plain": [
       "0"
      ]
     },
     "execution_count": 29,
     "metadata": {},
     "output_type": "execute_result"
    }
   ],
   "source": [
    "data1['Mortality risk'].isnull().sum()"
   ]
  },
  {
   "cell_type": "code",
   "execution_count": 30,
   "id": "2294e50c",
   "metadata": {},
   "outputs": [
    {
     "data": {
      "text/plain": [
       "Index(['Area_Service', 'Hospital County', 'Hospital Id', 'Age', 'Gender',\n",
       "       'Cultural_group', 'ethnicity', 'Days_spend_hsptl', 'Admission_type',\n",
       "       'Home or self care,', 'ccs_diagnosis_code', 'ccs_procedure_code',\n",
       "       'apr_drg_description', 'Code_illness', 'Mortality risk',\n",
       "       'Surg_Description', 'Weight_baby', 'Abortion', 'Emergency dept_yes/No',\n",
       "       'Tot_charg', 'Tot_cost', 'ratio_of_total_costs_to_total_charges',\n",
       "       'Payment_Typology', 'Result'],\n",
       "      dtype='object')"
      ]
     },
     "execution_count": 30,
     "metadata": {},
     "output_type": "execute_result"
    }
   ],
   "source": [
    "data1.columns"
   ]
  },
  {
   "cell_type": "code",
   "execution_count": 31,
   "id": "7ac90aaa",
   "metadata": {},
   "outputs": [
    {
     "data": {
      "text/plain": [
       "Index(['Area_Service', 'Hospital County', 'Age', 'Gender', 'Cultural_group',\n",
       "       'ethnicity', 'Days_spend_hsptl', 'Admission_type', 'Home or self care,',\n",
       "       'ccs_diagnosis_code', 'ccs_procedure_code', 'apr_drg_description',\n",
       "       'Code_illness', 'Mortality risk', 'Surg_Description', 'Weight_baby',\n",
       "       'Abortion', 'Emergency dept_yes/No', 'Tot_charg', 'Tot_cost',\n",
       "       'ratio_of_total_costs_to_total_charges', 'Payment_Typology', 'Result'],\n",
       "      dtype='object')"
      ]
     },
     "execution_count": 31,
     "metadata": {},
     "output_type": "execute_result"
    }
   ],
   "source": [
    "data=data1.drop('Hospital Id',axis=1)\n",
    "data.columns"
   ]
  },
  {
   "cell_type": "code",
   "execution_count": 32,
   "id": "21c96f16",
   "metadata": {},
   "outputs": [],
   "source": [
    "feature = data.drop([\"Result\"],axis=1)  #predictors\n",
    "target = data[\"Result\"] #target"
   ]
  },
  {
   "cell_type": "code",
   "execution_count": 33,
   "id": "ec807530",
   "metadata": {},
   "outputs": [],
   "source": [
    "def calc_woe_iv(feature, target):\n",
    "   # Create a dataframe to store the WOE and IV values for each category/bin\n",
    "    woe_iv_df = pd.DataFrame(columns=['Category/Bin', 'Event', 'Non-Event', 'WOE', 'IV'])\n",
    "    # Check the data type of the feature\n",
    "    if feature.dtypes == 'object':\n",
    "        # Categorical feature\n",
    "        feature.fillna('Missing', inplace=True)\n",
    "        unique_categories = feature.unique()\n",
    "        for category in unique_categories:\n",
    "            event_count = len(target[(feature == category) & (target == 1)])\n",
    "            non_event_count = len(target[(feature == category) & (target == 0)])\n",
    "            total_event = len(target[target == 1])\n",
    "            total_non_event = len(target[target == 0])\n",
    "            event_rate = event_count / total_event\n",
    "            non_event_rate = non_event_count / total_non_event\n",
    "            woe = np.log(event_rate / non_event_rate)\n",
    "            iv = (event_rate - non_event_rate) * woe\n",
    "            woe_iv_df = woe_iv_df.append({'Category/Bin': category, 'Event': event_count, 'Non-Event': non_event_count, 'WOE': woe, 'IV': iv}, ignore_index=True)\n",
    "    else:\n",
    "        # Numerical feature\n",
    "        bins = pd.qcut(feature, q=10, duplicates='drop')\n",
    "        for category in bins.cat.categories:\n",
    "            event_count = len(target[(bins == category) & (target == 1)])\n",
    "            non_event_count = len(target[(bins == category) & (target == 0)])\n",
    "            total_event = len(target[target == 1])\n",
    "            total_non_event = len(target[target == 0])\n",
    "            event_rate = event_count / total_event\n",
    "            non_event_rate = non_event_count / total_non_event\n",
    "            woe = np.log(event_rate / non_event_rate)\n",
    "            iv = (event_rate - non_event_rate) * woe\n",
    "            woe_iv_df = woe_iv_df.append({'Category/Bin': category, 'Event': event_count, 'Non-Event': non_event_count, 'WOE': woe, 'IV': iv}, ignore_index=True)\n",
    "    # Calculate the total IV for the feature\n",
    "    total_iv = woe_iv_df['IV'].sum()\n",
    "    # Return the results\n",
    "    return feature.name, woe_iv_df, total_iv, len(woe_iv_df)\n",
    "def calculate_iv_df(data, target):\n",
    "    iv_df = pd.DataFrame()  # define iv_df as an empty DataFrame\n",
    "    iv_values = []\n",
    "    for column in data.columns:\n",
    "        feature = data[column]\n",
    "        name, woe_iv, iv, n_bins = calc_woe_iv(feature, target)\n",
    "        iv_values.append((name, iv, n_bins))\n",
    "    iv_df = pd.DataFrame(iv_values, columns=['Feature', 'IV', 'Num_Bins'])\n",
    "    iv_df.sort_values('IV', ascending=False, inplace=True)\n",
    "    return iv_df"
   ]
  },
  {
   "cell_type": "code",
   "execution_count": 91,
   "id": "337dfdb7",
   "metadata": {},
   "outputs": [
    {
     "name": "stdout",
     "output_type": "stream",
     "text": [
      "<class 'pandas.core.frame.DataFrame'>\n",
      "<class 'pandas.core.series.Series'>\n",
      "           Area_Service Hospital County          Age Gender  \\\n",
      "0         New York City           Bronx      0 to 17      F   \n",
      "1         Hudson Valley        Sullivan      0 to 17      M   \n",
      "2            Central NY          Cayuga  70 or Older      M   \n",
      "3         Hudson Valley     Westchester     18 to 29      M   \n",
      "4          Finger Lakes          Monroe     50 to 69      M   \n",
      "...                 ...             ...          ...    ...   \n",
      "629140  Capital/Adirond     Schenectady     30 to 49      F   \n",
      "629141       Western NY            Erie     30 to 49      F   \n",
      "629142       Western NY            Erie     30 to 49      F   \n",
      "629143       Central NY          Cayuga     50 to 69      F   \n",
      "629144  Capital/Adirond          Albany     50 to 69      M   \n",
      "\n",
      "                Cultural_group          ethnicity Days_spend_hsptl  \\\n",
      "0                   Other Race   Spanish/Hispanic                2   \n",
      "1                   Other Race  Not Span/Hispanic                2   \n",
      "2                        White  Not Span/Hispanic                5   \n",
      "3                        White  Not Span/Hispanic                7   \n",
      "4       Black/African American  Not Span/Hispanic                2   \n",
      "...                        ...                ...              ...   \n",
      "629140                   White  Not Span/Hispanic                6   \n",
      "629141                   White  Not Span/Hispanic                1   \n",
      "629142                   White  Not Span/Hispanic                4   \n",
      "629143                   White  Not Span/Hispanic                3   \n",
      "629144                   White  Not Span/Hispanic                2   \n",
      "\n",
      "       Admission_type                 Home or self care,  ccs_diagnosis_code  \\\n",
      "0             Newborn                  Home or Self Care                 218   \n",
      "1             Newborn                  Home or Self Care                 218   \n",
      "2           Emergency  Inpatient Rehabilitation Facility                 100   \n",
      "3           Emergency        Left Against Medical Advice                 661   \n",
      "4            Elective                  Home or Self Care                 212   \n",
      "...               ...                                ...                 ...   \n",
      "629140       Elective                  Home or Self Care                 183   \n",
      "629141      Emergency                  Home or Self Care                 181   \n",
      "629142       Elective                  Home or Self Care                  47   \n",
      "629143      Emergency                Short-term Hospital                 160   \n",
      "629144       Elective  Inpatient Rehabilitation Facility                 203   \n",
      "\n",
      "        ...  Code_illness Mortality risk  Surg_Description  Weight_baby  \\\n",
      "0       ...             1            1.0           Medical         2300   \n",
      "1       ...             2            1.0           Medical         3500   \n",
      "2       ...             3            2.0           Medical            0   \n",
      "3       ...             2            1.0           Medical            0   \n",
      "4       ...             2            1.0          Surgical            0   \n",
      "...     ...           ...            ...               ...          ...   \n",
      "629140  ...             2            1.0          Surgical            0   \n",
      "629141  ...             3            1.0           Medical            0   \n",
      "629142  ...             2            1.0          Surgical            0   \n",
      "629143  ...             2            3.0           Medical            0   \n",
      "629144  ...             1            1.0          Surgical            0   \n",
      "\n",
      "       Abortion  Emergency dept_yes/No Tot_charg  Tot_cost  \\\n",
      "0             N                      N   5693.85   1288.51   \n",
      "1             N                      N   5795.47   1311.04   \n",
      "2             N                      N  11674.75   4207.87   \n",
      "3             N                      Y  18586.26  10612.91   \n",
      "4             N                      N  24550.51  11078.71   \n",
      "...         ...                    ...       ...       ...   \n",
      "629140        N                      N  21854.57   7569.84   \n",
      "629141        N                      Y   7714.17   4127.02   \n",
      "629142        N                      N  26718.76  12824.05   \n",
      "629143        N                      Y  17632.39   5532.67   \n",
      "629144        N                      N  40487.85  16307.88   \n",
      "\n",
      "        ratio_of_total_costs_to_total_charges  Payment_Typology  \n",
      "0                                    0.226299                 3  \n",
      "1                                    0.226218                 1  \n",
      "2                                    0.360425                 2  \n",
      "3                                    0.571009                 1  \n",
      "4                                    0.451262                 2  \n",
      "...                                       ...               ...  \n",
      "629140                               0.346373                 2  \n",
      "629141                               0.534992                 2  \n",
      "629142                               0.479964                 1  \n",
      "629143                               0.313779                 2  \n",
      "629144                               0.402785                 1  \n",
      "\n",
      "[629145 rows x 22 columns]\n",
      "0         1\n",
      "1         0\n",
      "2         1\n",
      "3         0\n",
      "4         1\n",
      "         ..\n",
      "629140    0\n",
      "629141    1\n",
      "629142    1\n",
      "629143    1\n",
      "629144    0\n",
      "Name: Result, Length: 629145, dtype: int64\n"
     ]
    },
    {
     "ename": "ZeroDivisionError",
     "evalue": "float division by zero",
     "output_type": "error",
     "traceback": [
      "\u001b[1;31m---------------------------------------------------------------------------\u001b[0m",
      "\u001b[1;31mZeroDivisionError\u001b[0m                         Traceback (most recent call last)",
      "Input \u001b[1;32mIn [91]\u001b[0m, in \u001b[0;36m<cell line: 8>\u001b[1;34m()\u001b[0m\n\u001b[0;32m      5\u001b[0m \u001b[38;5;28mprint\u001b[39m(data[\u001b[38;5;124m'\u001b[39m\u001b[38;5;124mResult\u001b[39m\u001b[38;5;124m'\u001b[39m])\n\u001b[0;32m      7\u001b[0m \u001b[38;5;66;03m# Verify that calculate_iv_df() returns the expected DataFrame\u001b[39;00m\n\u001b[1;32m----> 8\u001b[0m data1 \u001b[38;5;241m=\u001b[39m \u001b[43mcalculate_iv_df\u001b[49m\u001b[43m(\u001b[49m\u001b[43mfeature\u001b[49m\u001b[43m,\u001b[49m\u001b[43m \u001b[49m\u001b[43mdata\u001b[49m\u001b[43m[\u001b[49m\u001b[38;5;124;43m'\u001b[39;49m\u001b[38;5;124;43mResult\u001b[39;49m\u001b[38;5;124;43m'\u001b[39;49m\u001b[43m]\u001b[49m\u001b[43m)\u001b[49m\n\u001b[0;32m      9\u001b[0m \u001b[38;5;28mprint\u001b[39m(data1)\n\u001b[0;32m     11\u001b[0m \u001b[38;5;66;03m# Verify that apply() is applied correctly to format the IV column\u001b[39;00m\n",
      "Input \u001b[1;32mIn [87]\u001b[0m, in \u001b[0;36mcalculate_iv_df\u001b[1;34m(data, target)\u001b[0m\n\u001b[0;32m     39\u001b[0m \u001b[38;5;28;01mfor\u001b[39;00m column \u001b[38;5;129;01min\u001b[39;00m data\u001b[38;5;241m.\u001b[39mcolumns:\n\u001b[0;32m     40\u001b[0m     feature \u001b[38;5;241m=\u001b[39m data[column]\n\u001b[1;32m---> 41\u001b[0m     name, woe_iv, iv, n_bins \u001b[38;5;241m=\u001b[39m \u001b[43mcalc_woe_iv\u001b[49m\u001b[43m(\u001b[49m\u001b[43mfeature\u001b[49m\u001b[43m,\u001b[49m\u001b[43m \u001b[49m\u001b[43mtarget\u001b[49m\u001b[43m)\u001b[49m\n\u001b[0;32m     42\u001b[0m     iv_values\u001b[38;5;241m.\u001b[39mappend((name, iv, n_bins))\n\u001b[0;32m     43\u001b[0m iv_df \u001b[38;5;241m=\u001b[39m pd\u001b[38;5;241m.\u001b[39mDataFrame(iv_values, columns\u001b[38;5;241m=\u001b[39m[\u001b[38;5;124m'\u001b[39m\u001b[38;5;124mFeature\u001b[39m\u001b[38;5;124m'\u001b[39m, \u001b[38;5;124m'\u001b[39m\u001b[38;5;124mIV\u001b[39m\u001b[38;5;124m'\u001b[39m, \u001b[38;5;124m'\u001b[39m\u001b[38;5;124mNum_Bins\u001b[39m\u001b[38;5;124m'\u001b[39m])\n",
      "Input \u001b[1;32mIn [87]\u001b[0m, in \u001b[0;36mcalc_woe_iv\u001b[1;34m(feature, target)\u001b[0m\n\u001b[0;32m     14\u001b[0m event_rate \u001b[38;5;241m=\u001b[39m event_count \u001b[38;5;241m/\u001b[39m total_event\n\u001b[0;32m     15\u001b[0m non_event_rate \u001b[38;5;241m=\u001b[39m non_event_count \u001b[38;5;241m/\u001b[39m total_non_event\n\u001b[1;32m---> 16\u001b[0m woe \u001b[38;5;241m=\u001b[39m np\u001b[38;5;241m.\u001b[39mlog(\u001b[43mevent_rate\u001b[49m\u001b[43m \u001b[49m\u001b[38;5;241;43m/\u001b[39;49m\u001b[43m \u001b[49m\u001b[43mnon_event_rate\u001b[49m)\n\u001b[0;32m     17\u001b[0m iv \u001b[38;5;241m=\u001b[39m (event_rate \u001b[38;5;241m-\u001b[39m non_event_rate) \u001b[38;5;241m*\u001b[39m woe\n\u001b[0;32m     18\u001b[0m woe_iv_df \u001b[38;5;241m=\u001b[39m woe_iv_df\u001b[38;5;241m.\u001b[39mappend({\u001b[38;5;124m'\u001b[39m\u001b[38;5;124mCategory/Bin\u001b[39m\u001b[38;5;124m'\u001b[39m: category, \u001b[38;5;124m'\u001b[39m\u001b[38;5;124mEvent\u001b[39m\u001b[38;5;124m'\u001b[39m: event_count, \u001b[38;5;124m'\u001b[39m\u001b[38;5;124mNon-Event\u001b[39m\u001b[38;5;124m'\u001b[39m: non_event_count, \u001b[38;5;124m'\u001b[39m\u001b[38;5;124mWOE\u001b[39m\u001b[38;5;124m'\u001b[39m: woe, \u001b[38;5;124m'\u001b[39m\u001b[38;5;124mIV\u001b[39m\u001b[38;5;124m'\u001b[39m: iv}, ignore_index\u001b[38;5;241m=\u001b[39m\u001b[38;5;28;01mTrue\u001b[39;00m)\n",
      "\u001b[1;31mZeroDivisionError\u001b[0m: float division by zero"
     ]
    }
   ],
   "source": [
    "# Check data types and values of feature and data['Result']\n",
    "print(type(feature))\n",
    "print(type(data['Result']))\n",
    "print(feature)\n",
    "print(data['Result'])\n",
    "\n",
    "# Verify that calculate_iv_df() returns the expected DataFrame\n",
    "data1 = calculate_iv_df(feature, data['Result'])\n",
    "print(data1)\n",
    "\n",
    "# Verify that apply() is applied correctly to format the IV column\n",
    "data1['IV'] = data1['IV'].apply(lambda x: '{:.5f}'.format(x))\n",
    "print(data1)\n",
    "\n",
    "# Verify that data1 has the expected columns and values\n",
    "print(data1.columns)\n",
    "print(data1.dtypes)\n",
    "print(data1.head())\n",
    "\n",
    "data1"
   ]
  },
  {
   "cell_type": "code",
   "execution_count": 34,
   "id": "73b9f2f2",
   "metadata": {},
   "outputs": [],
   "source": [
    "# # Define categorical variables\n",
    "cat = ['Area_Service','Hospital County','Age','Gender','Cultural_group','ethnicity','Days_spend_hsptl','Admission_type','Home or self care,','ccs_diagnosis_code','ccs_procedure_code','apr_drg_description','Code_illness','Mortality risk','Surg_Description','Abortion','Emergency dept_yes/No','Payment_Typology']       \n",
    "\n",
    "# # Define numerical variables\n",
    "num = ['Weight_baby','Tot_charg','Tot_cost','ratio_of_total_costs_to_total_charges']\n",
    "\n",
    "# Define target variables\n",
    "target = 'Result'\n",
    "\n",
    "#Convert categorical variables to type 'category'\n",
    "for col in cat:\n",
    "     data[col] = data[col].astype('category')"
   ]
  },
  {
   "cell_type": "code",
   "execution_count": 37,
   "id": "e9295827",
   "metadata": {},
   "outputs": [],
   "source": [
    "def IV_calculation(X, y, head = 100):\n",
    "    clf = WOE()\n",
    "    clf.fit(X, y)\n",
    "    iv_values = clf.iv_df.head(head)\n",
    "    return iv_values"
   ]
  },
  {
   "cell_type": "code",
   "execution_count": 38,
   "id": "47ed185f",
   "metadata": {},
   "outputs": [],
   "source": [
    "from xverse.transformer import WOE\n"
   ]
  },
  {
   "cell_type": "code",
   "execution_count": 39,
   "id": "bdc684a9",
   "metadata": {},
   "outputs": [],
   "source": [
    "num=data.drop(columns=['Result'])\n",
    "target=data.Result"
   ]
  },
  {
   "cell_type": "code",
   "execution_count": 40,
   "id": "9504113a",
   "metadata": {},
   "outputs": [
    {
     "name": "stdout",
     "output_type": "stream",
     "text": [
      "Requirement already satisfied: pandas in c:\\users\\hi\\anaconda3\\lib\\site-packages (1.5.3)\n",
      "Collecting pandas\n",
      "  Downloading pandas-2.0.0-cp39-cp39-win_amd64.whl (11.3 MB)"
     ]
    },
    {
     "name": "stderr",
     "output_type": "stream",
     "text": [
      "ERROR: Could not install packages due to an OSError: [WinError 5] Access is denied: 'C:\\\\Users\\\\Hi\\\\anaconda3\\\\Lib\\\\site-packages\\\\~andas\\\\_libs\\\\algos.cp39-win_amd64.pyd'\n",
      "Consider using the `--user` option or check the permissions.\n",
      "\n"
     ]
    },
    {
     "name": "stdout",
     "output_type": "stream",
     "text": [
      "\n",
      "Requirement already satisfied: pytz>=2020.1 in c:\\users\\hi\\anaconda3\\lib\\site-packages (from pandas) (2021.3)\n",
      "Requirement already satisfied: numpy>=1.20.3 in c:\\users\\hi\\anaconda3\\lib\\site-packages (from pandas) (1.22.4)\n",
      "Requirement already satisfied: python-dateutil>=2.8.2 in c:\\users\\hi\\anaconda3\\lib\\site-packages (from pandas) (2.8.2)\n",
      "Collecting tzdata>=2022.1\n",
      "  Downloading tzdata-2023.3-py2.py3-none-any.whl (341 kB)\n",
      "Requirement already satisfied: six>=1.5 in c:\\users\\hi\\anaconda3\\lib\\site-packages (from python-dateutil>=2.8.2->pandas) (1.16.0)\n",
      "Installing collected packages: tzdata, pandas\n",
      "  Attempting uninstall: pandas\n",
      "    Found existing installation: pandas 1.5.3\n",
      "    Uninstalling pandas-1.5.3:\n",
      "      Successfully uninstalled pandas-1.5.3\n"
     ]
    }
   ],
   "source": [
    "!pip install --upgrade pandas"
   ]
  },
  {
   "cell_type": "code",
   "execution_count": 41,
   "id": "0ac1dd70",
   "metadata": {},
   "outputs": [],
   "source": [
    "def calculate_woe(data, cat, target):\n",
    "    # Create a cross-tabulation of the feature and target variable\n",
    "    crosstab = pd.crosstab(data[cat], data[target])\n",
    "    \n",
    "    # Calculate the proportion of observations with positive and negative outcomes\n",
    "    pos_rate = crosstab[1] / crosstab[1].sum()\n",
    "    neg_rate = crosstab[0] / crosstab[0].sum()\n",
    "    \n",
    "    # Calculate the weight of evidence (WOE) for each category\n",
    "    woe = np.log(pos_rate / neg_rate)\n",
    "    \n",
    "    # Create a dictionary to map each category to its corresponding WOE value\n",
    "    woe_dict = dict(zip(crosstab.index, woe))\n",
    "    \n",
    "    return woe_dict"
   ]
  },
  {
   "cell_type": "code",
   "execution_count": 42,
   "id": "b5e02927",
   "metadata": {},
   "outputs": [],
   "source": [
    "woe_df = pd.DataFrame(columns=['Variable Name', 'Category Name', 'WOE'])\n",
    "for i in cat:\n",
    "    woe = calculate_woe(data,i,'Result')\n",
    "    for j in range(len(woe)):\n",
    "        woe_df.loc[len(woe_df)] = [i, list(woe.keys())[j], list(woe.values())[j]]"
   ]
  },
  {
   "cell_type": "code",
   "execution_count": 43,
   "id": "51805769",
   "metadata": {},
   "outputs": [],
   "source": [
    "woe_df = woe_df.sort_values(by=['Variable Name', 'WOE'], ascending=[True, False])\n",
    "woe_df.reset_index(inplace=True, drop=True)"
   ]
  },
  {
   "cell_type": "code",
   "execution_count": 44,
   "id": "4546efff",
   "metadata": {},
   "outputs": [],
   "source": [
    "woe_dict = {}\n",
    "for col in cat:\n",
    "#     #print(col)\n",
    "    temp_df = woe_df.loc[woe_df['Variable Name'] == str(col)]\n",
    "    woe_dict[f'woe_{col}'] = temp_df"
   ]
  },
  {
   "cell_type": "code",
   "execution_count": 45,
   "id": "877ca269",
   "metadata": {},
   "outputs": [
    {
     "data": {
      "text/html": [
       "<div>\n",
       "<style scoped>\n",
       "    .dataframe tbody tr th:only-of-type {\n",
       "        vertical-align: middle;\n",
       "    }\n",
       "\n",
       "    .dataframe tbody tr th {\n",
       "        vertical-align: top;\n",
       "    }\n",
       "\n",
       "    .dataframe thead th {\n",
       "        text-align: right;\n",
       "    }\n",
       "</style>\n",
       "<table border=\"1\" class=\"dataframe\">\n",
       "  <thead>\n",
       "    <tr style=\"text-align: right;\">\n",
       "      <th></th>\n",
       "      <th>Variable Name</th>\n",
       "      <th>Category Name</th>\n",
       "      <th>WOE</th>\n",
       "    </tr>\n",
       "  </thead>\n",
       "  <tbody>\n",
       "    <tr>\n",
       "      <th>0</th>\n",
       "      <td>Age</td>\n",
       "      <td>30 to 49</td>\n",
       "      <td>0.003202</td>\n",
       "    </tr>\n",
       "    <tr>\n",
       "      <th>1</th>\n",
       "      <td>Age</td>\n",
       "      <td>70 or Older</td>\n",
       "      <td>0.000513</td>\n",
       "    </tr>\n",
       "    <tr>\n",
       "      <th>2</th>\n",
       "      <td>Age</td>\n",
       "      <td>50 to 69</td>\n",
       "      <td>-0.000009</td>\n",
       "    </tr>\n",
       "    <tr>\n",
       "      <th>3</th>\n",
       "      <td>Age</td>\n",
       "      <td>18 to 29</td>\n",
       "      <td>-0.000618</td>\n",
       "    </tr>\n",
       "    <tr>\n",
       "      <th>4</th>\n",
       "      <td>Age</td>\n",
       "      <td>0 to 17</td>\n",
       "      <td>-0.004957</td>\n",
       "    </tr>\n",
       "  </tbody>\n",
       "</table>\n",
       "</div>"
      ],
      "text/plain": [
       "  Variable Name Category Name       WOE\n",
       "0           Age      30 to 49  0.003202\n",
       "1           Age   70 or Older  0.000513\n",
       "2           Age      50 to 69 -0.000009\n",
       "3           Age      18 to 29 -0.000618\n",
       "4           Age       0 to 17 -0.004957"
      ]
     },
     "execution_count": 45,
     "metadata": {},
     "output_type": "execute_result"
    }
   ],
   "source": [
    "woe_df_Age = woe_df.loc[woe_df['Variable Name'] == \"Age\"]\n",
    "woe_df_Age.reset_index(inplace=True, drop=True)\n",
    "woe_df_Age"
   ]
  },
  {
   "cell_type": "code",
   "execution_count": 49,
   "id": "8d1535cc",
   "metadata": {},
   "outputs": [
    {
     "data": {
      "text/html": [
       "<div>\n",
       "<style scoped>\n",
       "    .dataframe tbody tr th:only-of-type {\n",
       "        vertical-align: middle;\n",
       "    }\n",
       "\n",
       "    .dataframe tbody tr th {\n",
       "        vertical-align: top;\n",
       "    }\n",
       "\n",
       "    .dataframe thead th {\n",
       "        text-align: right;\n",
       "    }\n",
       "</style>\n",
       "<table border=\"1\" class=\"dataframe\">\n",
       "  <thead>\n",
       "    <tr style=\"text-align: right;\">\n",
       "      <th></th>\n",
       "      <th>Variable Name</th>\n",
       "      <th>Category Name</th>\n",
       "      <th>WOE</th>\n",
       "    </tr>\n",
       "  </thead>\n",
       "  <tbody>\n",
       "    <tr>\n",
       "      <th>226</th>\n",
       "      <td>Mortality risk</td>\n",
       "      <td>0.0</td>\n",
       "      <td>0.322894</td>\n",
       "    </tr>\n",
       "    <tr>\n",
       "      <th>227</th>\n",
       "      <td>Mortality risk</td>\n",
       "      <td>3.0</td>\n",
       "      <td>0.015275</td>\n",
       "    </tr>\n",
       "    <tr>\n",
       "      <th>228</th>\n",
       "      <td>Mortality risk</td>\n",
       "      <td>2.0</td>\n",
       "      <td>0.004369</td>\n",
       "    </tr>\n",
       "    <tr>\n",
       "      <th>229</th>\n",
       "      <td>Mortality risk</td>\n",
       "      <td>4.0</td>\n",
       "      <td>-0.004368</td>\n",
       "    </tr>\n",
       "    <tr>\n",
       "      <th>230</th>\n",
       "      <td>Mortality risk</td>\n",
       "      <td>1.0</td>\n",
       "      <td>-0.006348</td>\n",
       "    </tr>\n",
       "  </tbody>\n",
       "</table>\n",
       "</div>"
      ],
      "text/plain": [
       "      Variable Name Category Name       WOE\n",
       "226  Mortality risk           0.0  0.322894\n",
       "227  Mortality risk           3.0  0.015275\n",
       "228  Mortality risk           2.0  0.004369\n",
       "229  Mortality risk           4.0 -0.004368\n",
       "230  Mortality risk           1.0 -0.006348"
      ]
     },
     "execution_count": 49,
     "metadata": {},
     "output_type": "execute_result"
    }
   ],
   "source": [
    "woe_dict['woe_Mortality risk'].sort_values(by=['Category Name', 'WOE'], ascending=[True, False])\n",
    "woe_dict['woe_Mortality risk']"
   ]
  },
  {
   "cell_type": "code",
   "execution_count": 50,
   "id": "a2d7e057",
   "metadata": {},
   "outputs": [
    {
     "data": {
      "text/html": [
       "<div>\n",
       "<style scoped>\n",
       "    .dataframe tbody tr th:only-of-type {\n",
       "        vertical-align: middle;\n",
       "    }\n",
       "\n",
       "    .dataframe tbody tr th {\n",
       "        vertical-align: top;\n",
       "    }\n",
       "\n",
       "    .dataframe thead th {\n",
       "        text-align: right;\n",
       "    }\n",
       "</style>\n",
       "<table border=\"1\" class=\"dataframe\">\n",
       "  <thead>\n",
       "    <tr style=\"text-align: right;\">\n",
       "      <th></th>\n",
       "      <th>Variable Name</th>\n",
       "      <th>Category Name</th>\n",
       "      <th>WOE</th>\n",
       "    </tr>\n",
       "  </thead>\n",
       "  <tbody>\n",
       "    <tr>\n",
       "      <th>0</th>\n",
       "      <td>Area_Service</td>\n",
       "      <td>0.0</td>\n",
       "      <td>-0.126930</td>\n",
       "    </tr>\n",
       "    <tr>\n",
       "      <th>1</th>\n",
       "      <td>Area_Service</td>\n",
       "      <td>Capital/Adirond</td>\n",
       "      <td>-0.000377</td>\n",
       "    </tr>\n",
       "    <tr>\n",
       "      <th>2</th>\n",
       "      <td>Area_Service</td>\n",
       "      <td>Central NY</td>\n",
       "      <td>-0.000336</td>\n",
       "    </tr>\n",
       "    <tr>\n",
       "      <th>3</th>\n",
       "      <td>Area_Service</td>\n",
       "      <td>Finger Lakes</td>\n",
       "      <td>0.003056</td>\n",
       "    </tr>\n",
       "    <tr>\n",
       "      <th>4</th>\n",
       "      <td>Area_Service</td>\n",
       "      <td>Hudson Valley</td>\n",
       "      <td>0.000561</td>\n",
       "    </tr>\n",
       "    <tr>\n",
       "      <th>5</th>\n",
       "      <td>Area_Service</td>\n",
       "      <td>New York City</td>\n",
       "      <td>0.002040</td>\n",
       "    </tr>\n",
       "    <tr>\n",
       "      <th>6</th>\n",
       "      <td>Area_Service</td>\n",
       "      <td>Southern Tier</td>\n",
       "      <td>-0.009577</td>\n",
       "    </tr>\n",
       "    <tr>\n",
       "      <th>7</th>\n",
       "      <td>Area_Service</td>\n",
       "      <td>Western NY</td>\n",
       "      <td>-0.000147</td>\n",
       "    </tr>\n",
       "  </tbody>\n",
       "</table>\n",
       "</div>"
      ],
      "text/plain": [
       "  Variable Name    Category Name       WOE\n",
       "0  Area_Service              0.0 -0.126930\n",
       "1  Area_Service  Capital/Adirond -0.000377\n",
       "2  Area_Service       Central NY -0.000336\n",
       "3  Area_Service     Finger Lakes  0.003056\n",
       "4  Area_Service    Hudson Valley  0.000561\n",
       "5  Area_Service    New York City  0.002040\n",
       "6  Area_Service    Southern Tier -0.009577\n",
       "7  Area_Service       Western NY -0.000147"
      ]
     },
     "execution_count": 50,
     "metadata": {},
     "output_type": "execute_result"
    }
   ],
   "source": [
    "woe_dict['woe_Area_Service']=woe_dict['woe_Area_Service'].sort_values(by=['Category Name', 'WOE'], ascending=[True, False])\n",
    "woe_re_AS=woe_dict['woe_Area_Service'].reset_index(drop=True)\n",
    "woe_re_AS"
   ]
  },
  {
   "cell_type": "markdown",
   "id": "3562b2a4",
   "metadata": {},
   "source": [
    "# Re-Grouping Similar WOE Values for all Categorical Variables"
   ]
  },
  {
   "cell_type": "markdown",
   "id": "06d0bc07",
   "metadata": {},
   "source": [
    "## Area Service"
   ]
  },
  {
   "cell_type": "code",
   "execution_count": 54,
   "id": "c9064e9a",
   "metadata": {},
   "outputs": [],
   "source": [
    "data['Area_Service']=data['Area_Service'].replace({\"New York City\":'AS_G1',\"Central NY\":'AS_G1',\"Western NY\":'AS_G2',\"Hudson Valley\":'AS_G2',\"Capital/Adirond\":'AS_G3',\"Finger Lakes\":'AS_G3',\"Southern Tier\":'AS_G4'}) "
   ]
  },
  {
   "cell_type": "code",
   "execution_count": 55,
   "id": "d3a91944",
   "metadata": {
    "scrolled": true
   },
   "outputs": [
    {
     "data": {
      "text/plain": [
       "AS_G2    353036\n",
       "AS_G3    261476\n",
       "AS_G1    196999\n",
       "AS_G4     25375\n",
       "0.0        1974\n",
       "Name: Area_Service, dtype: int64"
      ]
     },
     "execution_count": 55,
     "metadata": {},
     "output_type": "execute_result"
    }
   ],
   "source": [
    "data['Area_Service'].value_counts()"
   ]
  },
  {
   "cell_type": "code",
   "execution_count": 56,
   "id": "579b7290",
   "metadata": {},
   "outputs": [
    {
     "data": {
      "text/plain": [
       "{0.0: -0.1269301473730515,\n",
       " 'AS_G3': 0.0012633551825310422,\n",
       " 'AS_G1': 0.00038477336637778215,\n",
       " 'AS_G4': -0.009576568159674156,\n",
       " 'AS_G2': 0.0002718714436890615}"
      ]
     },
     "execution_count": 56,
     "metadata": {},
     "output_type": "execute_result"
    }
   ],
   "source": [
    "calculate_woe(data, 'Area_Service', 'Result')"
   ]
  },
  {
   "cell_type": "markdown",
   "id": "4b22a036",
   "metadata": {},
   "source": [
    "## Abortion"
   ]
  },
  {
   "cell_type": "code",
   "execution_count": 58,
   "id": "9d4c00c6",
   "metadata": {},
   "outputs": [],
   "source": [
    "data['Abortion']=data['Abortion'].replace({\"N\":'AB_G1',\"Y\":'AB_G2'}) "
   ]
  },
  {
   "cell_type": "code",
   "execution_count": 59,
   "id": "d40f8db4",
   "metadata": {
    "scrolled": true
   },
   "outputs": [
    {
     "data": {
      "text/plain": [
       "AB_G1    837679\n",
       "AB_G2      1181\n",
       "Name: Abortion, dtype: int64"
      ]
     },
     "execution_count": 59,
     "metadata": {},
     "output_type": "execute_result"
    }
   ],
   "source": [
    "data['Abortion'].value_counts()"
   ]
  },
  {
   "cell_type": "code",
   "execution_count": 60,
   "id": "9ccdc28f",
   "metadata": {},
   "outputs": [
    {
     "data": {
      "text/plain": [
       "{'AB_G1': 0.0002974816748985734, 'AB_G2': -0.20109152404939526}"
      ]
     },
     "execution_count": 60,
     "metadata": {},
     "output_type": "execute_result"
    }
   ],
   "source": [
    "calculate_woe(data, 'Abortion', 'Result')"
   ]
  },
  {
   "cell_type": "markdown",
   "id": "b854ed86",
   "metadata": {},
   "source": [
    "## Admission Type"
   ]
  },
  {
   "cell_type": "code",
   "execution_count": 61,
   "id": "9ec4b01a",
   "metadata": {},
   "outputs": [],
   "source": [
    "data['Admission_type']=data['Admission_type'].replace({\"Trauma\":'AT_G1',\"White\":'AT_G1',\"Emergency\":'AT_G1',\"Newborn\":'AT_G1',\"Elective\":'AT_G2',\"Urgent\":'AT_G2',\"Not Available\":'AT_G3'}) "
   ]
  },
  {
   "cell_type": "code",
   "execution_count": 62,
   "id": "85324af9",
   "metadata": {
    "scrolled": true
   },
   "outputs": [
    {
     "data": {
      "text/plain": [
       "AT_G1    561496\n",
       "AT_G2    276544\n",
       "AT_G3       820\n",
       "Name: Admission_type, dtype: int64"
      ]
     },
     "execution_count": 62,
     "metadata": {},
     "output_type": "execute_result"
    }
   ],
   "source": [
    "data['Admission_type'].value_counts()"
   ]
  },
  {
   "cell_type": "code",
   "execution_count": 63,
   "id": "f87c8e9a",
   "metadata": {},
   "outputs": [
    {
     "data": {
      "text/plain": [
       "{'AT_G2': -0.00542578706670904,\n",
       " 'AT_G3': -0.025728786247211987,\n",
       " 'AT_G1': 0.0027155515582681328}"
      ]
     },
     "execution_count": 63,
     "metadata": {},
     "output_type": "execute_result"
    }
   ],
   "source": [
    "calculate_woe(data, 'Admission_type', 'Result')"
   ]
  },
  {
   "cell_type": "markdown",
   "id": "3a28ad77",
   "metadata": {},
   "source": [
    "## Cultural Group"
   ]
  },
  {
   "cell_type": "code",
   "execution_count": 64,
   "id": "127f28ac",
   "metadata": {},
   "outputs": [],
   "source": [
    "data['Cultural_group']=data['Cultural_group'].replace({\"Black/African American\":'CG_G1',\"White\":'CG_G1',\"Other Race\":'CG_G2',\"Unknown\":'CG_G3'}) "
   ]
  },
  {
   "cell_type": "code",
   "execution_count": 65,
   "id": "f482beec",
   "metadata": {
    "scrolled": true
   },
   "outputs": [
    {
     "data": {
      "text/plain": [
       "CG_G1    733405\n",
       "CG_G2    102421\n",
       "CG_G3      3034\n",
       "Name: Cultural_group, dtype: int64"
      ]
     },
     "execution_count": 65,
     "metadata": {},
     "output_type": "execute_result"
    }
   ],
   "source": [
    "data['Cultural_group'].value_counts()"
   ]
  },
  {
   "cell_type": "code",
   "execution_count": 66,
   "id": "9e6af650",
   "metadata": {},
   "outputs": [
    {
     "data": {
      "text/plain": [
       "{'CG_G1': -0.0013094627032530337,\n",
       " 'CG_G2': 0.00853522366430983,\n",
       " 'CG_G3': 0.029339341213253444}"
      ]
     },
     "execution_count": 66,
     "metadata": {},
     "output_type": "execute_result"
    }
   ],
   "source": [
    "calculate_woe(data, 'Cultural_group', 'Result')"
   ]
  },
  {
   "cell_type": "markdown",
   "id": "cbe41c15",
   "metadata": {},
   "source": [
    "## Surg Description"
   ]
  },
  {
   "cell_type": "code",
   "execution_count": 67,
   "id": "f33e3e07",
   "metadata": {},
   "outputs": [],
   "source": [
    "data['Surg_Description']=data['Surg_Description'].replace({\"Surgical\":'SD_G1',\"Medical\":'SD_G1',\"Not Applicable\":'SD_G2'}) "
   ]
  },
  {
   "cell_type": "code",
   "execution_count": 68,
   "id": "dc2cec62",
   "metadata": {},
   "outputs": [
    {
     "data": {
      "text/plain": [
       "SD_G1    838824\n",
       "SD_G2        36\n",
       "Name: Surg_Description, dtype: int64"
      ]
     },
     "execution_count": 68,
     "metadata": {},
     "output_type": "execute_result"
    }
   ],
   "source": [
    "data['Surg_Description'].value_counts()"
   ]
  },
  {
   "cell_type": "code",
   "execution_count": 69,
   "id": "0e8751fd",
   "metadata": {},
   "outputs": [
    {
     "data": {
      "text/plain": [
       "{'SD_G2': 0.3228941874771643, 'SD_G1': -1.2720591018293638e-05}"
      ]
     },
     "execution_count": 69,
     "metadata": {},
     "output_type": "execute_result"
    }
   ],
   "source": [
    "calculate_woe(data, 'Surg_Description', 'Result')"
   ]
  },
  {
   "cell_type": "markdown",
   "id": "fe5b7f7e",
   "metadata": {},
   "source": [
    "## Payment Typology"
   ]
  },
  {
   "cell_type": "code",
   "execution_count": 70,
   "id": "9d91f04e",
   "metadata": {},
   "outputs": [],
   "source": [
    "data['Payment_Typology'] = data['Payment_Typology'].astype(str)"
   ]
  },
  {
   "cell_type": "code",
   "execution_count": 71,
   "id": "c04b45e7",
   "metadata": {},
   "outputs": [],
   "source": [
    "data['Payment_Typology']=data['Payment_Typology'].replace({\"1\":'PT_G1',\"2\":'PT_G1',\"3\":'PT_G1',\"4\":'PT_G1',\"5\":'PT_G2'}) "
   ]
  },
  {
   "cell_type": "code",
   "execution_count": 72,
   "id": "4f1eb64c",
   "metadata": {
    "scrolled": true
   },
   "outputs": [
    {
     "data": {
      "text/plain": [
       "PT_G1    838808\n",
       "PT_G2        52\n",
       "Name: Payment_Typology, dtype: int64"
      ]
     },
     "execution_count": 72,
     "metadata": {},
     "output_type": "execute_result"
    }
   ],
   "source": [
    "data['Payment_Typology'].value_counts()"
   ]
  },
  {
   "cell_type": "code",
   "execution_count": 73,
   "id": "732c48f3",
   "metadata": {},
   "outputs": [
    {
     "data": {
      "text/plain": [
       "{'PT_G1': 1.2708242144188026e-05, 'PT_G2': -0.19562378191198196}"
      ]
     },
     "execution_count": 73,
     "metadata": {},
     "output_type": "execute_result"
    }
   ],
   "source": [
    "calculate_woe(data, 'Payment_Typology', 'Result')"
   ]
  },
  {
   "cell_type": "markdown",
   "id": "91d374d5",
   "metadata": {},
   "source": [
    "## Emergency Dept"
   ]
  },
  {
   "cell_type": "code",
   "execution_count": 74,
   "id": "fc0029c3",
   "metadata": {},
   "outputs": [],
   "source": [
    "data['Emergency dept_yes/No']=data['Emergency dept_yes/No'].replace({\"N\":'ED_G1',\"Y\":'ED_G2'}) "
   ]
  },
  {
   "cell_type": "code",
   "execution_count": 75,
   "id": "1c4f3b8d",
   "metadata": {
    "scrolled": true
   },
   "outputs": [
    {
     "data": {
      "text/plain": [
       "ED_G2    472164\n",
       "ED_G1    366696\n",
       "Name: Emergency dept_yes/No, dtype: int64"
      ]
     },
     "execution_count": 75,
     "metadata": {},
     "output_type": "execute_result"
    }
   ],
   "source": [
    "data['Emergency dept_yes/No'].value_counts()"
   ]
  },
  {
   "cell_type": "code",
   "execution_count": 76,
   "id": "cb2dabd3",
   "metadata": {},
   "outputs": [
    {
     "data": {
      "text/plain": [
       "{'ED_G1': -0.004150666626271236, 'ED_G2': 0.0032294771505880287}"
      ]
     },
     "execution_count": 76,
     "metadata": {},
     "output_type": "execute_result"
    }
   ],
   "source": [
    "calculate_woe(data, 'Emergency dept_yes/No', 'Result')"
   ]
  },
  {
   "cell_type": "markdown",
   "id": "f4d92e23",
   "metadata": {},
   "source": [
    "## Gender"
   ]
  },
  {
   "cell_type": "code",
   "execution_count": 77,
   "id": "39851410",
   "metadata": {},
   "outputs": [],
   "source": [
    "data['Gender']=data['Gender'].replace({\"M\":'GN_G1',\"F\":'GN_G1',\"U\":'GN_G2'}) "
   ]
  },
  {
   "cell_type": "code",
   "execution_count": 78,
   "id": "9da9bbf6",
   "metadata": {
    "scrolled": true
   },
   "outputs": [
    {
     "data": {
      "text/plain": [
       "GN_G1    838819\n",
       "GN_G2        41\n",
       "Name: Gender, dtype: int64"
      ]
     },
     "execution_count": 78,
     "metadata": {},
     "output_type": "execute_result"
    }
   ],
   "source": [
    "data['Gender'].value_counts()"
   ]
  },
  {
   "cell_type": "code",
   "execution_count": 79,
   "id": "e0e6a2ff",
   "metadata": {},
   "outputs": [
    {
     "data": {
      "text/plain": [
       "{'GN_G1': -3.974151934056391e-05, 'GN_G2': 1.1261320580703376}"
      ]
     },
     "execution_count": 79,
     "metadata": {},
     "output_type": "execute_result"
    }
   ],
   "source": [
    "calculate_woe(data, 'Gender', 'Result')"
   ]
  },
  {
   "cell_type": "markdown",
   "id": "9f467511",
   "metadata": {},
   "source": [
    "## Ethnicity"
   ]
  },
  {
   "cell_type": "code",
   "execution_count": 80,
   "id": "0cb965c8",
   "metadata": {},
   "outputs": [
    {
     "data": {
      "text/plain": [
       "0         ET_G2\n",
       "1         ET_G2\n",
       "2         ET_G3\n",
       "3         ET_G2\n",
       "4         ET_G2\n",
       "          ...  \n",
       "838855    ET_G2\n",
       "838856    ET_G2\n",
       "838857    ET_G2\n",
       "838858    ET_G2\n",
       "838859    ET_G2\n",
       "Name: ethnicity , Length: 838860, dtype: category\n",
       "Categories (3, object): ['ET_G2', 'ET_G1', 'ET_G3']"
      ]
     },
     "execution_count": 80,
     "metadata": {},
     "output_type": "execute_result"
    }
   ],
   "source": [
    "data['ethnicity ']=data['ethnicity'].replace({\"Spanish/Hispanic\":'ET_G1',\"Unknown\":'ET_G3',\"Not Span/Hispanic\":'ET_G2'}) \n",
    "data['ethnicity ']"
   ]
  },
  {
   "cell_type": "code",
   "execution_count": 81,
   "id": "7690ffaa",
   "metadata": {},
   "outputs": [],
   "source": [
    "data['ethnicity'] = data['ethnicity'].apply(lambda x: 'ET_G1' if x=='Spanish/Hispanic'else x )\n",
    "data['ethnicity'] = data['ethnicity'].apply(lambda x: 'ET_G2' if x=='Not Span/Hispanic'else x )\n",
    "data['ethnicity'] = data['ethnicity'].apply(lambda x: 'ET_G3' if x=='Unknown'else x )"
   ]
  },
  {
   "cell_type": "code",
   "execution_count": 82,
   "id": "bfe289ba",
   "metadata": {
    "scrolled": true
   },
   "outputs": [
    {
     "data": {
      "text/plain": [
       "ET_G2    728405\n",
       "ET_G1     70492\n",
       "ET_G3     39963\n",
       "Name: ethnicity, dtype: int64"
      ]
     },
     "execution_count": 82,
     "metadata": {},
     "output_type": "execute_result"
    }
   ],
   "source": [
    "data['ethnicity'].value_counts()"
   ]
  },
  {
   "cell_type": "code",
   "execution_count": 83,
   "id": "c4f1f59c",
   "metadata": {},
   "outputs": [
    {
     "data": {
      "text/plain": [
       "{'ET_G2': -0.0015753438696964866,\n",
       " 'ET_G1': 0.011958620550494199,\n",
       " 'ET_G3': 0.007708871268325348}"
      ]
     },
     "execution_count": 83,
     "metadata": {},
     "output_type": "execute_result"
    }
   ],
   "source": [
    "calculate_woe(data, 'ethnicity', 'Result')"
   ]
  },
  {
   "cell_type": "markdown",
   "id": "a1f678d7",
   "metadata": {},
   "source": [
    "## AGE"
   ]
  },
  {
   "cell_type": "code",
   "execution_count": 85,
   "id": "92ffc904",
   "metadata": {},
   "outputs": [
    {
     "data": {
      "text/plain": [
       "0         AG_G2\n",
       "1         AG_G2\n",
       "2         AG_G1\n",
       "3         AG_G1\n",
       "4         AG_G2\n",
       "          ...  \n",
       "838855    AG_G3\n",
       "838856    AG_G2\n",
       "838857    AG_G3\n",
       "838858    AG_G2\n",
       "838859    AG_G3\n",
       "Name: Age, Length: 838860, dtype: category\n",
       "Categories (3, object): ['AG_G1', 'AG_G2', 'AG_G3']"
      ]
     },
     "execution_count": 85,
     "metadata": {},
     "output_type": "execute_result"
    }
   ],
   "source": [
    "data['Age']=data['Age'].replace({\"0 to 17\":'AG_G1',\"18 to 29\":'AG_G1',\"30 to 49\":'AG_G2',\"50 to 69\":'AG_G2',\"70 or Older\":'AG_G3'}) \n",
    "data['Age']"
   ]
  },
  {
   "cell_type": "code",
   "execution_count": 86,
   "id": "f043315a",
   "metadata": {
    "scrolled": true
   },
   "outputs": [
    {
     "data": {
      "text/plain": [
       "AG_G2    384489\n",
       "AG_G3    244868\n",
       "AG_G1    209503\n",
       "Name: Age, dtype: int64"
      ]
     },
     "execution_count": 86,
     "metadata": {},
     "output_type": "execute_result"
    }
   ],
   "source": [
    "data['Age'].value_counts()"
   ]
  },
  {
   "cell_type": "code",
   "execution_count": 87,
   "id": "fcb1fec6",
   "metadata": {},
   "outputs": [
    {
     "data": {
      "text/plain": [
       "{'AG_G1': -0.003014332520355296,\n",
       " 'AG_G2': 0.0013175464379253684,\n",
       " 'AG_G3': 0.0005128816088375077}"
      ]
     },
     "execution_count": 87,
     "metadata": {},
     "output_type": "execute_result"
    }
   ],
   "source": [
    "calculate_woe(data, 'Age', 'Result')"
   ]
  },
  {
   "cell_type": "markdown",
   "id": "2b5016c5",
   "metadata": {},
   "source": [
    "## Mortality Risk"
   ]
  },
  {
   "cell_type": "code",
   "execution_count": 88,
   "id": "ac6f6151",
   "metadata": {},
   "outputs": [],
   "source": [
    "data['Mortality risk'] = data['Mortality risk'].astype(str)"
   ]
  },
  {
   "cell_type": "code",
   "execution_count": 89,
   "id": "fb0ecb23",
   "metadata": {},
   "outputs": [
    {
     "data": {
      "text/plain": [
       "0         MR_G1\n",
       "1         MR_G2\n",
       "2         MR_G1\n",
       "3         MR_G1\n",
       "4         MR_G3\n",
       "          ...  \n",
       "838855    MR_G3\n",
       "838856    MR_G2\n",
       "838857    MR_G2\n",
       "838858    MR_G2\n",
       "838859    MR_G3\n",
       "Name: Mortality risk, Length: 838860, dtype: object"
      ]
     },
     "execution_count": 89,
     "metadata": {},
     "output_type": "execute_result"
    }
   ],
   "source": [
    "data['Mortality risk']=data['Mortality risk'].replace({\"1.0\":'MR_G1',\"2.0\":'MR_G2',\"3.0\":'MR_G3',\"4.0\":'MR_G4'}) \n",
    "data['Mortality risk']"
   ]
  },
  {
   "cell_type": "code",
   "execution_count": 90,
   "id": "4733549b",
   "metadata": {
    "scrolled": true
   },
   "outputs": [
    {
     "data": {
      "text/plain": [
       "MR_G1    491846\n",
       "MR_G3    186091\n",
       "MR_G2    113116\n",
       "MR_G4     47771\n",
       "0.0          36\n",
       "Name: Mortality risk, dtype: int64"
      ]
     },
     "execution_count": 90,
     "metadata": {},
     "output_type": "execute_result"
    }
   ],
   "source": [
    "data['Mortality risk'].value_counts()"
   ]
  },
  {
   "cell_type": "code",
   "execution_count": 91,
   "id": "763b859c",
   "metadata": {},
   "outputs": [
    {
     "data": {
      "text/plain": [
       "{'0.0': 0.3228941874771643,\n",
       " 'MR_G1': -0.006347742721489689,\n",
       " 'MR_G2': 0.004368739582064573,\n",
       " 'MR_G3': 0.01527483427196768,\n",
       " 'MR_G4': -0.0043678304690264}"
      ]
     },
     "execution_count": 91,
     "metadata": {},
     "output_type": "execute_result"
    }
   ],
   "source": [
    "calculate_woe(data, 'Mortality risk', 'Result')"
   ]
  },
  {
   "cell_type": "markdown",
   "id": "3ac1b6aa",
   "metadata": {},
   "source": [
    "## Code illness"
   ]
  },
  {
   "cell_type": "code",
   "execution_count": 92,
   "id": "2cff404b",
   "metadata": {},
   "outputs": [],
   "source": [
    "data['Code_illness'] = data['Code_illness'].astype(str)"
   ]
  },
  {
   "cell_type": "code",
   "execution_count": 93,
   "id": "e8a5ab07",
   "metadata": {},
   "outputs": [],
   "source": [
    "data['Code_illness ']=data['Code_illness'].replace({\"0\":'CI_G1',\"1\":'CI_G2',\"2\":'CI_G2',\"3\":'CI_G2',\"4\":'CI_G2'}) "
   ]
  },
  {
   "cell_type": "code",
   "execution_count": 94,
   "id": "60cbab09",
   "metadata": {},
   "outputs": [],
   "source": [
    "data['Code_illness'] = data['Code_illness'].apply(lambda x: 'CI_G1' if x=='1'or  x=='2'or  x=='3' or  x=='4'else x )\n",
    "data['Code_illness'] = data['Code_illness'].apply(lambda x: 'CI_G2' if x=='0' else x )"
   ]
  },
  {
   "cell_type": "code",
   "execution_count": 95,
   "id": "5b0c2714",
   "metadata": {},
   "outputs": [
    {
     "data": {
      "text/plain": [
       "CI_G1    838824\n",
       "CI_G2        36\n",
       "Name: Code_illness, dtype: int64"
      ]
     },
     "execution_count": 95,
     "metadata": {},
     "output_type": "execute_result"
    }
   ],
   "source": [
    "data['Code_illness'].value_counts()"
   ]
  },
  {
   "cell_type": "code",
   "execution_count": 96,
   "id": "3e84ca48",
   "metadata": {},
   "outputs": [
    {
     "data": {
      "text/plain": [
       "{'CI_G1': -1.2720591018293638e-05, 'CI_G2': 0.3228941874771643}"
      ]
     },
     "execution_count": 96,
     "metadata": {},
     "output_type": "execute_result"
    }
   ],
   "source": [
    "calculate_woe(data, 'Code_illness', 'Result')"
   ]
  },
  {
   "cell_type": "markdown",
   "id": "6e099ff5",
   "metadata": {},
   "source": [
    "## Home or self care"
   ]
  },
  {
   "cell_type": "code",
   "execution_count": 97,
   "id": "daf8162f",
   "metadata": {},
   "outputs": [
    {
     "name": "stdout",
     "output_type": "stream",
     "text": [
      "Unexpected exception formatting exception. Falling back to standard exception\n"
     ]
    },
    {
     "name": "stderr",
     "output_type": "stream",
     "text": [
      "Traceback (most recent call last):\n",
      "  File \"C:\\Users\\Hi\\anaconda3\\lib\\site-packages\\IPython\\core\\interactiveshell.py\", line 3369, in run_code\n",
      "    exec(code_obj, self.user_global_ns, self.user_ns)\n",
      "  File \"C:\\Users\\Hi\\AppData\\Local\\Temp\\ipykernel_32720\\702005050.py\", line 3, in <cell line: 3>\n",
      "    data_re.drop([\"Unnamed: 0.3\",\"Unnamed: 0.2\",\"Unnamed: 0.1\",\"Unnamed: 0\"],axis=1)\n",
      "  File \"C:\\Users\\Hi\\anaconda3\\lib\\site-packages\\pandas\\util\\_decorators.py\", line 331, in wrapper\n",
      "  File \"C:\\Users\\Hi\\anaconda3\\lib\\site-packages\\pandas\\core\\frame.py\", line 5399, in drop\n",
      "  File \"C:\\Users\\Hi\\anaconda3\\lib\\site-packages\\pandas\\util\\_decorators.py\", line 331, in wrapper\n",
      "  File \"C:\\Users\\Hi\\anaconda3\\lib\\site-packages\\pandas\\core\\generic.py\", line 4505, in drop\n",
      "    def drop(\n",
      "  File \"C:\\Users\\Hi\\anaconda3\\lib\\site-packages\\pandas\\core\\generic.py\", line 4546, in _drop_axis\n",
      "  File \"C:\\Users\\Hi\\anaconda3\\lib\\site-packages\\pandas\\core\\indexes\\base.py\", line 6934, in drop\n",
      "    isinstance(self, ABCMultiIndex)\n",
      "KeyError: \"['Unnamed: 0.3'] not found in axis\"\n",
      "\n",
      "During handling of the above exception, another exception occurred:\n",
      "\n",
      "Traceback (most recent call last):\n",
      "  File \"C:\\Users\\Hi\\anaconda3\\lib\\site-packages\\IPython\\core\\interactiveshell.py\", line 1982, in showtraceback\n",
      "    stb = self.InteractiveTB.structured_traceback(\n",
      "  File \"C:\\Users\\Hi\\anaconda3\\lib\\site-packages\\IPython\\core\\ultratb.py\", line 1118, in structured_traceback\n",
      "    return FormattedTB.structured_traceback(\n",
      "  File \"C:\\Users\\Hi\\anaconda3\\lib\\site-packages\\IPython\\core\\ultratb.py\", line 1012, in structured_traceback\n",
      "    return VerboseTB.structured_traceback(\n",
      "  File \"C:\\Users\\Hi\\anaconda3\\lib\\site-packages\\IPython\\core\\ultratb.py\", line 865, in structured_traceback\n",
      "    formatted_exception = self.format_exception_as_a_whole(etype, evalue, etb, number_of_lines_of_context,\n",
      "  File \"C:\\Users\\Hi\\anaconda3\\lib\\site-packages\\IPython\\core\\ultratb.py\", line 818, in format_exception_as_a_whole\n",
      "    frames.append(self.format_record(r))\n",
      "  File \"C:\\Users\\Hi\\anaconda3\\lib\\site-packages\\IPython\\core\\ultratb.py\", line 736, in format_record\n",
      "    result += ''.join(_format_traceback_lines(frame_info.lines, Colors, self.has_colors, lvals))\n",
      "  File \"C:\\Users\\Hi\\anaconda3\\lib\\site-packages\\stack_data\\utils.py\", line 145, in cached_property_wrapper\n",
      "    value = obj.__dict__[self.func.__name__] = self.func(obj)\n",
      "  File \"C:\\Users\\Hi\\anaconda3\\lib\\site-packages\\stack_data\\core.py\", line 698, in lines\n",
      "    pieces = self.included_pieces\n",
      "  File \"C:\\Users\\Hi\\anaconda3\\lib\\site-packages\\stack_data\\utils.py\", line 145, in cached_property_wrapper\n",
      "    value = obj.__dict__[self.func.__name__] = self.func(obj)\n",
      "  File \"C:\\Users\\Hi\\anaconda3\\lib\\site-packages\\stack_data\\core.py\", line 649, in included_pieces\n",
      "    pos = scope_pieces.index(self.executing_piece)\n",
      "  File \"C:\\Users\\Hi\\anaconda3\\lib\\site-packages\\stack_data\\utils.py\", line 145, in cached_property_wrapper\n",
      "    value = obj.__dict__[self.func.__name__] = self.func(obj)\n",
      "  File \"C:\\Users\\Hi\\anaconda3\\lib\\site-packages\\stack_data\\core.py\", line 628, in executing_piece\n",
      "    return only(\n",
      "  File \"C:\\Users\\Hi\\anaconda3\\lib\\site-packages\\executing\\executing.py\", line 164, in only\n",
      "    raise NotOneValueFound('Expected one value, found 0')\n",
      "executing.executing.NotOneValueFound: Expected one value, found 0\n"
     ]
    }
   ],
   "source": [
    "data_re=pd.read_csv(\"WOEGrouped_Final.csv\")\n",
    "\n",
    "data_re.drop([\"Unnamed: 0.3\",\"Unnamed: 0.2\",\"Unnamed: 0.1\",\"Unnamed: 0\"],axis=1)"
   ]
  },
  {
   "cell_type": "code",
   "execution_count": 98,
   "id": "83948f91",
   "metadata": {},
   "outputs": [
    {
     "data": {
      "text/html": [
       "<div>\n",
       "<style scoped>\n",
       "    .dataframe tbody tr th:only-of-type {\n",
       "        vertical-align: middle;\n",
       "    }\n",
       "\n",
       "    .dataframe tbody tr th {\n",
       "        vertical-align: top;\n",
       "    }\n",
       "\n",
       "    .dataframe thead th {\n",
       "        text-align: right;\n",
       "    }\n",
       "</style>\n",
       "<table border=\"1\" class=\"dataframe\">\n",
       "  <thead>\n",
       "    <tr style=\"text-align: right;\">\n",
       "      <th></th>\n",
       "      <th>Variable Name</th>\n",
       "      <th>Category Name</th>\n",
       "      <th>WOE</th>\n",
       "    </tr>\n",
       "  </thead>\n",
       "  <tbody>\n",
       "    <tr>\n",
       "      <th>0</th>\n",
       "      <td>Home or self care,</td>\n",
       "      <td>Facility w/ Custodial/Supportive Care</td>\n",
       "      <td>0.039587</td>\n",
       "    </tr>\n",
       "    <tr>\n",
       "      <th>1</th>\n",
       "      <td>Home or self care,</td>\n",
       "      <td>Hospice - Medical Facility</td>\n",
       "      <td>0.033087</td>\n",
       "    </tr>\n",
       "    <tr>\n",
       "      <th>2</th>\n",
       "      <td>Home or self care,</td>\n",
       "      <td>Medicare Cert Long Term Care Hospital</td>\n",
       "      <td>0.021474</td>\n",
       "    </tr>\n",
       "    <tr>\n",
       "      <th>3</th>\n",
       "      <td>Home or self care,</td>\n",
       "      <td>Left Against Medical Advice</td>\n",
       "      <td>0.010295</td>\n",
       "    </tr>\n",
       "    <tr>\n",
       "      <th>4</th>\n",
       "      <td>Home or self care,</td>\n",
       "      <td>Home w/ Home Health Services</td>\n",
       "      <td>0.005878</td>\n",
       "    </tr>\n",
       "    <tr>\n",
       "      <th>5</th>\n",
       "      <td>Home or self care,</td>\n",
       "      <td>Home or Self Care</td>\n",
       "      <td>0.001774</td>\n",
       "    </tr>\n",
       "    <tr>\n",
       "      <th>6</th>\n",
       "      <td>Home or self care,</td>\n",
       "      <td>Skilled Nursing Home</td>\n",
       "      <td>0.000978</td>\n",
       "    </tr>\n",
       "    <tr>\n",
       "      <th>7</th>\n",
       "      <td>Home or self care,</td>\n",
       "      <td>Short-term Hospital</td>\n",
       "      <td>-0.003295</td>\n",
       "    </tr>\n",
       "    <tr>\n",
       "      <th>8</th>\n",
       "      <td>Home or self care,</td>\n",
       "      <td>Expired</td>\n",
       "      <td>-0.023174</td>\n",
       "    </tr>\n",
       "    <tr>\n",
       "      <th>9</th>\n",
       "      <td>Home or self care,</td>\n",
       "      <td>Inpatient Rehabilitation Facility</td>\n",
       "      <td>-0.033299</td>\n",
       "    </tr>\n",
       "    <tr>\n",
       "      <th>10</th>\n",
       "      <td>Home or self care,</td>\n",
       "      <td>Hospice - Home</td>\n",
       "      <td>-0.035226</td>\n",
       "    </tr>\n",
       "    <tr>\n",
       "      <th>11</th>\n",
       "      <td>Home or self care,</td>\n",
       "      <td>Critical Access Hospital</td>\n",
       "      <td>-0.048669</td>\n",
       "    </tr>\n",
       "    <tr>\n",
       "      <th>12</th>\n",
       "      <td>Home or self care,</td>\n",
       "      <td>Court/Law Enforcement</td>\n",
       "      <td>-0.051301</td>\n",
       "    </tr>\n",
       "    <tr>\n",
       "      <th>13</th>\n",
       "      <td>Home or self care,</td>\n",
       "      <td>Psychiatric Hospital or Unit of Hosp</td>\n",
       "      <td>-0.061257</td>\n",
       "    </tr>\n",
       "    <tr>\n",
       "      <th>14</th>\n",
       "      <td>Home or self care,</td>\n",
       "      <td>Cancer Center or Children's Hospital</td>\n",
       "      <td>-0.063131</td>\n",
       "    </tr>\n",
       "    <tr>\n",
       "      <th>15</th>\n",
       "      <td>Home or self care,</td>\n",
       "      <td>Another Type Not Listed</td>\n",
       "      <td>-0.063788</td>\n",
       "    </tr>\n",
       "    <tr>\n",
       "      <th>16</th>\n",
       "      <td>Home or self care,</td>\n",
       "      <td>Hosp Basd Medicare Approved Swing Bed</td>\n",
       "      <td>-0.095932</td>\n",
       "    </tr>\n",
       "    <tr>\n",
       "      <th>17</th>\n",
       "      <td>Home or self care,</td>\n",
       "      <td>Federal Health Care Facility</td>\n",
       "      <td>-0.151310</td>\n",
       "    </tr>\n",
       "    <tr>\n",
       "      <th>18</th>\n",
       "      <td>Home or self care,</td>\n",
       "      <td>Medicaid Cert Nursing Facility</td>\n",
       "      <td>-0.405344</td>\n",
       "    </tr>\n",
       "  </tbody>\n",
       "</table>\n",
       "</div>"
      ],
      "text/plain": [
       "         Variable Name                          Category Name       WOE\n",
       "0   Home or self care,  Facility w/ Custodial/Supportive Care  0.039587\n",
       "1   Home or self care,             Hospice - Medical Facility  0.033087\n",
       "2   Home or self care,  Medicare Cert Long Term Care Hospital  0.021474\n",
       "3   Home or self care,            Left Against Medical Advice  0.010295\n",
       "4   Home or self care,           Home w/ Home Health Services  0.005878\n",
       "5   Home or self care,                      Home or Self Care  0.001774\n",
       "6   Home or self care,                   Skilled Nursing Home  0.000978\n",
       "7   Home or self care,                    Short-term Hospital -0.003295\n",
       "8   Home or self care,                                Expired -0.023174\n",
       "9   Home or self care,      Inpatient Rehabilitation Facility -0.033299\n",
       "10  Home or self care,                         Hospice - Home -0.035226\n",
       "11  Home or self care,               Critical Access Hospital -0.048669\n",
       "12  Home or self care,                  Court/Law Enforcement -0.051301\n",
       "13  Home or self care,   Psychiatric Hospital or Unit of Hosp -0.061257\n",
       "14  Home or self care,   Cancer Center or Children's Hospital -0.063131\n",
       "15  Home or self care,                Another Type Not Listed -0.063788\n",
       "16  Home or self care,  Hosp Basd Medicare Approved Swing Bed -0.095932\n",
       "17  Home or self care,           Federal Health Care Facility -0.151310\n",
       "18  Home or self care,         Medicaid Cert Nursing Facility -0.405344"
      ]
     },
     "execution_count": 98,
     "metadata": {},
     "output_type": "execute_result"
    }
   ],
   "source": [
    "woe_df_HSC = woe_df.loc[woe_df['Variable Name'] == \"Home or self care,\"]\n",
    "woe_df_HSC.reset_index(inplace=True, drop=True)\n",
    "woe_df_HSC"
   ]
  },
  {
   "cell_type": "code",
   "execution_count": 99,
   "id": "f54a3c82",
   "metadata": {},
   "outputs": [
    {
     "data": {
      "text/html": [
       "<div>\n",
       "<style scoped>\n",
       "    .dataframe tbody tr th:only-of-type {\n",
       "        vertical-align: middle;\n",
       "    }\n",
       "\n",
       "    .dataframe tbody tr th {\n",
       "        vertical-align: top;\n",
       "    }\n",
       "\n",
       "    .dataframe thead th {\n",
       "        text-align: right;\n",
       "    }\n",
       "</style>\n",
       "<table border=\"1\" class=\"dataframe\">\n",
       "  <thead>\n",
       "    <tr style=\"text-align: right;\">\n",
       "      <th></th>\n",
       "      <th>Variable Name</th>\n",
       "      <th>Category Name</th>\n",
       "      <th>WOE</th>\n",
       "      <th>Regrouping</th>\n",
       "    </tr>\n",
       "  </thead>\n",
       "  <tbody>\n",
       "    <tr>\n",
       "      <th>0</th>\n",
       "      <td>Home or self care,</td>\n",
       "      <td>Facility w/ Custodial/Supportive Care</td>\n",
       "      <td>0.039587</td>\n",
       "      <td>NaN</td>\n",
       "    </tr>\n",
       "    <tr>\n",
       "      <th>1</th>\n",
       "      <td>Home or self care,</td>\n",
       "      <td>Hospice - Medical Facility</td>\n",
       "      <td>0.033087</td>\n",
       "      <td>NaN</td>\n",
       "    </tr>\n",
       "    <tr>\n",
       "      <th>2</th>\n",
       "      <td>Home or self care,</td>\n",
       "      <td>Medicare Cert Long Term Care Hospital</td>\n",
       "      <td>0.021474</td>\n",
       "      <td>NaN</td>\n",
       "    </tr>\n",
       "    <tr>\n",
       "      <th>3</th>\n",
       "      <td>Home or self care,</td>\n",
       "      <td>Left Against Medical Advice</td>\n",
       "      <td>0.010295</td>\n",
       "      <td>NaN</td>\n",
       "    </tr>\n",
       "    <tr>\n",
       "      <th>4</th>\n",
       "      <td>Home or self care,</td>\n",
       "      <td>Home w/ Home Health Services</td>\n",
       "      <td>0.005878</td>\n",
       "      <td>NaN</td>\n",
       "    </tr>\n",
       "    <tr>\n",
       "      <th>5</th>\n",
       "      <td>Home or self care,</td>\n",
       "      <td>Home or Self Care</td>\n",
       "      <td>0.001774</td>\n",
       "      <td>NaN</td>\n",
       "    </tr>\n",
       "    <tr>\n",
       "      <th>6</th>\n",
       "      <td>Home or self care,</td>\n",
       "      <td>Skilled Nursing Home</td>\n",
       "      <td>0.000978</td>\n",
       "      <td>NaN</td>\n",
       "    </tr>\n",
       "    <tr>\n",
       "      <th>7</th>\n",
       "      <td>Home or self care,</td>\n",
       "      <td>Short-term Hospital</td>\n",
       "      <td>-0.003295</td>\n",
       "      <td>NaN</td>\n",
       "    </tr>\n",
       "    <tr>\n",
       "      <th>8</th>\n",
       "      <td>Home or self care,</td>\n",
       "      <td>Expired</td>\n",
       "      <td>-0.023174</td>\n",
       "      <td>NaN</td>\n",
       "    </tr>\n",
       "    <tr>\n",
       "      <th>9</th>\n",
       "      <td>Home or self care,</td>\n",
       "      <td>Inpatient Rehabilitation Facility</td>\n",
       "      <td>-0.033299</td>\n",
       "      <td>NaN</td>\n",
       "    </tr>\n",
       "    <tr>\n",
       "      <th>10</th>\n",
       "      <td>Home or self care,</td>\n",
       "      <td>Hospice - Home</td>\n",
       "      <td>-0.035226</td>\n",
       "      <td>NaN</td>\n",
       "    </tr>\n",
       "    <tr>\n",
       "      <th>11</th>\n",
       "      <td>Home or self care,</td>\n",
       "      <td>Critical Access Hospital</td>\n",
       "      <td>-0.048669</td>\n",
       "      <td>NaN</td>\n",
       "    </tr>\n",
       "    <tr>\n",
       "      <th>12</th>\n",
       "      <td>Home or self care,</td>\n",
       "      <td>Court/Law Enforcement</td>\n",
       "      <td>-0.051301</td>\n",
       "      <td>NaN</td>\n",
       "    </tr>\n",
       "    <tr>\n",
       "      <th>13</th>\n",
       "      <td>Home or self care,</td>\n",
       "      <td>Psychiatric Hospital or Unit of Hosp</td>\n",
       "      <td>-0.061257</td>\n",
       "      <td>NaN</td>\n",
       "    </tr>\n",
       "    <tr>\n",
       "      <th>14</th>\n",
       "      <td>Home or self care,</td>\n",
       "      <td>Cancer Center or Children's Hospital</td>\n",
       "      <td>-0.063131</td>\n",
       "      <td>NaN</td>\n",
       "    </tr>\n",
       "    <tr>\n",
       "      <th>15</th>\n",
       "      <td>Home or self care,</td>\n",
       "      <td>Another Type Not Listed</td>\n",
       "      <td>-0.063788</td>\n",
       "      <td>NaN</td>\n",
       "    </tr>\n",
       "    <tr>\n",
       "      <th>16</th>\n",
       "      <td>Home or self care,</td>\n",
       "      <td>Hosp Basd Medicare Approved Swing Bed</td>\n",
       "      <td>-0.095932</td>\n",
       "      <td>NaN</td>\n",
       "    </tr>\n",
       "    <tr>\n",
       "      <th>17</th>\n",
       "      <td>Home or self care,</td>\n",
       "      <td>Federal Health Care Facility</td>\n",
       "      <td>-0.151310</td>\n",
       "      <td>NaN</td>\n",
       "    </tr>\n",
       "    <tr>\n",
       "      <th>18</th>\n",
       "      <td>Home or self care,</td>\n",
       "      <td>Medicaid Cert Nursing Facility</td>\n",
       "      <td>-0.405344</td>\n",
       "      <td>NaN</td>\n",
       "    </tr>\n",
       "  </tbody>\n",
       "</table>\n",
       "</div>"
      ],
      "text/plain": [
       "         Variable Name                          Category Name       WOE  \\\n",
       "0   Home or self care,  Facility w/ Custodial/Supportive Care  0.039587   \n",
       "1   Home or self care,             Hospice - Medical Facility  0.033087   \n",
       "2   Home or self care,  Medicare Cert Long Term Care Hospital  0.021474   \n",
       "3   Home or self care,            Left Against Medical Advice  0.010295   \n",
       "4   Home or self care,           Home w/ Home Health Services  0.005878   \n",
       "5   Home or self care,                      Home or Self Care  0.001774   \n",
       "6   Home or self care,                   Skilled Nursing Home  0.000978   \n",
       "7   Home or self care,                    Short-term Hospital -0.003295   \n",
       "8   Home or self care,                                Expired -0.023174   \n",
       "9   Home or self care,      Inpatient Rehabilitation Facility -0.033299   \n",
       "10  Home or self care,                         Hospice - Home -0.035226   \n",
       "11  Home or self care,               Critical Access Hospital -0.048669   \n",
       "12  Home or self care,                  Court/Law Enforcement -0.051301   \n",
       "13  Home or self care,   Psychiatric Hospital or Unit of Hosp -0.061257   \n",
       "14  Home or self care,   Cancer Center or Children's Hospital -0.063131   \n",
       "15  Home or self care,                Another Type Not Listed -0.063788   \n",
       "16  Home or self care,  Hosp Basd Medicare Approved Swing Bed -0.095932   \n",
       "17  Home or self care,           Federal Health Care Facility -0.151310   \n",
       "18  Home or self care,         Medicaid Cert Nursing Facility -0.405344   \n",
       "\n",
       "    Regrouping  \n",
       "0          NaN  \n",
       "1          NaN  \n",
       "2          NaN  \n",
       "3          NaN  \n",
       "4          NaN  \n",
       "5          NaN  \n",
       "6          NaN  \n",
       "7          NaN  \n",
       "8          NaN  \n",
       "9          NaN  \n",
       "10         NaN  \n",
       "11         NaN  \n",
       "12         NaN  \n",
       "13         NaN  \n",
       "14         NaN  \n",
       "15         NaN  \n",
       "16         NaN  \n",
       "17         NaN  \n",
       "18         NaN  "
      ]
     },
     "execution_count": 99,
     "metadata": {},
     "output_type": "execute_result"
    }
   ],
   "source": [
    "woe_df_HSC[\"Regrouping\"] = np.nan\n",
    "woe_df_HSC"
   ]
  },
  {
   "cell_type": "code",
   "execution_count": 100,
   "id": "0ae5eb9a",
   "metadata": {},
   "outputs": [
    {
     "data": {
      "text/plain": [
       "{'HC_G1': (0.02, -0.0), 'HSC_G1': (0.2, 0.18)}"
      ]
     },
     "execution_count": 100,
     "metadata": {},
     "output_type": "execute_result"
    }
   ],
   "source": [
    "criteria = {}\n",
    "\n",
    "x = np.round(np.arange(-0.18,0.22,0.02),4)\n",
    "y = np.round(np.arange(-0.20,0.22,0.02),4)\n",
    "\n",
    "count = 1\n",
    "for i,j in zip(x,y):\n",
    "    if i>0 and j>0:\n",
    "        criteria[f'HSC_G{count}'] = (i,j)\n",
    "    else:\n",
    "        criteria[f'HC_G{count}'] = (i,j)\n",
    "count = count + 1\n",
    "criteria"
   ]
  },
  {
   "cell_type": "code",
   "execution_count": 101,
   "id": "0e3a904d",
   "metadata": {},
   "outputs": [
    {
     "data": {
      "text/html": [
       "<div>\n",
       "<style scoped>\n",
       "    .dataframe tbody tr th:only-of-type {\n",
       "        vertical-align: middle;\n",
       "    }\n",
       "\n",
       "    .dataframe tbody tr th {\n",
       "        vertical-align: top;\n",
       "    }\n",
       "\n",
       "    .dataframe thead th {\n",
       "        text-align: right;\n",
       "    }\n",
       "</style>\n",
       "<table border=\"1\" class=\"dataframe\">\n",
       "  <thead>\n",
       "    <tr style=\"text-align: right;\">\n",
       "      <th></th>\n",
       "      <th>Groups</th>\n",
       "      <th>limit1</th>\n",
       "      <th>limit2</th>\n",
       "    </tr>\n",
       "  </thead>\n",
       "  <tbody>\n",
       "    <tr>\n",
       "      <th>0</th>\n",
       "      <td>HC_G1</td>\n",
       "      <td>0.02</td>\n",
       "      <td>-0.0</td>\n",
       "    </tr>\n",
       "    <tr>\n",
       "      <th>1</th>\n",
       "      <td>HSC_G1</td>\n",
       "      <td>0.2</td>\n",
       "      <td>0.18</td>\n",
       "    </tr>\n",
       "  </tbody>\n",
       "</table>\n",
       "</div>"
      ],
      "text/plain": [
       "   Groups limit1 limit2\n",
       "0   HC_G1   0.02   -0.0\n",
       "1  HSC_G1    0.2   0.18"
      ]
     },
     "execution_count": 101,
     "metadata": {},
     "output_type": "execute_result"
    }
   ],
   "source": [
    "columns = ['Groups', 'limit1', 'limit2']\n",
    "criteria_df=pd.DataFrame(index=range(len(criteria)),columns=columns)\n",
    "count=0\n",
    "for key,value in zip(criteria,criteria.values()):\n",
    "#     #print(key,value[0],value[1])\n",
    "    criteria_df.iloc[count,0] = key\n",
    "    criteria_df.iloc[count,1] = value[0]\n",
    "    criteria_df.iloc[count,2] = value[1]\n",
    "    count = count+1\n",
    "criteria_df"
   ]
  },
  {
   "cell_type": "code",
   "execution_count": 102,
   "id": "074a4383",
   "metadata": {},
   "outputs": [
    {
     "data": {
      "text/html": [
       "<div>\n",
       "<style scoped>\n",
       "    .dataframe tbody tr th:only-of-type {\n",
       "        vertical-align: middle;\n",
       "    }\n",
       "\n",
       "    .dataframe tbody tr th {\n",
       "        vertical-align: top;\n",
       "    }\n",
       "\n",
       "    .dataframe thead th {\n",
       "        text-align: right;\n",
       "    }\n",
       "</style>\n",
       "<table border=\"1\" class=\"dataframe\">\n",
       "  <thead>\n",
       "    <tr style=\"text-align: right;\">\n",
       "      <th></th>\n",
       "      <th>Variable Name</th>\n",
       "      <th>Category Name</th>\n",
       "      <th>WOE</th>\n",
       "      <th>Regrouping</th>\n",
       "    </tr>\n",
       "  </thead>\n",
       "  <tbody>\n",
       "    <tr>\n",
       "      <th>0</th>\n",
       "      <td>Home or self care,</td>\n",
       "      <td>Facility w/ Custodial/Supportive Care</td>\n",
       "      <td>0.039587</td>\n",
       "      <td>NaN</td>\n",
       "    </tr>\n",
       "    <tr>\n",
       "      <th>1</th>\n",
       "      <td>Home or self care,</td>\n",
       "      <td>Hospice - Medical Facility</td>\n",
       "      <td>0.033087</td>\n",
       "      <td>NaN</td>\n",
       "    </tr>\n",
       "    <tr>\n",
       "      <th>2</th>\n",
       "      <td>Home or self care,</td>\n",
       "      <td>Medicare Cert Long Term Care Hospital</td>\n",
       "      <td>0.021474</td>\n",
       "      <td>NaN</td>\n",
       "    </tr>\n",
       "    <tr>\n",
       "      <th>3</th>\n",
       "      <td>Home or self care,</td>\n",
       "      <td>Left Against Medical Advice</td>\n",
       "      <td>0.010295</td>\n",
       "      <td>HC_G1</td>\n",
       "    </tr>\n",
       "    <tr>\n",
       "      <th>4</th>\n",
       "      <td>Home or self care,</td>\n",
       "      <td>Home w/ Home Health Services</td>\n",
       "      <td>0.005878</td>\n",
       "      <td>HC_G1</td>\n",
       "    </tr>\n",
       "    <tr>\n",
       "      <th>5</th>\n",
       "      <td>Home or self care,</td>\n",
       "      <td>Home or Self Care</td>\n",
       "      <td>0.001774</td>\n",
       "      <td>HC_G1</td>\n",
       "    </tr>\n",
       "    <tr>\n",
       "      <th>6</th>\n",
       "      <td>Home or self care,</td>\n",
       "      <td>Skilled Nursing Home</td>\n",
       "      <td>0.000978</td>\n",
       "      <td>HC_G1</td>\n",
       "    </tr>\n",
       "    <tr>\n",
       "      <th>7</th>\n",
       "      <td>Home or self care,</td>\n",
       "      <td>Short-term Hospital</td>\n",
       "      <td>-0.003295</td>\n",
       "      <td>NaN</td>\n",
       "    </tr>\n",
       "    <tr>\n",
       "      <th>8</th>\n",
       "      <td>Home or self care,</td>\n",
       "      <td>Expired</td>\n",
       "      <td>-0.023174</td>\n",
       "      <td>NaN</td>\n",
       "    </tr>\n",
       "    <tr>\n",
       "      <th>9</th>\n",
       "      <td>Home or self care,</td>\n",
       "      <td>Inpatient Rehabilitation Facility</td>\n",
       "      <td>-0.033299</td>\n",
       "      <td>NaN</td>\n",
       "    </tr>\n",
       "    <tr>\n",
       "      <th>10</th>\n",
       "      <td>Home or self care,</td>\n",
       "      <td>Hospice - Home</td>\n",
       "      <td>-0.035226</td>\n",
       "      <td>NaN</td>\n",
       "    </tr>\n",
       "    <tr>\n",
       "      <th>11</th>\n",
       "      <td>Home or self care,</td>\n",
       "      <td>Critical Access Hospital</td>\n",
       "      <td>-0.048669</td>\n",
       "      <td>NaN</td>\n",
       "    </tr>\n",
       "    <tr>\n",
       "      <th>12</th>\n",
       "      <td>Home or self care,</td>\n",
       "      <td>Court/Law Enforcement</td>\n",
       "      <td>-0.051301</td>\n",
       "      <td>NaN</td>\n",
       "    </tr>\n",
       "    <tr>\n",
       "      <th>13</th>\n",
       "      <td>Home or self care,</td>\n",
       "      <td>Psychiatric Hospital or Unit of Hosp</td>\n",
       "      <td>-0.061257</td>\n",
       "      <td>NaN</td>\n",
       "    </tr>\n",
       "    <tr>\n",
       "      <th>14</th>\n",
       "      <td>Home or self care,</td>\n",
       "      <td>Cancer Center or Children's Hospital</td>\n",
       "      <td>-0.063131</td>\n",
       "      <td>NaN</td>\n",
       "    </tr>\n",
       "    <tr>\n",
       "      <th>15</th>\n",
       "      <td>Home or self care,</td>\n",
       "      <td>Another Type Not Listed</td>\n",
       "      <td>-0.063788</td>\n",
       "      <td>NaN</td>\n",
       "    </tr>\n",
       "    <tr>\n",
       "      <th>16</th>\n",
       "      <td>Home or self care,</td>\n",
       "      <td>Hosp Basd Medicare Approved Swing Bed</td>\n",
       "      <td>-0.095932</td>\n",
       "      <td>NaN</td>\n",
       "    </tr>\n",
       "    <tr>\n",
       "      <th>17</th>\n",
       "      <td>Home or self care,</td>\n",
       "      <td>Federal Health Care Facility</td>\n",
       "      <td>-0.151310</td>\n",
       "      <td>NaN</td>\n",
       "    </tr>\n",
       "    <tr>\n",
       "      <th>18</th>\n",
       "      <td>Home or self care,</td>\n",
       "      <td>Medicaid Cert Nursing Facility</td>\n",
       "      <td>-0.405344</td>\n",
       "      <td>NaN</td>\n",
       "    </tr>\n",
       "  </tbody>\n",
       "</table>\n",
       "</div>"
      ],
      "text/plain": [
       "         Variable Name                          Category Name       WOE  \\\n",
       "0   Home or self care,  Facility w/ Custodial/Supportive Care  0.039587   \n",
       "1   Home or self care,             Hospice - Medical Facility  0.033087   \n",
       "2   Home or self care,  Medicare Cert Long Term Care Hospital  0.021474   \n",
       "3   Home or self care,            Left Against Medical Advice  0.010295   \n",
       "4   Home or self care,           Home w/ Home Health Services  0.005878   \n",
       "5   Home or self care,                      Home or Self Care  0.001774   \n",
       "6   Home or self care,                   Skilled Nursing Home  0.000978   \n",
       "7   Home or self care,                    Short-term Hospital -0.003295   \n",
       "8   Home or self care,                                Expired -0.023174   \n",
       "9   Home or self care,      Inpatient Rehabilitation Facility -0.033299   \n",
       "10  Home or self care,                         Hospice - Home -0.035226   \n",
       "11  Home or self care,               Critical Access Hospital -0.048669   \n",
       "12  Home or self care,                  Court/Law Enforcement -0.051301   \n",
       "13  Home or self care,   Psychiatric Hospital or Unit of Hosp -0.061257   \n",
       "14  Home or self care,   Cancer Center or Children's Hospital -0.063131   \n",
       "15  Home or self care,                Another Type Not Listed -0.063788   \n",
       "16  Home or self care,  Hosp Basd Medicare Approved Swing Bed -0.095932   \n",
       "17  Home or self care,           Federal Health Care Facility -0.151310   \n",
       "18  Home or self care,         Medicaid Cert Nursing Facility -0.405344   \n",
       "\n",
       "   Regrouping  \n",
       "0         NaN  \n",
       "1         NaN  \n",
       "2         NaN  \n",
       "3       HC_G1  \n",
       "4       HC_G1  \n",
       "5       HC_G1  \n",
       "6       HC_G1  \n",
       "7         NaN  \n",
       "8         NaN  \n",
       "9         NaN  \n",
       "10        NaN  \n",
       "11        NaN  \n",
       "12        NaN  \n",
       "13        NaN  \n",
       "14        NaN  \n",
       "15        NaN  \n",
       "16        NaN  \n",
       "17        NaN  \n",
       "18        NaN  "
      ]
     },
     "execution_count": 102,
     "metadata": {},
     "output_type": "execute_result"
    }
   ],
   "source": [
    " for i in range(len(woe_df_HSC)):\n",
    "        for j in range(len(criteria_df)):  \n",
    "            if (woe_df_HSC.iloc[i,2] < criteria_df.iloc[j,1] and woe_df_HSC.iloc[i,2]> criteria_df.iloc[j,2]):\n",
    "                woe_df_HSC.iloc[i,3] = criteria_df.iloc[j,0]\n",
    "woe_df_HSC"
   ]
  },
  {
   "cell_type": "code",
   "execution_count": 103,
   "id": "0b4eeb96",
   "metadata": {},
   "outputs": [
    {
     "data": {
      "text/plain": [
       "1"
      ]
     },
     "execution_count": 103,
     "metadata": {},
     "output_type": "execute_result"
    }
   ],
   "source": [
    " woe_df_HSC['Regrouping'].nunique()"
   ]
  },
  {
   "cell_type": "code",
   "execution_count": 104,
   "id": "bffab508",
   "metadata": {},
   "outputs": [],
   "source": [
    " for i in range(len(data_re)):\n",
    "        for j in range(len(woe_df_HSC)):  \n",
    "             if data_re.iloc[i,8]== woe_df_HSC.iloc[j,1]:\n",
    "                \n",
    "                data_re.iloc[i,8]= woe_df_HSC.iloc[j,3]"
   ]
  },
  {
   "cell_type": "code",
   "execution_count": 106,
   "id": "7d6efd3e",
   "metadata": {},
   "outputs": [
    {
     "data": {
      "text/plain": [
       "Home or Self Care                        555761\n",
       "Home w/ Home Health Services             105760\n",
       "Skilled Nursing Home                      87140\n",
       "Expired                                   18267\n",
       "Short-term Hospital                       17160\n",
       "Inpatient Rehabilitation Facility         13967\n",
       "Left Against Medical Advice               13664\n",
       "Psychiatric Hospital or Unit of Hosp       5392\n",
       "Hospice - Home                             3814\n",
       "Hospice - Medical Facility                 3752\n",
       "Another Type Not Listed                    3635\n",
       "Facility w/ Custodial/Supportive Care      2798\n",
       "Court/Law Enforcement                      2637\n",
       "Medicare Cert Long Term Care Hospital      1695\n",
       "Cancer Center or Children's Hospital       1515\n",
       "Hosp Basd Medicare Approved Swing Bed      1505\n",
       "Federal Health Care Facility                365\n",
       "Critical Access Hospital                     27\n",
       "Medicaid Cert Nursing Facility                6\n",
       "Name: Home or self care,, dtype: int64"
      ]
     },
     "execution_count": 106,
     "metadata": {},
     "output_type": "execute_result"
    }
   ],
   "source": [
    "data[\"Home or self care,\"].value_counts()"
   ]
  },
  {
   "cell_type": "code",
   "execution_count": 107,
   "id": "f73943d1",
   "metadata": {},
   "outputs": [],
   "source": [
    "data.to_csv('Grouped_Final.csv')"
   ]
  },
  {
   "cell_type": "markdown",
   "id": "f03074cc",
   "metadata": {},
   "source": [
    "## apr-drg description"
   ]
  },
  {
   "cell_type": "code",
   "execution_count": 108,
   "id": "3cdd3442",
   "metadata": {},
   "outputs": [
    {
     "data": {
      "text/html": [
       "<div>\n",
       "<style scoped>\n",
       "    .dataframe tbody tr th:only-of-type {\n",
       "        vertical-align: middle;\n",
       "    }\n",
       "\n",
       "    .dataframe tbody tr th {\n",
       "        vertical-align: top;\n",
       "    }\n",
       "\n",
       "    .dataframe thead th {\n",
       "        text-align: right;\n",
       "    }\n",
       "</style>\n",
       "<table border=\"1\" class=\"dataframe\">\n",
       "  <thead>\n",
       "    <tr style=\"text-align: right;\">\n",
       "      <th></th>\n",
       "      <th>Area_Service</th>\n",
       "      <th>Hospital County</th>\n",
       "      <th>Age</th>\n",
       "      <th>Gender</th>\n",
       "      <th>Cultural_group</th>\n",
       "      <th>ethnicity</th>\n",
       "      <th>Days_spend_hsptl</th>\n",
       "      <th>Admission_type</th>\n",
       "      <th>Home or self care,</th>\n",
       "      <th>ccs_diagnosis_code</th>\n",
       "      <th>...</th>\n",
       "      <th>Weight_baby</th>\n",
       "      <th>Abortion</th>\n",
       "      <th>Emergency dept_yes/No</th>\n",
       "      <th>Tot_charg</th>\n",
       "      <th>Tot_cost</th>\n",
       "      <th>ratio_of_total_costs_to_total_charges</th>\n",
       "      <th>Payment_Typology</th>\n",
       "      <th>Result</th>\n",
       "      <th>ethnicity</th>\n",
       "      <th>Code_illness</th>\n",
       "    </tr>\n",
       "  </thead>\n",
       "  <tbody>\n",
       "    <tr>\n",
       "      <th>0</th>\n",
       "      <td>AS_G1</td>\n",
       "      <td>Onondaga</td>\n",
       "      <td>AG_G2</td>\n",
       "      <td>GN_G1</td>\n",
       "      <td>CG_G1</td>\n",
       "      <td>ET_G2</td>\n",
       "      <td>5</td>\n",
       "      <td>AT_G2</td>\n",
       "      <td>Home or Self Care</td>\n",
       "      <td>660</td>\n",
       "      <td>...</td>\n",
       "      <td>0</td>\n",
       "      <td>AB_G1</td>\n",
       "      <td>ED_G1</td>\n",
       "      <td>8990.22</td>\n",
       "      <td>4801.74</td>\n",
       "      <td>0.534107</td>\n",
       "      <td>PT_G1</td>\n",
       "      <td>0</td>\n",
       "      <td>ET_G2</td>\n",
       "      <td>CI_G2</td>\n",
       "    </tr>\n",
       "    <tr>\n",
       "      <th>1</th>\n",
       "      <td>AS_G2</td>\n",
       "      <td>Erie</td>\n",
       "      <td>AG_G2</td>\n",
       "      <td>GN_G1</td>\n",
       "      <td>CG_G1</td>\n",
       "      <td>ET_G2</td>\n",
       "      <td>6</td>\n",
       "      <td>AT_G1</td>\n",
       "      <td>Another Type Not Listed</td>\n",
       "      <td>660</td>\n",
       "      <td>...</td>\n",
       "      <td>0</td>\n",
       "      <td>AB_G1</td>\n",
       "      <td>ED_G2</td>\n",
       "      <td>11604.62</td>\n",
       "      <td>7420.40</td>\n",
       "      <td>0.639435</td>\n",
       "      <td>PT_G1</td>\n",
       "      <td>1</td>\n",
       "      <td>ET_G2</td>\n",
       "      <td>CI_G2</td>\n",
       "    </tr>\n",
       "    <tr>\n",
       "      <th>2</th>\n",
       "      <td>AS_G2</td>\n",
       "      <td>Westchester</td>\n",
       "      <td>AG_G1</td>\n",
       "      <td>GN_G1</td>\n",
       "      <td>CG_G2</td>\n",
       "      <td>ET_G3</td>\n",
       "      <td>2</td>\n",
       "      <td>AT_G1</td>\n",
       "      <td>Home or Self Care</td>\n",
       "      <td>218</td>\n",
       "      <td>...</td>\n",
       "      <td>3400</td>\n",
       "      <td>AB_G1</td>\n",
       "      <td>ED_G1</td>\n",
       "      <td>3072.25</td>\n",
       "      <td>947.56</td>\n",
       "      <td>0.308424</td>\n",
       "      <td>PT_G1</td>\n",
       "      <td>1</td>\n",
       "      <td>ET_G3</td>\n",
       "      <td>CI_G2</td>\n",
       "    </tr>\n",
       "    <tr>\n",
       "      <th>3</th>\n",
       "      <td>AS_G2</td>\n",
       "      <td>Erie</td>\n",
       "      <td>AG_G1</td>\n",
       "      <td>GN_G1</td>\n",
       "      <td>CG_G1</td>\n",
       "      <td>ET_G2</td>\n",
       "      <td>3</td>\n",
       "      <td>AT_G1</td>\n",
       "      <td>Home or Self Care</td>\n",
       "      <td>218</td>\n",
       "      <td>...</td>\n",
       "      <td>4000</td>\n",
       "      <td>AB_G1</td>\n",
       "      <td>ED_G1</td>\n",
       "      <td>3906.92</td>\n",
       "      <td>2048.56</td>\n",
       "      <td>0.524342</td>\n",
       "      <td>PT_G1</td>\n",
       "      <td>1</td>\n",
       "      <td>ET_G2</td>\n",
       "      <td>CI_G2</td>\n",
       "    </tr>\n",
       "    <tr>\n",
       "      <th>4</th>\n",
       "      <td>AS_G1</td>\n",
       "      <td>Bronx</td>\n",
       "      <td>AG_G2</td>\n",
       "      <td>GN_G1</td>\n",
       "      <td>CG_G1</td>\n",
       "      <td>ET_G2</td>\n",
       "      <td>5</td>\n",
       "      <td>AT_G1</td>\n",
       "      <td>Home w/ Home Health Services</td>\n",
       "      <td>50</td>\n",
       "      <td>...</td>\n",
       "      <td>0</td>\n",
       "      <td>AB_G1</td>\n",
       "      <td>ED_G2</td>\n",
       "      <td>44588.10</td>\n",
       "      <td>9461.28</td>\n",
       "      <td>0.212193</td>\n",
       "      <td>PT_G1</td>\n",
       "      <td>0</td>\n",
       "      <td>ET_G2</td>\n",
       "      <td>CI_G2</td>\n",
       "    </tr>\n",
       "    <tr>\n",
       "      <th>...</th>\n",
       "      <td>...</td>\n",
       "      <td>...</td>\n",
       "      <td>...</td>\n",
       "      <td>...</td>\n",
       "      <td>...</td>\n",
       "      <td>...</td>\n",
       "      <td>...</td>\n",
       "      <td>...</td>\n",
       "      <td>...</td>\n",
       "      <td>...</td>\n",
       "      <td>...</td>\n",
       "      <td>...</td>\n",
       "      <td>...</td>\n",
       "      <td>...</td>\n",
       "      <td>...</td>\n",
       "      <td>...</td>\n",
       "      <td>...</td>\n",
       "      <td>...</td>\n",
       "      <td>...</td>\n",
       "      <td>...</td>\n",
       "      <td>...</td>\n",
       "    </tr>\n",
       "    <tr>\n",
       "      <th>838855</th>\n",
       "      <td>AS_G2</td>\n",
       "      <td>Rockland</td>\n",
       "      <td>AG_G3</td>\n",
       "      <td>GN_G1</td>\n",
       "      <td>CG_G1</td>\n",
       "      <td>ET_G2</td>\n",
       "      <td>3</td>\n",
       "      <td>AT_G1</td>\n",
       "      <td>Home or Self Care</td>\n",
       "      <td>229</td>\n",
       "      <td>...</td>\n",
       "      <td>0</td>\n",
       "      <td>AB_G1</td>\n",
       "      <td>ED_G2</td>\n",
       "      <td>19334.31</td>\n",
       "      <td>4052.27</td>\n",
       "      <td>0.209590</td>\n",
       "      <td>PT_G1</td>\n",
       "      <td>1</td>\n",
       "      <td>ET_G2</td>\n",
       "      <td>CI_G2</td>\n",
       "    </tr>\n",
       "    <tr>\n",
       "      <th>838856</th>\n",
       "      <td>AS_G3</td>\n",
       "      <td>Monroe</td>\n",
       "      <td>AG_G2</td>\n",
       "      <td>GN_G1</td>\n",
       "      <td>CG_G1</td>\n",
       "      <td>ET_G2</td>\n",
       "      <td>8</td>\n",
       "      <td>AT_G1</td>\n",
       "      <td>Home w/ Home Health Services</td>\n",
       "      <td>122</td>\n",
       "      <td>...</td>\n",
       "      <td>0</td>\n",
       "      <td>AB_G1</td>\n",
       "      <td>ED_G2</td>\n",
       "      <td>18326.20</td>\n",
       "      <td>8070.47</td>\n",
       "      <td>0.440379</td>\n",
       "      <td>PT_G1</td>\n",
       "      <td>1</td>\n",
       "      <td>ET_G2</td>\n",
       "      <td>CI_G2</td>\n",
       "    </tr>\n",
       "    <tr>\n",
       "      <th>838857</th>\n",
       "      <td>AS_G2</td>\n",
       "      <td>Westchester</td>\n",
       "      <td>AG_G3</td>\n",
       "      <td>GN_G1</td>\n",
       "      <td>CG_G1</td>\n",
       "      <td>ET_G2</td>\n",
       "      <td>3</td>\n",
       "      <td>AT_G1</td>\n",
       "      <td>Skilled Nursing Home</td>\n",
       "      <td>55</td>\n",
       "      <td>...</td>\n",
       "      <td>0</td>\n",
       "      <td>AB_G1</td>\n",
       "      <td>ED_G2</td>\n",
       "      <td>12807.98</td>\n",
       "      <td>6835.37</td>\n",
       "      <td>0.533681</td>\n",
       "      <td>PT_G1</td>\n",
       "      <td>0</td>\n",
       "      <td>ET_G2</td>\n",
       "      <td>CI_G2</td>\n",
       "    </tr>\n",
       "    <tr>\n",
       "      <th>838858</th>\n",
       "      <td>AS_G3</td>\n",
       "      <td>Warren</td>\n",
       "      <td>AG_G2</td>\n",
       "      <td>GN_G1</td>\n",
       "      <td>CG_G1</td>\n",
       "      <td>ET_G2</td>\n",
       "      <td>8</td>\n",
       "      <td>AT_G2</td>\n",
       "      <td>Home or Self Care</td>\n",
       "      <td>58</td>\n",
       "      <td>...</td>\n",
       "      <td>0</td>\n",
       "      <td>AB_G1</td>\n",
       "      <td>ED_G1</td>\n",
       "      <td>20933.82</td>\n",
       "      <td>8294.48</td>\n",
       "      <td>0.396224</td>\n",
       "      <td>PT_G1</td>\n",
       "      <td>1</td>\n",
       "      <td>ET_G2</td>\n",
       "      <td>CI_G2</td>\n",
       "    </tr>\n",
       "    <tr>\n",
       "      <th>838859</th>\n",
       "      <td>AS_G1</td>\n",
       "      <td>Onondaga</td>\n",
       "      <td>AG_G3</td>\n",
       "      <td>GN_G1</td>\n",
       "      <td>CG_G1</td>\n",
       "      <td>ET_G2</td>\n",
       "      <td>11</td>\n",
       "      <td>AT_G2</td>\n",
       "      <td>Skilled Nursing Home</td>\n",
       "      <td>96</td>\n",
       "      <td>...</td>\n",
       "      <td>0</td>\n",
       "      <td>AB_G1</td>\n",
       "      <td>ED_G1</td>\n",
       "      <td>96676.23</td>\n",
       "      <td>36101.17</td>\n",
       "      <td>0.373423</td>\n",
       "      <td>PT_G1</td>\n",
       "      <td>1</td>\n",
       "      <td>ET_G2</td>\n",
       "      <td>CI_G2</td>\n",
       "    </tr>\n",
       "  </tbody>\n",
       "</table>\n",
       "<p>838860 rows × 25 columns</p>\n",
       "</div>"
      ],
      "text/plain": [
       "       Area_Service Hospital County    Age Gender Cultural_group ethnicity  \\\n",
       "0             AS_G1        Onondaga  AG_G2  GN_G1          CG_G1     ET_G2   \n",
       "1             AS_G2            Erie  AG_G2  GN_G1          CG_G1     ET_G2   \n",
       "2             AS_G2     Westchester  AG_G1  GN_G1          CG_G2     ET_G3   \n",
       "3             AS_G2            Erie  AG_G1  GN_G1          CG_G1     ET_G2   \n",
       "4             AS_G1           Bronx  AG_G2  GN_G1          CG_G1     ET_G2   \n",
       "...             ...             ...    ...    ...            ...       ...   \n",
       "838855        AS_G2        Rockland  AG_G3  GN_G1          CG_G1     ET_G2   \n",
       "838856        AS_G3          Monroe  AG_G2  GN_G1          CG_G1     ET_G2   \n",
       "838857        AS_G2     Westchester  AG_G3  GN_G1          CG_G1     ET_G2   \n",
       "838858        AS_G3          Warren  AG_G2  GN_G1          CG_G1     ET_G2   \n",
       "838859        AS_G1        Onondaga  AG_G3  GN_G1          CG_G1     ET_G2   \n",
       "\n",
       "       Days_spend_hsptl Admission_type            Home or self care,  \\\n",
       "0                     5          AT_G2             Home or Self Care   \n",
       "1                     6          AT_G1       Another Type Not Listed   \n",
       "2                     2          AT_G1             Home or Self Care   \n",
       "3                     3          AT_G1             Home or Self Care   \n",
       "4                     5          AT_G1  Home w/ Home Health Services   \n",
       "...                 ...            ...                           ...   \n",
       "838855                3          AT_G1             Home or Self Care   \n",
       "838856                8          AT_G1  Home w/ Home Health Services   \n",
       "838857                3          AT_G1          Skilled Nursing Home   \n",
       "838858                8          AT_G2             Home or Self Care   \n",
       "838859               11          AT_G2          Skilled Nursing Home   \n",
       "\n",
       "        ccs_diagnosis_code  ...  Weight_baby Abortion Emergency dept_yes/No  \\\n",
       "0                      660  ...            0    AB_G1                 ED_G1   \n",
       "1                      660  ...            0    AB_G1                 ED_G2   \n",
       "2                      218  ...         3400    AB_G1                 ED_G1   \n",
       "3                      218  ...         4000    AB_G1                 ED_G1   \n",
       "4                       50  ...            0    AB_G1                 ED_G2   \n",
       "...                    ...  ...          ...      ...                   ...   \n",
       "838855                 229  ...            0    AB_G1                 ED_G2   \n",
       "838856                 122  ...            0    AB_G1                 ED_G2   \n",
       "838857                  55  ...            0    AB_G1                 ED_G2   \n",
       "838858                  58  ...            0    AB_G1                 ED_G1   \n",
       "838859                  96  ...            0    AB_G1                 ED_G1   \n",
       "\n",
       "       Tot_charg  Tot_cost  ratio_of_total_costs_to_total_charges  \\\n",
       "0        8990.22   4801.74                               0.534107   \n",
       "1       11604.62   7420.40                               0.639435   \n",
       "2        3072.25    947.56                               0.308424   \n",
       "3        3906.92   2048.56                               0.524342   \n",
       "4       44588.10   9461.28                               0.212193   \n",
       "...          ...       ...                                    ...   \n",
       "838855  19334.31   4052.27                               0.209590   \n",
       "838856  18326.20   8070.47                               0.440379   \n",
       "838857  12807.98   6835.37                               0.533681   \n",
       "838858  20933.82   8294.48                               0.396224   \n",
       "838859  96676.23  36101.17                               0.373423   \n",
       "\n",
       "       Payment_Typology Result  ethnicity   Code_illness   \n",
       "0                 PT_G1      0       ET_G2          CI_G2  \n",
       "1                 PT_G1      1       ET_G2          CI_G2  \n",
       "2                 PT_G1      1       ET_G3          CI_G2  \n",
       "3                 PT_G1      1       ET_G2          CI_G2  \n",
       "4                 PT_G1      0       ET_G2          CI_G2  \n",
       "...                 ...    ...         ...            ...  \n",
       "838855            PT_G1      1       ET_G2          CI_G2  \n",
       "838856            PT_G1      1       ET_G2          CI_G2  \n",
       "838857            PT_G1      0       ET_G2          CI_G2  \n",
       "838858            PT_G1      1       ET_G2          CI_G2  \n",
       "838859            PT_G1      1       ET_G2          CI_G2  \n",
       "\n",
       "[838860 rows x 25 columns]"
      ]
     },
     "execution_count": 108,
     "metadata": {},
     "output_type": "execute_result"
    }
   ],
   "source": [
    "data_re=pd.read_csv('Grouped_Final.csv')\n",
    "data_re=data_re.drop([\"Unnamed: 0\"],axis=1)\n",
    "data_re"
   ]
  },
  {
   "cell_type": "code",
   "execution_count": 109,
   "id": "b81cc4f0",
   "metadata": {},
   "outputs": [
    {
     "data": {
      "text/plain": [
       "316"
      ]
     },
     "execution_count": 109,
     "metadata": {},
     "output_type": "execute_result"
    }
   ],
   "source": [
    "data[\"apr_drg_description\"].nunique()"
   ]
  },
  {
   "cell_type": "code",
   "execution_count": 110,
   "id": "9dfd9dce",
   "metadata": {},
   "outputs": [
    {
     "data": {
      "text/html": [
       "<div>\n",
       "<style scoped>\n",
       "    .dataframe tbody tr th:only-of-type {\n",
       "        vertical-align: middle;\n",
       "    }\n",
       "\n",
       "    .dataframe tbody tr th {\n",
       "        vertical-align: top;\n",
       "    }\n",
       "\n",
       "    .dataframe thead th {\n",
       "        text-align: right;\n",
       "    }\n",
       "</style>\n",
       "<table border=\"1\" class=\"dataframe\">\n",
       "  <thead>\n",
       "    <tr style=\"text-align: right;\">\n",
       "      <th></th>\n",
       "      <th>Variable Name</th>\n",
       "      <th>Category Name</th>\n",
       "      <th>WOE</th>\n",
       "    </tr>\n",
       "  </thead>\n",
       "  <tbody>\n",
       "    <tr>\n",
       "      <th>0</th>\n",
       "      <td>apr_drg_description</td>\n",
       "      <td>Pancreas transplant</td>\n",
       "      <td>inf</td>\n",
       "    </tr>\n",
       "    <tr>\n",
       "      <th>1</th>\n",
       "      <td>apr_drg_description</td>\n",
       "      <td>Cleft lip &amp; palate repair</td>\n",
       "      <td>0.493402</td>\n",
       "    </tr>\n",
       "    <tr>\n",
       "      <th>2</th>\n",
       "      <td>apr_drg_description</td>\n",
       "      <td>Principal diagnosis invalid as discharge diagn...</td>\n",
       "      <td>0.459653</td>\n",
       "    </tr>\n",
       "    <tr>\n",
       "      <th>3</th>\n",
       "      <td>apr_drg_description</td>\n",
       "      <td>Acute major eye infections</td>\n",
       "      <td>0.380009</td>\n",
       "    </tr>\n",
       "    <tr>\n",
       "      <th>4</th>\n",
       "      <td>apr_drg_description</td>\n",
       "      <td>Neonate birthwt 1500-1999g w congenital/perina...</td>\n",
       "      <td>0.367846</td>\n",
       "    </tr>\n",
       "    <tr>\n",
       "      <th>...</th>\n",
       "      <td>...</td>\n",
       "      <td>...</td>\n",
       "      <td>...</td>\n",
       "    </tr>\n",
       "    <tr>\n",
       "      <th>311</th>\n",
       "      <td>apr_drg_description</td>\n",
       "      <td>Neonate bwt 2000-2499g w major anomaly</td>\n",
       "      <td>-0.426851</td>\n",
       "    </tr>\n",
       "    <tr>\n",
       "      <th>312</th>\n",
       "      <td>apr_drg_description</td>\n",
       "      <td>Cardiomyopathy</td>\n",
       "      <td>-0.475303</td>\n",
       "    </tr>\n",
       "    <tr>\n",
       "      <th>313</th>\n",
       "      <td>apr_drg_description</td>\n",
       "      <td>Other major head &amp; neck procedures</td>\n",
       "      <td>-0.518673</td>\n",
       "    </tr>\n",
       "    <tr>\n",
       "      <th>314</th>\n",
       "      <td>apr_drg_description</td>\n",
       "      <td>Neonate, transferred &lt;5 days old, not born here</td>\n",
       "      <td>-0.656659</td>\n",
       "    </tr>\n",
       "    <tr>\n",
       "      <th>315</th>\n",
       "      <td>apr_drg_description</td>\n",
       "      <td>Extensive 3rd degree burns w skin graft</td>\n",
       "      <td>-0.810809</td>\n",
       "    </tr>\n",
       "  </tbody>\n",
       "</table>\n",
       "<p>316 rows × 3 columns</p>\n",
       "</div>"
      ],
      "text/plain": [
       "           Variable Name                                      Category Name  \\\n",
       "0    apr_drg_description                                Pancreas transplant   \n",
       "1    apr_drg_description                          Cleft lip & palate repair   \n",
       "2    apr_drg_description  Principal diagnosis invalid as discharge diagn...   \n",
       "3    apr_drg_description                         Acute major eye infections   \n",
       "4    apr_drg_description  Neonate birthwt 1500-1999g w congenital/perina...   \n",
       "..                   ...                                                ...   \n",
       "311  apr_drg_description             Neonate bwt 2000-2499g w major anomaly   \n",
       "312  apr_drg_description                                     Cardiomyopathy   \n",
       "313  apr_drg_description                 Other major head & neck procedures   \n",
       "314  apr_drg_description    Neonate, transferred <5 days old, not born here   \n",
       "315  apr_drg_description            Extensive 3rd degree burns w skin graft   \n",
       "\n",
       "          WOE  \n",
       "0         inf  \n",
       "1    0.493402  \n",
       "2    0.459653  \n",
       "3    0.380009  \n",
       "4    0.367846  \n",
       "..        ...  \n",
       "311 -0.426851  \n",
       "312 -0.475303  \n",
       "313 -0.518673  \n",
       "314 -0.656659  \n",
       "315 -0.810809  \n",
       "\n",
       "[316 rows x 3 columns]"
      ]
     },
     "execution_count": 110,
     "metadata": {},
     "output_type": "execute_result"
    }
   ],
   "source": [
    "woe_df_ADD = woe_df.loc[woe_df['Variable Name'] == \"apr_drg_description\"]\n",
    "woe_df_ADD.reset_index(inplace=True, drop=True)\n",
    "woe_df_ADD"
   ]
  },
  {
   "cell_type": "code",
   "execution_count": 111,
   "id": "6733c541",
   "metadata": {},
   "outputs": [
    {
     "data": {
      "text/html": [
       "<div>\n",
       "<style scoped>\n",
       "    .dataframe tbody tr th:only-of-type {\n",
       "        vertical-align: middle;\n",
       "    }\n",
       "\n",
       "    .dataframe tbody tr th {\n",
       "        vertical-align: top;\n",
       "    }\n",
       "\n",
       "    .dataframe thead th {\n",
       "        text-align: right;\n",
       "    }\n",
       "</style>\n",
       "<table border=\"1\" class=\"dataframe\">\n",
       "  <thead>\n",
       "    <tr style=\"text-align: right;\">\n",
       "      <th></th>\n",
       "      <th>Variable Name</th>\n",
       "      <th>Category Name</th>\n",
       "      <th>WOE</th>\n",
       "      <th>Regrouping</th>\n",
       "    </tr>\n",
       "  </thead>\n",
       "  <tbody>\n",
       "    <tr>\n",
       "      <th>0</th>\n",
       "      <td>apr_drg_description</td>\n",
       "      <td>Pancreas transplant</td>\n",
       "      <td>inf</td>\n",
       "      <td>NaN</td>\n",
       "    </tr>\n",
       "    <tr>\n",
       "      <th>1</th>\n",
       "      <td>apr_drg_description</td>\n",
       "      <td>Cleft lip &amp; palate repair</td>\n",
       "      <td>0.493402</td>\n",
       "      <td>NaN</td>\n",
       "    </tr>\n",
       "    <tr>\n",
       "      <th>2</th>\n",
       "      <td>apr_drg_description</td>\n",
       "      <td>Principal diagnosis invalid as discharge diagn...</td>\n",
       "      <td>0.459653</td>\n",
       "      <td>NaN</td>\n",
       "    </tr>\n",
       "    <tr>\n",
       "      <th>3</th>\n",
       "      <td>apr_drg_description</td>\n",
       "      <td>Acute major eye infections</td>\n",
       "      <td>0.380009</td>\n",
       "      <td>NaN</td>\n",
       "    </tr>\n",
       "    <tr>\n",
       "      <th>4</th>\n",
       "      <td>apr_drg_description</td>\n",
       "      <td>Neonate birthwt 1500-1999g w congenital/perina...</td>\n",
       "      <td>0.367846</td>\n",
       "      <td>NaN</td>\n",
       "    </tr>\n",
       "    <tr>\n",
       "      <th>...</th>\n",
       "      <td>...</td>\n",
       "      <td>...</td>\n",
       "      <td>...</td>\n",
       "      <td>...</td>\n",
       "    </tr>\n",
       "    <tr>\n",
       "      <th>311</th>\n",
       "      <td>apr_drg_description</td>\n",
       "      <td>Neonate bwt 2000-2499g w major anomaly</td>\n",
       "      <td>-0.426851</td>\n",
       "      <td>NaN</td>\n",
       "    </tr>\n",
       "    <tr>\n",
       "      <th>312</th>\n",
       "      <td>apr_drg_description</td>\n",
       "      <td>Cardiomyopathy</td>\n",
       "      <td>-0.475303</td>\n",
       "      <td>NaN</td>\n",
       "    </tr>\n",
       "    <tr>\n",
       "      <th>313</th>\n",
       "      <td>apr_drg_description</td>\n",
       "      <td>Other major head &amp; neck procedures</td>\n",
       "      <td>-0.518673</td>\n",
       "      <td>NaN</td>\n",
       "    </tr>\n",
       "    <tr>\n",
       "      <th>314</th>\n",
       "      <td>apr_drg_description</td>\n",
       "      <td>Neonate, transferred &lt;5 days old, not born here</td>\n",
       "      <td>-0.656659</td>\n",
       "      <td>NaN</td>\n",
       "    </tr>\n",
       "    <tr>\n",
       "      <th>315</th>\n",
       "      <td>apr_drg_description</td>\n",
       "      <td>Extensive 3rd degree burns w skin graft</td>\n",
       "      <td>-0.810809</td>\n",
       "      <td>NaN</td>\n",
       "    </tr>\n",
       "  </tbody>\n",
       "</table>\n",
       "<p>316 rows × 4 columns</p>\n",
       "</div>"
      ],
      "text/plain": [
       "           Variable Name                                      Category Name  \\\n",
       "0    apr_drg_description                                Pancreas transplant   \n",
       "1    apr_drg_description                          Cleft lip & palate repair   \n",
       "2    apr_drg_description  Principal diagnosis invalid as discharge diagn...   \n",
       "3    apr_drg_description                         Acute major eye infections   \n",
       "4    apr_drg_description  Neonate birthwt 1500-1999g w congenital/perina...   \n",
       "..                   ...                                                ...   \n",
       "311  apr_drg_description             Neonate bwt 2000-2499g w major anomaly   \n",
       "312  apr_drg_description                                     Cardiomyopathy   \n",
       "313  apr_drg_description                 Other major head & neck procedures   \n",
       "314  apr_drg_description    Neonate, transferred <5 days old, not born here   \n",
       "315  apr_drg_description            Extensive 3rd degree burns w skin graft   \n",
       "\n",
       "          WOE  Regrouping  \n",
       "0         inf         NaN  \n",
       "1    0.493402         NaN  \n",
       "2    0.459653         NaN  \n",
       "3    0.380009         NaN  \n",
       "4    0.367846         NaN  \n",
       "..        ...         ...  \n",
       "311 -0.426851         NaN  \n",
       "312 -0.475303         NaN  \n",
       "313 -0.518673         NaN  \n",
       "314 -0.656659         NaN  \n",
       "315 -0.810809         NaN  \n",
       "\n",
       "[316 rows x 4 columns]"
      ]
     },
     "execution_count": 111,
     "metadata": {},
     "output_type": "execute_result"
    }
   ],
   "source": [
    "woe_df_ADD[\"Regrouping\"] = np.nan\n",
    "woe_df_ADD"
   ]
  },
  {
   "cell_type": "code",
   "execution_count": 115,
   "id": "8a7d4325",
   "metadata": {},
   "outputs": [
    {
     "ename": "IndentationError",
     "evalue": "expected an indented block (4275485863.py, line 8)",
     "output_type": "error",
     "traceback": [
      "\u001b[1;36m  Input \u001b[1;32mIn [115]\u001b[1;36m\u001b[0m\n\u001b[1;33m    criteria[f'ADD_G{count}'] = (i,j)\u001b[0m\n\u001b[1;37m    ^\u001b[0m\n\u001b[1;31mIndentationError\u001b[0m\u001b[1;31m:\u001b[0m expected an indented block\n"
     ]
    }
   ],
   "source": [
    "criteria = {}\n",
    "x = np.round(np.arange(-0.78,0.90,0.02),2)\n",
    "y = np.round(np.arange(-0.80,0.90,0.02),2)\n",
    "\n",
    "count = 1\n",
    "for i,j in zip(x,y):\n",
    "    if i>0 and j>0:\n",
    "    criteria[f'ADD_G{count}'] = (i,j)\n",
    "    else:\n",
    "    criteria[f'HC_G{count}'] = (i,j)\n",
    "    count = count + 1\n",
    "    criteria\n"
   ]
  },
  {
   "cell_type": "code",
   "execution_count": 116,
   "id": "1846976c",
   "metadata": {},
   "outputs": [],
   "source": [
    "columns = ['Groups', 'limit1', 'limit2']\n",
    "criteria_df=pd.DataFrame(index=range(len(criteria)),columns=columns)\n",
    "count=0\n",
    "for key,value in zip(criteria,criteria.values()):\n",
    "   #print(key,value[0],value[1])\n",
    "    criteria_df.iloc[count,0] = key\n",
    "    criteria_df.iloc[count,1] = value[0]\n",
    "    criteria_df.iloc[count,2] = value[1]\n",
    "    count = count+1\n",
    "    criteria_df"
   ]
  },
  {
   "cell_type": "code",
   "execution_count": 117,
   "id": "9a46e047",
   "metadata": {},
   "outputs": [
    {
     "data": {
      "text/html": [
       "<div>\n",
       "<style scoped>\n",
       "    .dataframe tbody tr th:only-of-type {\n",
       "        vertical-align: middle;\n",
       "    }\n",
       "\n",
       "    .dataframe tbody tr th {\n",
       "        vertical-align: top;\n",
       "    }\n",
       "\n",
       "    .dataframe thead th {\n",
       "        text-align: right;\n",
       "    }\n",
       "</style>\n",
       "<table border=\"1\" class=\"dataframe\">\n",
       "  <thead>\n",
       "    <tr style=\"text-align: right;\">\n",
       "      <th></th>\n",
       "      <th>Variable Name</th>\n",
       "      <th>Category Name</th>\n",
       "      <th>WOE</th>\n",
       "      <th>Regrouping</th>\n",
       "    </tr>\n",
       "  </thead>\n",
       "  <tbody>\n",
       "    <tr>\n",
       "      <th>0</th>\n",
       "      <td>apr_drg_description</td>\n",
       "      <td>Pancreas transplant</td>\n",
       "      <td>inf</td>\n",
       "      <td>NaN</td>\n",
       "    </tr>\n",
       "    <tr>\n",
       "      <th>1</th>\n",
       "      <td>apr_drg_description</td>\n",
       "      <td>Cleft lip &amp; palate repair</td>\n",
       "      <td>0.493402</td>\n",
       "      <td>NaN</td>\n",
       "    </tr>\n",
       "    <tr>\n",
       "      <th>2</th>\n",
       "      <td>apr_drg_description</td>\n",
       "      <td>Principal diagnosis invalid as discharge diagn...</td>\n",
       "      <td>0.459653</td>\n",
       "      <td>NaN</td>\n",
       "    </tr>\n",
       "    <tr>\n",
       "      <th>3</th>\n",
       "      <td>apr_drg_description</td>\n",
       "      <td>Acute major eye infections</td>\n",
       "      <td>0.380009</td>\n",
       "      <td>NaN</td>\n",
       "    </tr>\n",
       "    <tr>\n",
       "      <th>4</th>\n",
       "      <td>apr_drg_description</td>\n",
       "      <td>Neonate birthwt 1500-1999g w congenital/perina...</td>\n",
       "      <td>0.367846</td>\n",
       "      <td>NaN</td>\n",
       "    </tr>\n",
       "    <tr>\n",
       "      <th>...</th>\n",
       "      <td>...</td>\n",
       "      <td>...</td>\n",
       "      <td>...</td>\n",
       "      <td>...</td>\n",
       "    </tr>\n",
       "    <tr>\n",
       "      <th>311</th>\n",
       "      <td>apr_drg_description</td>\n",
       "      <td>Neonate bwt 2000-2499g w major anomaly</td>\n",
       "      <td>-0.426851</td>\n",
       "      <td>NaN</td>\n",
       "    </tr>\n",
       "    <tr>\n",
       "      <th>312</th>\n",
       "      <td>apr_drg_description</td>\n",
       "      <td>Cardiomyopathy</td>\n",
       "      <td>-0.475303</td>\n",
       "      <td>NaN</td>\n",
       "    </tr>\n",
       "    <tr>\n",
       "      <th>313</th>\n",
       "      <td>apr_drg_description</td>\n",
       "      <td>Other major head &amp; neck procedures</td>\n",
       "      <td>-0.518673</td>\n",
       "      <td>NaN</td>\n",
       "    </tr>\n",
       "    <tr>\n",
       "      <th>314</th>\n",
       "      <td>apr_drg_description</td>\n",
       "      <td>Neonate, transferred &lt;5 days old, not born here</td>\n",
       "      <td>-0.656659</td>\n",
       "      <td>NaN</td>\n",
       "    </tr>\n",
       "    <tr>\n",
       "      <th>315</th>\n",
       "      <td>apr_drg_description</td>\n",
       "      <td>Extensive 3rd degree burns w skin graft</td>\n",
       "      <td>-0.810809</td>\n",
       "      <td>NaN</td>\n",
       "    </tr>\n",
       "  </tbody>\n",
       "</table>\n",
       "<p>316 rows × 4 columns</p>\n",
       "</div>"
      ],
      "text/plain": [
       "           Variable Name                                      Category Name  \\\n",
       "0    apr_drg_description                                Pancreas transplant   \n",
       "1    apr_drg_description                          Cleft lip & palate repair   \n",
       "2    apr_drg_description  Principal diagnosis invalid as discharge diagn...   \n",
       "3    apr_drg_description                         Acute major eye infections   \n",
       "4    apr_drg_description  Neonate birthwt 1500-1999g w congenital/perina...   \n",
       "..                   ...                                                ...   \n",
       "311  apr_drg_description             Neonate bwt 2000-2499g w major anomaly   \n",
       "312  apr_drg_description                                     Cardiomyopathy   \n",
       "313  apr_drg_description                 Other major head & neck procedures   \n",
       "314  apr_drg_description    Neonate, transferred <5 days old, not born here   \n",
       "315  apr_drg_description            Extensive 3rd degree burns w skin graft   \n",
       "\n",
       "          WOE Regrouping  \n",
       "0         inf        NaN  \n",
       "1    0.493402        NaN  \n",
       "2    0.459653        NaN  \n",
       "3    0.380009        NaN  \n",
       "4    0.367846        NaN  \n",
       "..        ...        ...  \n",
       "311 -0.426851        NaN  \n",
       "312 -0.475303        NaN  \n",
       "313 -0.518673        NaN  \n",
       "314 -0.656659        NaN  \n",
       "315 -0.810809        NaN  \n",
       "\n",
       "[316 rows x 4 columns]"
      ]
     },
     "execution_count": 117,
     "metadata": {},
     "output_type": "execute_result"
    }
   ],
   "source": [
    "for i in range(len(woe_df_ADD)):\n",
    "    for j in range(len(criteria_df)):  \n",
    "             if (woe_df_ADD.iloc[i,2] < criteria_df.iloc[j,1] and woe_df_ADD.iloc[i,2]> criteria_df.iloc[j,2]):\n",
    "                 woe_df_ADD.iloc[i,3] = criteria_df.iloc[j,0]\n",
    "woe_df_ADD"
   ]
  },
  {
   "cell_type": "code",
   "execution_count": 118,
   "id": "5730cf19",
   "metadata": {},
   "outputs": [
    {
     "data": {
      "text/plain": [
       "316"
      ]
     },
     "execution_count": 118,
     "metadata": {},
     "output_type": "execute_result"
    }
   ],
   "source": [
    "data[\"apr_drg_description\"].nunique()"
   ]
  },
  {
   "cell_type": "code",
   "execution_count": 119,
   "id": "6efb1150",
   "metadata": {},
   "outputs": [
    {
     "data": {
      "text/html": [
       "<div>\n",
       "<style scoped>\n",
       "    .dataframe tbody tr th:only-of-type {\n",
       "        vertical-align: middle;\n",
       "    }\n",
       "\n",
       "    .dataframe tbody tr th {\n",
       "        vertical-align: top;\n",
       "    }\n",
       "\n",
       "    .dataframe thead th {\n",
       "        text-align: right;\n",
       "    }\n",
       "</style>\n",
       "<table border=\"1\" class=\"dataframe\">\n",
       "  <thead>\n",
       "    <tr style=\"text-align: right;\">\n",
       "      <th></th>\n",
       "      <th>Variable Name</th>\n",
       "      <th>Category Name</th>\n",
       "      <th>WOE</th>\n",
       "      <th>Regrouping</th>\n",
       "    </tr>\n",
       "  </thead>\n",
       "  <tbody>\n",
       "    <tr>\n",
       "      <th>286</th>\n",
       "      <td>apr_drg_description</td>\n",
       "      <td>Other digestive system &amp; abdominal procedures</td>\n",
       "      <td>-0.142215</td>\n",
       "      <td>NaN</td>\n",
       "    </tr>\n",
       "    <tr>\n",
       "      <th>114</th>\n",
       "      <td>apr_drg_description</td>\n",
       "      <td>Other esophageal disorders</td>\n",
       "      <td>0.026066</td>\n",
       "      <td>NaN</td>\n",
       "    </tr>\n",
       "    <tr>\n",
       "      <th>141</th>\n",
       "      <td>apr_drg_description</td>\n",
       "      <td>Hypertension</td>\n",
       "      <td>0.006674</td>\n",
       "      <td>HC_G1</td>\n",
       "    </tr>\n",
       "    <tr>\n",
       "      <th>294</th>\n",
       "      <td>apr_drg_description</td>\n",
       "      <td>Neonate birthwt 1500-1999g w major anomaly</td>\n",
       "      <td>-0.175328</td>\n",
       "      <td>NaN</td>\n",
       "    </tr>\n",
       "    <tr>\n",
       "      <th>222</th>\n",
       "      <td>apr_drg_description</td>\n",
       "      <td>Other gastroenteritis, nausa &amp; vomiting</td>\n",
       "      <td>-0.033180</td>\n",
       "      <td>NaN</td>\n",
       "    </tr>\n",
       "    <tr>\n",
       "      <th>293</th>\n",
       "      <td>apr_drg_description</td>\n",
       "      <td>Pelvic evisceration, radical hysterectomy &amp; ot...</td>\n",
       "      <td>-0.174233</td>\n",
       "      <td>NaN</td>\n",
       "    </tr>\n",
       "    <tr>\n",
       "      <th>169</th>\n",
       "      <td>apr_drg_description</td>\n",
       "      <td>Knee &amp; lower leg procedures except foot</td>\n",
       "      <td>-0.005370</td>\n",
       "      <td>NaN</td>\n",
       "    </tr>\n",
       "    <tr>\n",
       "      <th>224</th>\n",
       "      <td>apr_drg_description</td>\n",
       "      <td>Other anemia &amp; disorders of blood &amp; blood-form...</td>\n",
       "      <td>-0.034353</td>\n",
       "      <td>NaN</td>\n",
       "    </tr>\n",
       "    <tr>\n",
       "      <th>61</th>\n",
       "      <td>apr_drg_description</td>\n",
       "      <td>Acute &amp; subacute endocarditis</td>\n",
       "      <td>0.064659</td>\n",
       "      <td>NaN</td>\n",
       "    </tr>\n",
       "    <tr>\n",
       "      <th>211</th>\n",
       "      <td>apr_drg_description</td>\n",
       "      <td>Neonate bwt 2000-2499g, normal newborn or neon...</td>\n",
       "      <td>-0.030169</td>\n",
       "      <td>NaN</td>\n",
       "    </tr>\n",
       "  </tbody>\n",
       "</table>\n",
       "</div>"
      ],
      "text/plain": [
       "           Variable Name                                      Category Name  \\\n",
       "286  apr_drg_description      Other digestive system & abdominal procedures   \n",
       "114  apr_drg_description                         Other esophageal disorders   \n",
       "141  apr_drg_description                                       Hypertension   \n",
       "294  apr_drg_description         Neonate birthwt 1500-1999g w major anomaly   \n",
       "222  apr_drg_description            Other gastroenteritis, nausa & vomiting   \n",
       "293  apr_drg_description  Pelvic evisceration, radical hysterectomy & ot...   \n",
       "169  apr_drg_description            Knee & lower leg procedures except foot   \n",
       "224  apr_drg_description  Other anemia & disorders of blood & blood-form...   \n",
       "61   apr_drg_description                      Acute & subacute endocarditis   \n",
       "211  apr_drg_description  Neonate bwt 2000-2499g, normal newborn or neon...   \n",
       "\n",
       "          WOE Regrouping  \n",
       "286 -0.142215        NaN  \n",
       "114  0.026066        NaN  \n",
       "141  0.006674      HC_G1  \n",
       "294 -0.175328        NaN  \n",
       "222 -0.033180        NaN  \n",
       "293 -0.174233        NaN  \n",
       "169 -0.005370        NaN  \n",
       "224 -0.034353        NaN  \n",
       "61   0.064659        NaN  \n",
       "211 -0.030169        NaN  "
      ]
     },
     "execution_count": 119,
     "metadata": {},
     "output_type": "execute_result"
    }
   ],
   "source": [
    "df_data=woe_df_ADD.sample(10)\n",
    "df_data"
   ]
  },
  {
   "cell_type": "code",
   "execution_count": 121,
   "id": "10bc40a7",
   "metadata": {},
   "outputs": [],
   "source": [
    "# ### save it as csv\n",
    "data_re.to_csv('FinalCopyGroupedWOE.csv') "
   ]
  },
  {
   "cell_type": "markdown",
   "id": "bf510743",
   "metadata": {},
   "source": [
    "## MODEL FITTING"
   ]
  },
  {
   "cell_type": "markdown",
   "id": "f525b8c1",
   "metadata": {},
   "source": [
    "### Taking out Numerical Variables from dataset"
   ]
  },
  {
   "cell_type": "code",
   "execution_count": 122,
   "id": "e04deb4f",
   "metadata": {},
   "outputs": [
    {
     "name": "stdout",
     "output_type": "stream",
     "text": [
      "Unexpected exception formatting exception. Falling back to standard exception\n"
     ]
    },
    {
     "name": "stderr",
     "output_type": "stream",
     "text": [
      "Traceback (most recent call last):\n",
      "  File \"C:\\Users\\Hi\\anaconda3\\lib\\site-packages\\IPython\\core\\interactiveshell.py\", line 3369, in run_code\n",
      "    exec(code_obj, self.user_global_ns, self.user_ns)\n",
      "  File \"C:\\Users\\Hi\\AppData\\Local\\Temp\\ipykernel_32720\\2199651560.py\", line 2, in <cell line: 2>\n",
      "    numerical_Variables=numerical_Variables.drop([\"ccs_diagnosis_code\",\"ccs_procedure_code\"],axis=1)\n",
      "  File \"C:\\Users\\Hi\\anaconda3\\lib\\site-packages\\pandas\\util\\_decorators.py\", line 331, in wrapper\n",
      "  File \"C:\\Users\\Hi\\anaconda3\\lib\\site-packages\\pandas\\core\\frame.py\", line 5399, in drop\n",
      "  File \"C:\\Users\\Hi\\anaconda3\\lib\\site-packages\\pandas\\util\\_decorators.py\", line 331, in wrapper\n",
      "  File \"C:\\Users\\Hi\\anaconda3\\lib\\site-packages\\pandas\\core\\generic.py\", line 4505, in drop\n",
      "    def drop(\n",
      "  File \"C:\\Users\\Hi\\anaconda3\\lib\\site-packages\\pandas\\core\\generic.py\", line 4546, in _drop_axis\n",
      "  File \"C:\\Users\\Hi\\anaconda3\\lib\\site-packages\\pandas\\core\\indexes\\base.py\", line 6934, in drop\n",
      "    isinstance(self, ABCMultiIndex)\n",
      "KeyError: \"['ccs_diagnosis_code', 'ccs_procedure_code'] not found in axis\"\n",
      "\n",
      "During handling of the above exception, another exception occurred:\n",
      "\n",
      "Traceback (most recent call last):\n",
      "  File \"C:\\Users\\Hi\\anaconda3\\lib\\site-packages\\IPython\\core\\interactiveshell.py\", line 1982, in showtraceback\n",
      "    stb = self.InteractiveTB.structured_traceback(\n",
      "  File \"C:\\Users\\Hi\\anaconda3\\lib\\site-packages\\IPython\\core\\ultratb.py\", line 1118, in structured_traceback\n",
      "    return FormattedTB.structured_traceback(\n",
      "  File \"C:\\Users\\Hi\\anaconda3\\lib\\site-packages\\IPython\\core\\ultratb.py\", line 1012, in structured_traceback\n",
      "    return VerboseTB.structured_traceback(\n",
      "  File \"C:\\Users\\Hi\\anaconda3\\lib\\site-packages\\IPython\\core\\ultratb.py\", line 865, in structured_traceback\n",
      "    formatted_exception = self.format_exception_as_a_whole(etype, evalue, etb, number_of_lines_of_context,\n",
      "  File \"C:\\Users\\Hi\\anaconda3\\lib\\site-packages\\IPython\\core\\ultratb.py\", line 818, in format_exception_as_a_whole\n",
      "    frames.append(self.format_record(r))\n",
      "  File \"C:\\Users\\Hi\\anaconda3\\lib\\site-packages\\IPython\\core\\ultratb.py\", line 736, in format_record\n",
      "    result += ''.join(_format_traceback_lines(frame_info.lines, Colors, self.has_colors, lvals))\n",
      "  File \"C:\\Users\\Hi\\anaconda3\\lib\\site-packages\\stack_data\\utils.py\", line 145, in cached_property_wrapper\n",
      "    value = obj.__dict__[self.func.__name__] = self.func(obj)\n",
      "  File \"C:\\Users\\Hi\\anaconda3\\lib\\site-packages\\stack_data\\core.py\", line 698, in lines\n",
      "    pieces = self.included_pieces\n",
      "  File \"C:\\Users\\Hi\\anaconda3\\lib\\site-packages\\stack_data\\utils.py\", line 145, in cached_property_wrapper\n",
      "    value = obj.__dict__[self.func.__name__] = self.func(obj)\n",
      "  File \"C:\\Users\\Hi\\anaconda3\\lib\\site-packages\\stack_data\\core.py\", line 649, in included_pieces\n",
      "    pos = scope_pieces.index(self.executing_piece)\n",
      "  File \"C:\\Users\\Hi\\anaconda3\\lib\\site-packages\\stack_data\\utils.py\", line 145, in cached_property_wrapper\n",
      "    value = obj.__dict__[self.func.__name__] = self.func(obj)\n",
      "  File \"C:\\Users\\Hi\\anaconda3\\lib\\site-packages\\stack_data\\core.py\", line 628, in executing_piece\n",
      "    return only(\n",
      "  File \"C:\\Users\\Hi\\anaconda3\\lib\\site-packages\\executing\\executing.py\", line 164, in only\n",
      "    raise NotOneValueFound('Expected one value, found 0')\n",
      "executing.executing.NotOneValueFound: Expected one value, found 0\n"
     ]
    }
   ],
   "source": [
    "numerical_Variables = data.select_dtypes(include=['int', 'float'])#exclude categorical variables\n",
    "numerical_Variables=numerical_Variables.drop([\"ccs_diagnosis_code\",\"ccs_procedure_code\"],axis=1)\n",
    "numerical_Variables.columns"
   ]
  },
  {
   "cell_type": "code",
   "execution_count": 123,
   "id": "fa1194bb",
   "metadata": {},
   "outputs": [],
   "source": [
    "\n",
    "# Extract the categorical variable to encode\n",
    "cat_var = data['apr_drg_description']\n",
    "\n",
    "# Calculate the frequency of each category\n",
    "freq = cat_var.value_counts(normalize=True)\n",
    "\n",
    "# Create a dictionary to map each category to its frequency\n",
    "freq_dict = freq.to_dict()\n",
    "\n",
    "# Replace the original categorical variable with its frequency-encoded version\n",
    "data['apr_drg_description'] = cat_var.map(freq_dict)\n"
   ]
  },
  {
   "cell_type": "markdown",
   "id": "db9e5cd8",
   "metadata": {},
   "source": [
    "### One-Hot Encoding of Categorical Variables"
   ]
  },
  {
   "cell_type": "code",
   "execution_count": 124,
   "id": "98545443",
   "metadata": {},
   "outputs": [
    {
     "data": {
      "text/html": [
       "<div>\n",
       "<style scoped>\n",
       "    .dataframe tbody tr th:only-of-type {\n",
       "        vertical-align: middle;\n",
       "    }\n",
       "\n",
       "    .dataframe tbody tr th {\n",
       "        vertical-align: top;\n",
       "    }\n",
       "\n",
       "    .dataframe thead th {\n",
       "        text-align: right;\n",
       "    }\n",
       "</style>\n",
       "<table border=\"1\" class=\"dataframe\">\n",
       "  <thead>\n",
       "    <tr style=\"text-align: right;\">\n",
       "      <th></th>\n",
       "      <th>Area_Service_0.0</th>\n",
       "      <th>Area_Service_AS_G3</th>\n",
       "      <th>Area_Service_AS_G1</th>\n",
       "      <th>Area_Service_AS_G4</th>\n",
       "      <th>Area_Service_AS_G2</th>\n",
       "      <th>Hospital County_0.0</th>\n",
       "      <th>Hospital County_Albany</th>\n",
       "      <th>Hospital County_Allegany</th>\n",
       "      <th>Hospital County_Bronx</th>\n",
       "      <th>Hospital County_Broome</th>\n",
       "      <th>...</th>\n",
       "      <th>Home or self care,_Medicare Cert Long Term Care Hospital</th>\n",
       "      <th>Home or self care,_Psychiatric Hospital or Unit of Hosp</th>\n",
       "      <th>Home or self care,_Short-term Hospital</th>\n",
       "      <th>Home or self care,_Skilled Nursing Home</th>\n",
       "      <th>Surg_Description_SD_G2</th>\n",
       "      <th>Surg_Description_SD_G1</th>\n",
       "      <th>Abortion_AB_G1</th>\n",
       "      <th>Abortion_AB_G2</th>\n",
       "      <th>Emergency dept_yes/No_ED_G1</th>\n",
       "      <th>Emergency dept_yes/No_ED_G2</th>\n",
       "    </tr>\n",
       "  </thead>\n",
       "  <tbody>\n",
       "    <tr>\n",
       "      <th>0</th>\n",
       "      <td>0</td>\n",
       "      <td>0</td>\n",
       "      <td>1</td>\n",
       "      <td>0</td>\n",
       "      <td>0</td>\n",
       "      <td>0</td>\n",
       "      <td>0</td>\n",
       "      <td>0</td>\n",
       "      <td>0</td>\n",
       "      <td>0</td>\n",
       "      <td>...</td>\n",
       "      <td>0</td>\n",
       "      <td>0</td>\n",
       "      <td>0</td>\n",
       "      <td>0</td>\n",
       "      <td>0</td>\n",
       "      <td>1</td>\n",
       "      <td>1</td>\n",
       "      <td>0</td>\n",
       "      <td>1</td>\n",
       "      <td>0</td>\n",
       "    </tr>\n",
       "    <tr>\n",
       "      <th>1</th>\n",
       "      <td>0</td>\n",
       "      <td>0</td>\n",
       "      <td>0</td>\n",
       "      <td>0</td>\n",
       "      <td>1</td>\n",
       "      <td>0</td>\n",
       "      <td>0</td>\n",
       "      <td>0</td>\n",
       "      <td>0</td>\n",
       "      <td>0</td>\n",
       "      <td>...</td>\n",
       "      <td>0</td>\n",
       "      <td>0</td>\n",
       "      <td>0</td>\n",
       "      <td>0</td>\n",
       "      <td>0</td>\n",
       "      <td>1</td>\n",
       "      <td>1</td>\n",
       "      <td>0</td>\n",
       "      <td>0</td>\n",
       "      <td>1</td>\n",
       "    </tr>\n",
       "    <tr>\n",
       "      <th>2</th>\n",
       "      <td>0</td>\n",
       "      <td>0</td>\n",
       "      <td>0</td>\n",
       "      <td>0</td>\n",
       "      <td>1</td>\n",
       "      <td>0</td>\n",
       "      <td>0</td>\n",
       "      <td>0</td>\n",
       "      <td>0</td>\n",
       "      <td>0</td>\n",
       "      <td>...</td>\n",
       "      <td>0</td>\n",
       "      <td>0</td>\n",
       "      <td>0</td>\n",
       "      <td>0</td>\n",
       "      <td>0</td>\n",
       "      <td>1</td>\n",
       "      <td>1</td>\n",
       "      <td>0</td>\n",
       "      <td>1</td>\n",
       "      <td>0</td>\n",
       "    </tr>\n",
       "    <tr>\n",
       "      <th>3</th>\n",
       "      <td>0</td>\n",
       "      <td>0</td>\n",
       "      <td>0</td>\n",
       "      <td>0</td>\n",
       "      <td>1</td>\n",
       "      <td>0</td>\n",
       "      <td>0</td>\n",
       "      <td>0</td>\n",
       "      <td>0</td>\n",
       "      <td>0</td>\n",
       "      <td>...</td>\n",
       "      <td>0</td>\n",
       "      <td>0</td>\n",
       "      <td>0</td>\n",
       "      <td>0</td>\n",
       "      <td>0</td>\n",
       "      <td>1</td>\n",
       "      <td>1</td>\n",
       "      <td>0</td>\n",
       "      <td>1</td>\n",
       "      <td>0</td>\n",
       "    </tr>\n",
       "    <tr>\n",
       "      <th>4</th>\n",
       "      <td>0</td>\n",
       "      <td>0</td>\n",
       "      <td>1</td>\n",
       "      <td>0</td>\n",
       "      <td>0</td>\n",
       "      <td>0</td>\n",
       "      <td>0</td>\n",
       "      <td>0</td>\n",
       "      <td>1</td>\n",
       "      <td>0</td>\n",
       "      <td>...</td>\n",
       "      <td>0</td>\n",
       "      <td>0</td>\n",
       "      <td>0</td>\n",
       "      <td>0</td>\n",
       "      <td>0</td>\n",
       "      <td>1</td>\n",
       "      <td>1</td>\n",
       "      <td>0</td>\n",
       "      <td>0</td>\n",
       "      <td>1</td>\n",
       "    </tr>\n",
       "    <tr>\n",
       "      <th>...</th>\n",
       "      <td>...</td>\n",
       "      <td>...</td>\n",
       "      <td>...</td>\n",
       "      <td>...</td>\n",
       "      <td>...</td>\n",
       "      <td>...</td>\n",
       "      <td>...</td>\n",
       "      <td>...</td>\n",
       "      <td>...</td>\n",
       "      <td>...</td>\n",
       "      <td>...</td>\n",
       "      <td>...</td>\n",
       "      <td>...</td>\n",
       "      <td>...</td>\n",
       "      <td>...</td>\n",
       "      <td>...</td>\n",
       "      <td>...</td>\n",
       "      <td>...</td>\n",
       "      <td>...</td>\n",
       "      <td>...</td>\n",
       "      <td>...</td>\n",
       "    </tr>\n",
       "    <tr>\n",
       "      <th>838855</th>\n",
       "      <td>0</td>\n",
       "      <td>0</td>\n",
       "      <td>0</td>\n",
       "      <td>0</td>\n",
       "      <td>1</td>\n",
       "      <td>0</td>\n",
       "      <td>0</td>\n",
       "      <td>0</td>\n",
       "      <td>0</td>\n",
       "      <td>0</td>\n",
       "      <td>...</td>\n",
       "      <td>0</td>\n",
       "      <td>0</td>\n",
       "      <td>0</td>\n",
       "      <td>0</td>\n",
       "      <td>0</td>\n",
       "      <td>1</td>\n",
       "      <td>1</td>\n",
       "      <td>0</td>\n",
       "      <td>0</td>\n",
       "      <td>1</td>\n",
       "    </tr>\n",
       "    <tr>\n",
       "      <th>838856</th>\n",
       "      <td>0</td>\n",
       "      <td>1</td>\n",
       "      <td>0</td>\n",
       "      <td>0</td>\n",
       "      <td>0</td>\n",
       "      <td>0</td>\n",
       "      <td>0</td>\n",
       "      <td>0</td>\n",
       "      <td>0</td>\n",
       "      <td>0</td>\n",
       "      <td>...</td>\n",
       "      <td>0</td>\n",
       "      <td>0</td>\n",
       "      <td>0</td>\n",
       "      <td>0</td>\n",
       "      <td>0</td>\n",
       "      <td>1</td>\n",
       "      <td>1</td>\n",
       "      <td>0</td>\n",
       "      <td>0</td>\n",
       "      <td>1</td>\n",
       "    </tr>\n",
       "    <tr>\n",
       "      <th>838857</th>\n",
       "      <td>0</td>\n",
       "      <td>0</td>\n",
       "      <td>0</td>\n",
       "      <td>0</td>\n",
       "      <td>1</td>\n",
       "      <td>0</td>\n",
       "      <td>0</td>\n",
       "      <td>0</td>\n",
       "      <td>0</td>\n",
       "      <td>0</td>\n",
       "      <td>...</td>\n",
       "      <td>0</td>\n",
       "      <td>0</td>\n",
       "      <td>0</td>\n",
       "      <td>1</td>\n",
       "      <td>0</td>\n",
       "      <td>1</td>\n",
       "      <td>1</td>\n",
       "      <td>0</td>\n",
       "      <td>0</td>\n",
       "      <td>1</td>\n",
       "    </tr>\n",
       "    <tr>\n",
       "      <th>838858</th>\n",
       "      <td>0</td>\n",
       "      <td>1</td>\n",
       "      <td>0</td>\n",
       "      <td>0</td>\n",
       "      <td>0</td>\n",
       "      <td>0</td>\n",
       "      <td>0</td>\n",
       "      <td>0</td>\n",
       "      <td>0</td>\n",
       "      <td>0</td>\n",
       "      <td>...</td>\n",
       "      <td>0</td>\n",
       "      <td>0</td>\n",
       "      <td>0</td>\n",
       "      <td>0</td>\n",
       "      <td>0</td>\n",
       "      <td>1</td>\n",
       "      <td>1</td>\n",
       "      <td>0</td>\n",
       "      <td>1</td>\n",
       "      <td>0</td>\n",
       "    </tr>\n",
       "    <tr>\n",
       "      <th>838859</th>\n",
       "      <td>0</td>\n",
       "      <td>0</td>\n",
       "      <td>1</td>\n",
       "      <td>0</td>\n",
       "      <td>0</td>\n",
       "      <td>0</td>\n",
       "      <td>0</td>\n",
       "      <td>0</td>\n",
       "      <td>0</td>\n",
       "      <td>0</td>\n",
       "      <td>...</td>\n",
       "      <td>0</td>\n",
       "      <td>0</td>\n",
       "      <td>0</td>\n",
       "      <td>1</td>\n",
       "      <td>0</td>\n",
       "      <td>1</td>\n",
       "      <td>1</td>\n",
       "      <td>0</td>\n",
       "      <td>1</td>\n",
       "      <td>0</td>\n",
       "    </tr>\n",
       "  </tbody>\n",
       "</table>\n",
       "<p>838860 rows × 96 columns</p>\n",
       "</div>"
      ],
      "text/plain": [
       "        Area_Service_0.0  Area_Service_AS_G3  Area_Service_AS_G1  \\\n",
       "0                      0                   0                   1   \n",
       "1                      0                   0                   0   \n",
       "2                      0                   0                   0   \n",
       "3                      0                   0                   0   \n",
       "4                      0                   0                   1   \n",
       "...                  ...                 ...                 ...   \n",
       "838855                 0                   0                   0   \n",
       "838856                 0                   1                   0   \n",
       "838857                 0                   0                   0   \n",
       "838858                 0                   1                   0   \n",
       "838859                 0                   0                   1   \n",
       "\n",
       "        Area_Service_AS_G4  Area_Service_AS_G2  Hospital County_0.0  \\\n",
       "0                        0                   0                    0   \n",
       "1                        0                   1                    0   \n",
       "2                        0                   1                    0   \n",
       "3                        0                   1                    0   \n",
       "4                        0                   0                    0   \n",
       "...                    ...                 ...                  ...   \n",
       "838855                   0                   1                    0   \n",
       "838856                   0                   0                    0   \n",
       "838857                   0                   1                    0   \n",
       "838858                   0                   0                    0   \n",
       "838859                   0                   0                    0   \n",
       "\n",
       "        Hospital County_Albany  Hospital County_Allegany  \\\n",
       "0                            0                         0   \n",
       "1                            0                         0   \n",
       "2                            0                         0   \n",
       "3                            0                         0   \n",
       "4                            0                         0   \n",
       "...                        ...                       ...   \n",
       "838855                       0                         0   \n",
       "838856                       0                         0   \n",
       "838857                       0                         0   \n",
       "838858                       0                         0   \n",
       "838859                       0                         0   \n",
       "\n",
       "        Hospital County_Bronx  Hospital County_Broome  ...  \\\n",
       "0                           0                       0  ...   \n",
       "1                           0                       0  ...   \n",
       "2                           0                       0  ...   \n",
       "3                           0                       0  ...   \n",
       "4                           1                       0  ...   \n",
       "...                       ...                     ...  ...   \n",
       "838855                      0                       0  ...   \n",
       "838856                      0                       0  ...   \n",
       "838857                      0                       0  ...   \n",
       "838858                      0                       0  ...   \n",
       "838859                      0                       0  ...   \n",
       "\n",
       "        Home or self care,_Medicare Cert Long Term Care Hospital  \\\n",
       "0                                                       0          \n",
       "1                                                       0          \n",
       "2                                                       0          \n",
       "3                                                       0          \n",
       "4                                                       0          \n",
       "...                                                   ...          \n",
       "838855                                                  0          \n",
       "838856                                                  0          \n",
       "838857                                                  0          \n",
       "838858                                                  0          \n",
       "838859                                                  0          \n",
       "\n",
       "        Home or self care,_Psychiatric Hospital or Unit of Hosp  \\\n",
       "0                                                       0         \n",
       "1                                                       0         \n",
       "2                                                       0         \n",
       "3                                                       0         \n",
       "4                                                       0         \n",
       "...                                                   ...         \n",
       "838855                                                  0         \n",
       "838856                                                  0         \n",
       "838857                                                  0         \n",
       "838858                                                  0         \n",
       "838859                                                  0         \n",
       "\n",
       "        Home or self care,_Short-term Hospital  \\\n",
       "0                                            0   \n",
       "1                                            0   \n",
       "2                                            0   \n",
       "3                                            0   \n",
       "4                                            0   \n",
       "...                                        ...   \n",
       "838855                                       0   \n",
       "838856                                       0   \n",
       "838857                                       0   \n",
       "838858                                       0   \n",
       "838859                                       0   \n",
       "\n",
       "        Home or self care,_Skilled Nursing Home  Surg_Description_SD_G2  \\\n",
       "0                                             0                       0   \n",
       "1                                             0                       0   \n",
       "2                                             0                       0   \n",
       "3                                             0                       0   \n",
       "4                                             0                       0   \n",
       "...                                         ...                     ...   \n",
       "838855                                        0                       0   \n",
       "838856                                        0                       0   \n",
       "838857                                        1                       0   \n",
       "838858                                        0                       0   \n",
       "838859                                        1                       0   \n",
       "\n",
       "        Surg_Description_SD_G1  Abortion_AB_G1  Abortion_AB_G2  \\\n",
       "0                            1               1               0   \n",
       "1                            1               1               0   \n",
       "2                            1               1               0   \n",
       "3                            1               1               0   \n",
       "4                            1               1               0   \n",
       "...                        ...             ...             ...   \n",
       "838855                       1               1               0   \n",
       "838856                       1               1               0   \n",
       "838857                       1               1               0   \n",
       "838858                       1               1               0   \n",
       "838859                       1               1               0   \n",
       "\n",
       "        Emergency dept_yes/No_ED_G1  Emergency dept_yes/No_ED_G2  \n",
       "0                                 1                            0  \n",
       "1                                 0                            1  \n",
       "2                                 1                            0  \n",
       "3                                 1                            0  \n",
       "4                                 0                            1  \n",
       "...                             ...                          ...  \n",
       "838855                            0                            1  \n",
       "838856                            0                            1  \n",
       "838857                            0                            1  \n",
       "838858                            1                            0  \n",
       "838859                            1                            0  \n",
       "\n",
       "[838860 rows x 96 columns]"
      ]
     },
     "execution_count": 124,
     "metadata": {},
     "output_type": "execute_result"
    }
   ],
   "source": [
    "OHE_Categorical_Variables = pd.get_dummies(data[['Area_Service', 'Hospital County','Age', 'Gender','Cultural_group', 'ethnicity', 'Admission_type','Home or self care,','Surg_Description', 'Abortion', 'Emergency dept_yes/No']])\n",
    "OHE_Categorical_Variables "
   ]
  },
  {
   "cell_type": "code",
   "execution_count": 125,
   "id": "42ac860a",
   "metadata": {},
   "outputs": [
    {
     "data": {
      "text/plain": [
       "(838860, 101)"
      ]
     },
     "execution_count": 125,
     "metadata": {},
     "output_type": "execute_result"
    }
   ],
   "source": [
    "#combing the one hot encoded categorical variable to rest of the predictors\n",
    "join= [numerical_Variables,OHE_Categorical_Variables] \n",
    "Data = pd.concat(join,axis=1,join='inner')  \n",
    "Data.shape"
   ]
  },
  {
   "cell_type": "markdown",
   "id": "7a95154c",
   "metadata": {},
   "source": [
    "### Assigning X as predictors and y as target"
   ]
  },
  {
   "cell_type": "code",
   "execution_count": 126,
   "id": "0dcf316e",
   "metadata": {},
   "outputs": [],
   "source": [
    "X = Data.drop([\"Result\"],axis=1)  #predictors\n",
    "y = Data[\"Result\"] #target"
   ]
  },
  {
   "cell_type": "markdown",
   "id": "2f83e37a",
   "metadata": {},
   "source": [
    "### Train-Valid Split"
   ]
  },
  {
   "cell_type": "code",
   "execution_count": 127,
   "id": "12c86274",
   "metadata": {},
   "outputs": [],
   "source": [
    "from sklearn.model_selection import train_test_split\n",
    "\n",
    "# Split train set into train and validation sets (75/25 split)\n",
    "X_train, X_valid, y_train, y_valid = train_test_split(X_train_test, y_train_test, test_size=0.25, random_state=42, stratify=y_train_test)\n"
   ]
  },
  {
   "cell_type": "code",
   "execution_count": 129,
   "id": "c3776dc7",
   "metadata": {},
   "outputs": [],
   "source": [
    "from sklearn.model_selection import train_test_split\n",
    "\n",
    "# # Split dataset into train and test sets (80/20 split)\n",
    "# X_train_test, X_test, y_train_test, y_test = train_test_split(X, y, test_size=0.2, random_state=42, stratify=y)\n",
    "\n",
    "# Split train set into train and validation sets (75/25 split)\n",
    "X_train, X_valid, y_train, y_valid = train_test_split(X, y, test_size=0.25, random_state=42, stratify=y)\n"
   ]
  },
  {
   "cell_type": "markdown",
   "id": "94b056f0",
   "metadata": {},
   "source": [
    "### MODEL 1: Logistic Regression- using all variables on class imbalanced data"
   ]
  },
  {
   "cell_type": "code",
   "execution_count": 130,
   "id": "28336fa5",
   "metadata": {},
   "outputs": [
    {
     "name": "stdout",
     "output_type": "stream",
     "text": [
      "              precision    recall  f1-score   support\n",
      "\n",
      "           0       0.00      0.00      0.00     52434\n",
      "           1       0.75      1.00      0.86    157281\n",
      "\n",
      "    accuracy                           0.75    209715\n",
      "   macro avg       0.37      0.50      0.43    209715\n",
      "weighted avg       0.56      0.75      0.64    209715\n",
      "\n"
     ]
    },
    {
     "data": {
      "text/html": [
       "<div>\n",
       "<style scoped>\n",
       "    .dataframe tbody tr th:only-of-type {\n",
       "        vertical-align: middle;\n",
       "    }\n",
       "\n",
       "    .dataframe tbody tr th {\n",
       "        vertical-align: top;\n",
       "    }\n",
       "\n",
       "    .dataframe thead th {\n",
       "        text-align: right;\n",
       "    }\n",
       "</style>\n",
       "<table border=\"1\" class=\"dataframe\">\n",
       "  <thead>\n",
       "    <tr style=\"text-align: right;\">\n",
       "      <th></th>\n",
       "      <th>Logistic_Model_1</th>\n",
       "    </tr>\n",
       "  </thead>\n",
       "  <tbody>\n",
       "    <tr>\n",
       "      <th>Accuracy</th>\n",
       "      <td>0.749975</td>\n",
       "    </tr>\n",
       "    <tr>\n",
       "      <th>F1_score</th>\n",
       "      <td>0.857127</td>\n",
       "    </tr>\n",
       "    <tr>\n",
       "      <th>Recall</th>\n",
       "      <td>1.000000</td>\n",
       "    </tr>\n",
       "    <tr>\n",
       "      <th>AUROC</th>\n",
       "      <td>0.500000</td>\n",
       "    </tr>\n",
       "  </tbody>\n",
       "</table>\n",
       "</div>"
      ],
      "text/plain": [
       "          Logistic_Model_1\n",
       "Accuracy          0.749975\n",
       "F1_score          0.857127\n",
       "Recall            1.000000\n",
       "AUROC             0.500000"
      ]
     },
     "execution_count": 130,
     "metadata": {},
     "output_type": "execute_result"
    }
   ],
   "source": [
    "#Fitting Logistic Regression Model\n",
    "lr = LogisticRegression()\n",
    "lr.fit(X_train,y_train)\n",
    "\n",
    "#predictions on validation data\n",
    "pred_valid = lr.predict(X_valid)   \n",
    "pred_valid\n",
    "\n",
    "#Metrics\n",
    "Accuracy = accuracy_score(y_valid, pred_valid)\n",
    "F1_score = f1_score(y_valid, pred_valid)\n",
    "Recall_score = recall_score(y_valid, pred_valid)\n",
    "AUROC = roc_auc_score(y_valid, pred_valid)\n",
    "\n",
    "lm1 = pd.DataFrame({'Logistic_Model_1': [Accuracy,F1_score,Recall_score,AUROC]}, \n",
    "                                index=['Accuracy','F1_score','Recall','AUROC'])\n",
    "\n",
    "print(classification_report(y_valid,pred_valid))\n",
    "lm1"
   ]
  },
  {
   "cell_type": "markdown",
   "id": "d3b19543",
   "metadata": {},
   "source": [
    "### MODEL 2: Decision Tree - using all variables on class imbalanced data"
   ]
  },
  {
   "cell_type": "code",
   "execution_count": 131,
   "id": "d4ff002d",
   "metadata": {},
   "outputs": [
    {
     "name": "stdout",
     "output_type": "stream",
     "text": [
      "              precision    recall  f1-score   support\n",
      "\n",
      "           0       0.25      0.00      0.00     52434\n",
      "           1       0.75      1.00      0.86    157281\n",
      "\n",
      "    accuracy                           0.75    209715\n",
      "   macro avg       0.50      0.50      0.43    209715\n",
      "weighted avg       0.62      0.75      0.64    209715\n",
      "\n"
     ]
    },
    {
     "data": {
      "text/html": [
       "<div>\n",
       "<style scoped>\n",
       "    .dataframe tbody tr th:only-of-type {\n",
       "        vertical-align: middle;\n",
       "    }\n",
       "\n",
       "    .dataframe tbody tr th {\n",
       "        vertical-align: top;\n",
       "    }\n",
       "\n",
       "    .dataframe thead th {\n",
       "        text-align: right;\n",
       "    }\n",
       "</style>\n",
       "<table border=\"1\" class=\"dataframe\">\n",
       "  <thead>\n",
       "    <tr style=\"text-align: right;\">\n",
       "      <th></th>\n",
       "      <th>DecisionTree</th>\n",
       "    </tr>\n",
       "  </thead>\n",
       "  <tbody>\n",
       "    <tr>\n",
       "      <th>Accuracy</th>\n",
       "      <td>0.749918</td>\n",
       "    </tr>\n",
       "    <tr>\n",
       "      <th>F1_score</th>\n",
       "      <td>0.857084</td>\n",
       "    </tr>\n",
       "    <tr>\n",
       "      <th>Recall</th>\n",
       "      <td>0.999886</td>\n",
       "    </tr>\n",
       "    <tr>\n",
       "      <th>AUROC</th>\n",
       "      <td>0.500000</td>\n",
       "    </tr>\n",
       "  </tbody>\n",
       "</table>\n",
       "</div>"
      ],
      "text/plain": [
       "          DecisionTree\n",
       "Accuracy      0.749918\n",
       "F1_score      0.857084\n",
       "Recall        0.999886\n",
       "AUROC         0.500000"
      ]
     },
     "execution_count": 131,
     "metadata": {},
     "output_type": "execute_result"
    }
   ],
   "source": [
    "#Fitting Decision tree Model\n",
    "dt = DecisionTreeClassifier(max_depth=6)\n",
    "dt.fit(X_train,y_train)\n",
    "\n",
    "#predictions on validation data\n",
    "pred_valid = dt.predict(X_valid)   \n",
    "pred_valid\n",
    "\n",
    "#Metrics\n",
    "Accuracy = accuracy_score(y_valid, pred_valid)\n",
    "F1_score = f1_score(y_valid, pred_valid)\n",
    "Recall_score = recall_score(y_valid, pred_valid)\n",
    "AUROC = roc_auc_score(y_valid, pred_valid)\n",
    "\n",
    "dt = pd.DataFrame({'DecisionTree': [Accuracy,F1_score,Recall_score,AUROC]}, \n",
    "                                index=['Accuracy','F1_score','Recall','AUROC'])\n",
    "\n",
    "print(classification_report(y_valid,pred_valid))\n",
    "dt"
   ]
  },
  {
   "cell_type": "markdown",
   "id": "c339d71b",
   "metadata": {},
   "source": [
    "### MODEL 3: Random Forest - using all variables on class imbalanced data"
   ]
  },
  {
   "cell_type": "code",
   "execution_count": 132,
   "id": "34de3c81",
   "metadata": {},
   "outputs": [
    {
     "name": "stderr",
     "output_type": "stream",
     "text": [
      "\n",
      "KeyboardInterrupt\n",
      "\n"
     ]
    }
   ],
   "source": [
    "#Fitting Random Forest Model\n",
    "rf = RandomForestClassifier()\n",
    "rf.fit(X_train, y_train) \n",
    "pred = rf.predict(X_valid)\n",
    "\n",
    "#predictions on validation data\n",
    "pred_valid = rf.predict(X_valid)   \n",
    "pred_valid\n",
    "\n",
    "#Metrics\n",
    "Accuracy = accuracy_score(y_valid, pred_valid)\n",
    "F1_score = f1_score(y_valid, pred_valid)\n",
    "Recall_score = recall_score(y_valid, pred_valid)\n",
    "AUROC = roc_auc_score(y_valid, pred_valid)\n",
    "\n",
    "rf2 = pd.DataFrame({'Random_Forest_1': [Accuracy,F1_score,Recall_score,AUROC]}, \n",
    "                                index=['Accuracy','F1_score','Recall','AUROC'])\n",
    "\n",
    "#print(classification_report(y_valid,pred_valid))\n",
    "rf2"
   ]
  },
  {
   "cell_type": "markdown",
   "id": "0ffe34ad",
   "metadata": {},
   "source": [
    "### MODEL 4: Ada-Boost - using all variables on class imbalanced data"
   ]
  },
  {
   "cell_type": "code",
   "execution_count": null,
   "id": "bc952351",
   "metadata": {},
   "outputs": [],
   "source": [
    "#Fitting Adaboost Model\n",
    "ada_boost = AdaBoostClassifier()\n",
    "ada_boost.fit(X_train, y_train) \n",
    "pred = ada_boost.predict(X_valid)\n",
    "\n",
    "#predictions on validation data\n",
    "pred_valid = ada_boost.predict(X_valid)   \n",
    "pred_valid\n",
    "\n",
    "#Metrics\n",
    "Accuracy = accuracy_score(y_valid, pred_valid)\n",
    "F1_score = f1_score(y_valid, pred_valid)\n",
    "Recall_score = recall_score(y_valid, pred_valid)\n",
    "AUROC = roc_auc_score(y_valid, pred_valid)\n",
    "\n",
    "adb2 = pd.DataFrame({'Adaboost_1': [Accuracy,F1_score,Recall_score,AUROC]}, \n",
    "                                index=['Accuracy','F1_score','Recall','AUROC'])\n",
    "\n",
    "#print(classification_report(y_valid,pred_valid))\n",
    "adb2"
   ]
  },
  {
   "cell_type": "markdown",
   "id": "ebee5aa5",
   "metadata": {},
   "source": [
    "### Class-Balancing  using SMOTE"
   ]
  },
  {
   "cell_type": "code",
   "execution_count": 133,
   "id": "8710e84a",
   "metadata": {},
   "outputs": [
    {
     "name": "stderr",
     "output_type": "stream",
     "text": [
      "\n",
      "KeyboardInterrupt\n",
      "\n"
     ]
    }
   ],
   "source": [
    "from imblearn.over_sampling import SMOTE\n",
    "sm = SMOTE(random_state = 2)\n",
    "X_train_res, y_train_res = sm.fit_resample(X_train, y_train.ravel())"
   ]
  },
  {
   "cell_type": "code",
   "execution_count": 23,
   "id": "2715a62c",
   "metadata": {},
   "outputs": [
    {
     "data": {
      "text/plain": [
       "0    469312\n",
       "1    156944\n",
       "Name: Result, dtype: int64"
      ]
     },
     "execution_count": 23,
     "metadata": {},
     "output_type": "execute_result"
    }
   ],
   "source": [
    "y_train.value_counts() #Class imbalanced data"
   ]
  },
  {
   "cell_type": "code",
   "execution_count": 24,
   "id": "a6928637",
   "metadata": {},
   "outputs": [],
   "source": [
    "y_train1 = pd.DataFrame(y_train_res)\n",
    "X_train1 = pd.DataFrame(X_train_res)"
   ]
  },
  {
   "cell_type": "code",
   "execution_count": 25,
   "id": "5a47620a",
   "metadata": {},
   "outputs": [
    {
     "data": {
      "text/plain": [
       "0    469312\n",
       "1    156944\n",
       "Name: Result, dtype: int64"
      ]
     },
     "execution_count": 25,
     "metadata": {},
     "output_type": "execute_result"
    }
   ],
   "source": [
    "y_train.value_counts() #Oversampling using smote balanced the class"
   ]
  },
  {
   "cell_type": "markdown",
   "id": "a7546449",
   "metadata": {},
   "source": [
    "### MODEL 5: Logistic Regression- using selected features on class balanced data\n"
   ]
  },
  {
   "cell_type": "code",
   "execution_count": 125,
   "id": "4fd01ae2",
   "metadata": {},
   "outputs": [
    {
     "name": "stdout",
     "output_type": "stream",
     "text": [
      "              precision    recall  f1-score   support\n",
      "\n",
      "           0       0.75      0.68      0.71    156684\n",
      "           1       0.25      0.32      0.28     52068\n",
      "\n",
      "    accuracy                           0.59    208752\n",
      "   macro avg       0.50      0.50      0.50    208752\n",
      "weighted avg       0.63      0.59      0.60    208752\n",
      "\n"
     ]
    },
    {
     "data": {
      "text/html": [
       "<div>\n",
       "<style scoped>\n",
       "    .dataframe tbody tr th:only-of-type {\n",
       "        vertical-align: middle;\n",
       "    }\n",
       "\n",
       "    .dataframe tbody tr th {\n",
       "        vertical-align: top;\n",
       "    }\n",
       "\n",
       "    .dataframe thead th {\n",
       "        text-align: right;\n",
       "    }\n",
       "</style>\n",
       "<table border=\"1\" class=\"dataframe\">\n",
       "  <thead>\n",
       "    <tr style=\"text-align: right;\">\n",
       "      <th></th>\n",
       "      <th>Logistic_Model_2</th>\n",
       "    </tr>\n",
       "  </thead>\n",
       "  <tbody>\n",
       "    <tr>\n",
       "      <th>Accuracy</th>\n",
       "      <td>0.587774</td>\n",
       "    </tr>\n",
       "    <tr>\n",
       "      <th>F1_score</th>\n",
       "      <td>0.281832</td>\n",
       "    </tr>\n",
       "    <tr>\n",
       "      <th>Recall</th>\n",
       "      <td>0.324287</td>\n",
       "    </tr>\n",
       "    <tr>\n",
       "      <th>AUROC</th>\n",
       "      <td>0.499811</td>\n",
       "    </tr>\n",
       "  </tbody>\n",
       "</table>\n",
       "</div>"
      ],
      "text/plain": [
       "          Logistic_Model_2\n",
       "Accuracy          0.587774\n",
       "F1_score          0.281832\n",
       "Recall            0.324287\n",
       "AUROC             0.499811"
      ]
     },
     "execution_count": 125,
     "metadata": {},
     "output_type": "execute_result"
    }
   ],
   "source": [
    "#Fitting Logistic Regression Model\n",
    "lr = LogisticRegression()\n",
    "lr.fit(X_train1,y_train1)\n",
    "\n",
    "#predictions on validation data\n",
    "pred_valid = lr.predict(X_valid)   \n",
    "pred_valid\n",
    "\n",
    "#Metrics\n",
    "Accuracy = accuracy_score(y_valid, pred_valid)\n",
    "F1_score = f1_score(y_valid, pred_valid)\n",
    "Recall_score = recall_score(y_valid, pred_valid)\n",
    "AUROC = roc_auc_score(y_valid, pred_valid)\n",
    "\n",
    "lm2 = pd.DataFrame({'Logistic_Model_2': [Accuracy,F1_score,Recall_score,AUROC]}, \n",
    "                                index=['Accuracy','F1_score','Recall','AUROC'])\n",
    "\n",
    "print(classification_report(y_valid,pred_valid))\n",
    "lm2"
   ]
  },
  {
   "cell_type": "markdown",
   "id": "c57ddf4e",
   "metadata": {},
   "source": [
    "### MODEL 6: Decision Tree - using all features on class balanced data"
   ]
  },
  {
   "cell_type": "code",
   "execution_count": 126,
   "id": "547d1ff7",
   "metadata": {},
   "outputs": [
    {
     "name": "stdout",
     "output_type": "stream",
     "text": [
      "              precision    recall  f1-score   support\n",
      "\n",
      "           0       0.75      0.96      0.84    156684\n",
      "           1       0.25      0.04      0.07     52068\n",
      "\n",
      "    accuracy                           0.73    208752\n",
      "   macro avg       0.50      0.50      0.46    208752\n",
      "weighted avg       0.63      0.73      0.65    208752\n",
      "\n"
     ]
    },
    {
     "data": {
      "text/html": [
       "<div>\n",
       "<style scoped>\n",
       "    .dataframe tbody tr th:only-of-type {\n",
       "        vertical-align: middle;\n",
       "    }\n",
       "\n",
       "    .dataframe tbody tr th {\n",
       "        vertical-align: top;\n",
       "    }\n",
       "\n",
       "    .dataframe thead th {\n",
       "        text-align: right;\n",
       "    }\n",
       "</style>\n",
       "<table border=\"1\" class=\"dataframe\">\n",
       "  <thead>\n",
       "    <tr style=\"text-align: right;\">\n",
       "      <th></th>\n",
       "      <th>DecisionTree2</th>\n",
       "    </tr>\n",
       "  </thead>\n",
       "  <tbody>\n",
       "    <tr>\n",
       "      <th>Accuracy</th>\n",
       "      <td>0.730599</td>\n",
       "    </tr>\n",
       "    <tr>\n",
       "      <th>F1_score</th>\n",
       "      <td>0.071643</td>\n",
       "    </tr>\n",
       "    <tr>\n",
       "      <th>Recall</th>\n",
       "      <td>0.041676</td>\n",
       "    </tr>\n",
       "    <tr>\n",
       "      <th>AUROC</th>\n",
       "      <td>0.500606</td>\n",
       "    </tr>\n",
       "  </tbody>\n",
       "</table>\n",
       "</div>"
      ],
      "text/plain": [
       "          DecisionTree2\n",
       "Accuracy       0.730599\n",
       "F1_score       0.071643\n",
       "Recall         0.041676\n",
       "AUROC          0.500606"
      ]
     },
     "execution_count": 126,
     "metadata": {},
     "output_type": "execute_result"
    }
   ],
   "source": [
    "#Fitting Decision tree Model\n",
    "dt = DecisionTreeClassifier(max_depth=6)\n",
    "dt.fit(X_train1,y_train1)\n",
    "\n",
    "#predictions on validation data\n",
    "pred_valid = dt.predict(X_valid)   \n",
    "pred_valid\n",
    "\n",
    "#Metrics\n",
    "Accuracy = accuracy_score(y_valid, pred_valid)\n",
    "F1_score = f1_score(y_valid, pred_valid)\n",
    "Recall_score = recall_score(y_valid, pred_valid)\n",
    "AUROC = roc_auc_score(y_valid, pred_valid)\n",
    "\n",
    "dt = pd.DataFrame({'DecisionTree2': [Accuracy,F1_score,Recall_score,AUROC]}, \n",
    "                                index=['Accuracy','F1_score','Recall','AUROC'])\n",
    "\n",
    "print(classification_report(y_valid,pred_valid))\n",
    "dt"
   ]
  },
  {
   "cell_type": "markdown",
   "id": "bd242af6",
   "metadata": {},
   "source": [
    "### MODEL 7: Ada-boost -  using all variables on class balanced data"
   ]
  },
  {
   "cell_type": "code",
   "execution_count": 127,
   "id": "97a054a2",
   "metadata": {},
   "outputs": [
    {
     "data": {
      "text/html": [
       "<div>\n",
       "<style scoped>\n",
       "    .dataframe tbody tr th:only-of-type {\n",
       "        vertical-align: middle;\n",
       "    }\n",
       "\n",
       "    .dataframe tbody tr th {\n",
       "        vertical-align: top;\n",
       "    }\n",
       "\n",
       "    .dataframe thead th {\n",
       "        text-align: right;\n",
       "    }\n",
       "</style>\n",
       "<table border=\"1\" class=\"dataframe\">\n",
       "  <thead>\n",
       "    <tr style=\"text-align: right;\">\n",
       "      <th></th>\n",
       "      <th>Adaboost_2</th>\n",
       "    </tr>\n",
       "  </thead>\n",
       "  <tbody>\n",
       "    <tr>\n",
       "      <th>Accuracy</th>\n",
       "      <td>0.737574</td>\n",
       "    </tr>\n",
       "    <tr>\n",
       "      <th>F1_score</th>\n",
       "      <td>0.046573</td>\n",
       "    </tr>\n",
       "    <tr>\n",
       "      <th>Recall</th>\n",
       "      <td>0.025697</td>\n",
       "    </tr>\n",
       "    <tr>\n",
       "      <th>AUROC</th>\n",
       "      <td>0.499918</td>\n",
       "    </tr>\n",
       "  </tbody>\n",
       "</table>\n",
       "</div>"
      ],
      "text/plain": [
       "          Adaboost_2\n",
       "Accuracy    0.737574\n",
       "F1_score    0.046573\n",
       "Recall      0.025697\n",
       "AUROC       0.499918"
      ]
     },
     "execution_count": 127,
     "metadata": {},
     "output_type": "execute_result"
    }
   ],
   "source": [
    "#Fitting Adaboost Model\n",
    "ada_boost = AdaBoostClassifier()\n",
    "ada_boost.fit(X_train1, y_train1) \n",
    "pred = ada_boost.predict(X_valid)\n",
    "\n",
    "#predictions on validation data\n",
    "pred_valid = ada_boost.predict(X_valid)   \n",
    "pred_valid\n",
    "\n",
    "#Metrics\n",
    "Accuracy = accuracy_score(y_valid, pred_valid)\n",
    "F1_score = f1_score(y_valid, pred_valid)\n",
    "Recall_score = recall_score(y_valid, pred_valid)\n",
    "AUROC = roc_auc_score(y_valid, pred_valid)\n",
    "\n",
    "adb2 = pd.DataFrame({'Adaboost_2': [Accuracy,F1_score,Recall_score,AUROC]}, \n",
    "                                index=['Accuracy','F1_score','Recall','AUROC'])\n",
    "\n",
    "#print(classification_report(y_valid,pred_valid))\n",
    "adb2"
   ]
  },
  {
   "cell_type": "markdown",
   "id": "9de96e74",
   "metadata": {},
   "source": [
    "### MODEL 8: Random Forest - using all variables on class balanced data"
   ]
  },
  {
   "cell_type": "code",
   "execution_count": 128,
   "id": "844d67f5",
   "metadata": {},
   "outputs": [
    {
     "data": {
      "text/html": [
       "<div>\n",
       "<style scoped>\n",
       "    .dataframe tbody tr th:only-of-type {\n",
       "        vertical-align: middle;\n",
       "    }\n",
       "\n",
       "    .dataframe tbody tr th {\n",
       "        vertical-align: top;\n",
       "    }\n",
       "\n",
       "    .dataframe thead th {\n",
       "        text-align: right;\n",
       "    }\n",
       "</style>\n",
       "<table border=\"1\" class=\"dataframe\">\n",
       "  <thead>\n",
       "    <tr style=\"text-align: right;\">\n",
       "      <th></th>\n",
       "      <th>Random_Forest_2</th>\n",
       "    </tr>\n",
       "  </thead>\n",
       "  <tbody>\n",
       "    <tr>\n",
       "      <th>Accuracy</th>\n",
       "      <td>0.719845</td>\n",
       "    </tr>\n",
       "    <tr>\n",
       "      <th>F1_score</th>\n",
       "      <td>0.092119</td>\n",
       "    </tr>\n",
       "    <tr>\n",
       "      <th>Recall</th>\n",
       "      <td>0.056983</td>\n",
       "    </tr>\n",
       "    <tr>\n",
       "      <th>AUROC</th>\n",
       "      <td>0.498552</td>\n",
       "    </tr>\n",
       "  </tbody>\n",
       "</table>\n",
       "</div>"
      ],
      "text/plain": [
       "          Random_Forest_2\n",
       "Accuracy         0.719845\n",
       "F1_score         0.092119\n",
       "Recall           0.056983\n",
       "AUROC            0.498552"
      ]
     },
     "execution_count": 128,
     "metadata": {},
     "output_type": "execute_result"
    }
   ],
   "source": [
    "#Fitting Random Forest Model\n",
    "rf = RandomForestClassifier()\n",
    "rf.fit(X_train1, y_train1) \n",
    "pred = rf.predict(X_valid)\n",
    "\n",
    "#predictions on validation data\n",
    "pred_valid = rf.predict(X_valid)   \n",
    "pred_valid\n",
    "\n",
    "#Metrics\n",
    "Accuracy = accuracy_score(y_valid, pred_valid)\n",
    "F1_score = f1_score(y_valid, pred_valid)\n",
    "Recall_score = recall_score(y_valid, pred_valid)\n",
    "AUROC = roc_auc_score(y_valid, pred_valid)\n",
    "\n",
    "rf2 = pd.DataFrame({'Random_Forest_2': [Accuracy,F1_score,Recall_score,AUROC]}, \n",
    "                                index=['Accuracy','F1_score','Recall','AUROC'])\n",
    "\n",
    "#print(classification_report(y_valid,pred_valid))\n",
    "rf2"
   ]
  },
  {
   "cell_type": "markdown",
   "id": "65efa95d",
   "metadata": {},
   "source": [
    "### Feature selection using random forest"
   ]
  },
  {
   "cell_type": "code",
   "execution_count": 147,
   "id": "cd78e934",
   "metadata": {},
   "outputs": [
    {
     "name": "stderr",
     "output_type": "stream",
     "text": [
      "\n",
      "KeyboardInterrupt\n",
      "\n"
     ]
    }
   ],
   "source": [
    "from sklearn.feature_selection import SelectFromModel\n",
    "sel = SelectFromModel(RandomForestClassifier(n_estimators = 100))\n",
    "sel.fit(X_train2, y_train2)\n",
    "sel.get_support()\n",
    "selected_feat= X_train2.columns[(sel.get_support())]\n",
    "len(selected_feat)\n",
    "print(selected_feat)"
   ]
  },
  {
   "cell_type": "markdown",
   "id": "f3223b51",
   "metadata": {},
   "source": [
    "### RANDOM FOREST For Class Imbalanced Data and Selected Features"
   ]
  },
  {
   "cell_type": "code",
   "execution_count": 97,
   "id": "03b2fdf0",
   "metadata": {},
   "outputs": [
    {
     "name": "stdout",
     "output_type": "stream",
     "text": [
      "              precision    recall  f1-score   support\n",
      "\n",
      "           0       0.25      0.10      0.15     52315\n",
      "           1       0.75      0.90      0.82    156438\n",
      "\n",
      "    accuracy                           0.70    208753\n",
      "   macro avg       0.50      0.50      0.48    208753\n",
      "weighted avg       0.62      0.70      0.65    208753\n",
      "\n"
     ]
    },
    {
     "data": {
      "text/html": [
       "<div>\n",
       "<style scoped>\n",
       "    .dataframe tbody tr th:only-of-type {\n",
       "        vertical-align: middle;\n",
       "    }\n",
       "\n",
       "    .dataframe tbody tr th {\n",
       "        vertical-align: top;\n",
       "    }\n",
       "\n",
       "    .dataframe thead th {\n",
       "        text-align: right;\n",
       "    }\n",
       "</style>\n",
       "<table border=\"1\" class=\"dataframe\">\n",
       "  <thead>\n",
       "    <tr style=\"text-align: right;\">\n",
       "      <th></th>\n",
       "      <th>Random Forest For Class Imbalanced Data and Selected Features</th>\n",
       "    </tr>\n",
       "  </thead>\n",
       "  <tbody>\n",
       "    <tr>\n",
       "      <th>F1_score</th>\n",
       "      <td>0.817037</td>\n",
       "    </tr>\n",
       "    <tr>\n",
       "      <th>Accuracy</th>\n",
       "      <td>0.698601</td>\n",
       "    </tr>\n",
       "    <tr>\n",
       "      <th>AUC-ROC</th>\n",
       "      <td>0.500157</td>\n",
       "    </tr>\n",
       "  </tbody>\n",
       "</table>\n",
       "</div>"
      ],
      "text/plain": [
       "          Random Forest For Class Imbalanced Data and Selected Features\n",
       "F1_score                                           0.817037            \n",
       "Accuracy                                           0.698601            \n",
       "AUC-ROC                                            0.500157            "
      ]
     },
     "execution_count": 97,
     "metadata": {},
     "output_type": "execute_result"
    }
   ],
   "source": [
    "X_train=X_train[['Code_illness', 'Mortality risk', 'Weight_baby',\n",
    "       'Tot_charg', 'Tot_cost', 'ratio_of_total_costs_to_total_charges',\n",
    "       'Payment_Typology']]\n",
    "X_test=X_test[['Code_illness', 'Mortality risk', 'Weight_baby',\n",
    "       'Tot_charg', 'Tot_cost', 'ratio_of_total_costs_to_total_charges',\n",
    "       'Payment_Typology']]\n",
    "\n",
    "rf = RandomForestClassifier()\n",
    "rf.fit(X_train,y_train)\n",
    "pred_test = rf.predict(X_test)   #predictions on transformed validation data\n",
    "\n",
    "F1_score = f1_score((y_test),(pred_test))\n",
    "accuracy = accuracy_score((y_test),(pred_test))\n",
    "auc_roc=roc_auc_score((y_test),(pred_test))\n",
    "Metric=pd.DataFrame({'Random Forest For Class Imbalanced Data and Selected Features': [F1_score,accuracy,auc_roc]},\n",
    "                    index=['F1_score','Accuracy','AUC-ROC'])\n",
    "print(classification_report((y_test),(pred_test)))\n",
    "Metric"
   ]
  }
 ],
 "metadata": {
  "kernelspec": {
   "display_name": "Python 3 (ipykernel)",
   "language": "python",
   "name": "python3"
  },
  "language_info": {
   "codemirror_mode": {
    "name": "ipython",
    "version": 3
   },
   "file_extension": ".py",
   "mimetype": "text/x-python",
   "name": "python",
   "nbconvert_exporter": "python",
   "pygments_lexer": "ipython3",
   "version": "3.9.12"
  }
 },
 "nbformat": 4,
 "nbformat_minor": 5
}
